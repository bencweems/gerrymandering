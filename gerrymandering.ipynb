{
  "nbformat": 4,
  "nbformat_minor": 0,
  "metadata": {
    "kernelspec": {
      "display_name": "Python 3",
      "language": "python",
      "name": "python3"
    },
    "language_info": {
      "codemirror_mode": {
        "name": "ipython",
        "version": 3
      },
      "file_extension": ".py",
      "mimetype": "text/x-python",
      "name": "python",
      "nbconvert_exporter": "python",
      "pygments_lexer": "ipython3",
      "version": "3.7.6"
    },
    "colab": {
      "name": "gerrymandering.ipynb",
      "provenance": [],
      "include_colab_link": true
    }
  },
  "cells": [
    {
      "cell_type": "markdown",
      "metadata": {
        "id": "view-in-github",
        "colab_type": "text"
      },
      "source": [
        "<a href=\"https://colab.research.google.com/github/bencweems/gerrymandering/blob/master/gerrymandering.ipynb\" target=\"_parent\"><img src=\"https://colab.research.google.com/assets/colab-badge.svg\" alt=\"Open In Colab\"/></a>"
      ]
    },
    {
      "cell_type": "code",
      "metadata": {
        "id": "cdWJuj0ecVRn",
        "colab_type": "code",
        "colab": {}
      },
      "source": [
        "import csv\n",
        "import pandas as pd"
      ],
      "execution_count": null,
      "outputs": []
    },
    {
      "cell_type": "code",
      "metadata": {
        "id": "ouTrQuxDcVRr",
        "colab_type": "code",
        "colab": {}
      },
      "source": [
        "all_data = pd.read_csv('1976-2018-house2.csv')"
      ],
      "execution_count": null,
      "outputs": []
    },
    {
      "cell_type": "code",
      "metadata": {
        "id": "LUujOq_fcVRt",
        "colab_type": "code",
        "colab": {}
      },
      "source": [
        "results_2018 = all_data[all_data['year'] == 2018]"
      ],
      "execution_count": null,
      "outputs": []
    },
    {
      "cell_type": "code",
      "metadata": {
        "id": "Vqk8hoWncVRw",
        "colab_type": "code",
        "colab": {}
      },
      "source": [
        "results_2018_dr = results_2018[(results_2018.party == 'democrat') | (results_2018.party == 'republican')]"
      ],
      "execution_count": null,
      "outputs": []
    },
    {
      "cell_type": "code",
      "metadata": {
        "id": "HJ_ClJzycVRy",
        "colab_type": "code",
        "colab": {}
      },
      "source": [
        "results_2018_dr = results_2018_dr[['year', 'state', 'district', 'party', 'candidatevotes', 'totalvotes']].copy()"
      ],
      "execution_count": null,
      "outputs": []
    },
    {
      "cell_type": "code",
      "metadata": {
        "id": "uiGp_upncVR0",
        "colab_type": "code",
        "colab": {}
      },
      "source": [
        "def get_pct(row, party):\n",
        "    if row['party'] == party and row['totalvotes']:\n",
        "        return 100 * row['candidatevotes'] / row['totalvotes']\n",
        "    return 0"
      ],
      "execution_count": null,
      "outputs": []
    },
    {
      "cell_type": "code",
      "metadata": {
        "id": "0ElMKy51cVR2",
        "colab_type": "code",
        "colab": {}
      },
      "source": [
        "results_2018_pct = results_2018_dr[['year', 'state', 'district', 'dem_pct', 'rep_pct']].copy()"
      ],
      "execution_count": null,
      "outputs": []
    },
    {
      "cell_type": "code",
      "metadata": {
        "id": "3V9F3rDvcVR5",
        "colab_type": "code",
        "colab": {}
      },
      "source": [
        "results_2018_pct = results_2018_pct.groupby(by=['year', 'state', 'district']).sum()"
      ],
      "execution_count": null,
      "outputs": []
    },
    {
      "cell_type": "code",
      "metadata": {
        "id": "4EaBBFrmcVR7",
        "colab_type": "code",
        "colab": {},
        "outputId": "0d996e83-4eba-4940-f598-e6d3f477ad3f"
      },
      "source": [
        "results_2018_pct"
      ],
      "execution_count": null,
      "outputs": [
        {
          "output_type": "execute_result",
          "data": {
            "text/html": [
              "<div>\n",
              "<style scoped>\n",
              "    .dataframe tbody tr th:only-of-type {\n",
              "        vertical-align: middle;\n",
              "    }\n",
              "\n",
              "    .dataframe tbody tr th {\n",
              "        vertical-align: top;\n",
              "    }\n",
              "\n",
              "    .dataframe thead th {\n",
              "        text-align: right;\n",
              "    }\n",
              "</style>\n",
              "<table border=\"1\" class=\"dataframe\">\n",
              "  <thead>\n",
              "    <tr style=\"text-align: right;\">\n",
              "      <th></th>\n",
              "      <th></th>\n",
              "      <th></th>\n",
              "      <th>dem_pct</th>\n",
              "      <th>rep_pct</th>\n",
              "    </tr>\n",
              "    <tr>\n",
              "      <th>year</th>\n",
              "      <th>state</th>\n",
              "      <th>district</th>\n",
              "      <th></th>\n",
              "      <th></th>\n",
              "    </tr>\n",
              "  </thead>\n",
              "  <tbody>\n",
              "    <tr>\n",
              "      <th rowspan=\"11\" valign=\"top\">2018</th>\n",
              "      <th rowspan=\"5\" valign=\"top\">Alabama</th>\n",
              "      <th>1</th>\n",
              "      <td>36.776483</td>\n",
              "      <td>63.156333</td>\n",
              "    </tr>\n",
              "    <tr>\n",
              "      <th>2</th>\n",
              "      <td>38.425938</td>\n",
              "      <td>61.388410</td>\n",
              "    </tr>\n",
              "    <tr>\n",
              "      <th>3</th>\n",
              "      <td>36.218442</td>\n",
              "      <td>63.717310</td>\n",
              "    </tr>\n",
              "    <tr>\n",
              "      <th>4</th>\n",
              "      <td>20.129108</td>\n",
              "      <td>79.774775</td>\n",
              "    </tr>\n",
              "    <tr>\n",
              "      <th>5</th>\n",
              "      <td>38.894707</td>\n",
              "      <td>61.020129</td>\n",
              "    </tr>\n",
              "    <tr>\n",
              "      <th>...</th>\n",
              "      <th>...</th>\n",
              "      <td>...</td>\n",
              "      <td>...</td>\n",
              "    </tr>\n",
              "    <tr>\n",
              "      <th rowspan=\"4\" valign=\"top\">Wisconsin</th>\n",
              "      <th>5</th>\n",
              "      <td>37.987801</td>\n",
              "      <td>61.934239</td>\n",
              "    </tr>\n",
              "    <tr>\n",
              "      <th>6</th>\n",
              "      <td>44.463723</td>\n",
              "      <td>55.469214</td>\n",
              "    </tr>\n",
              "    <tr>\n",
              "      <th>7</th>\n",
              "      <td>38.504213</td>\n",
              "      <td>60.110581</td>\n",
              "    </tr>\n",
              "    <tr>\n",
              "      <th>8</th>\n",
              "      <td>36.275679</td>\n",
              "      <td>63.694209</td>\n",
              "    </tr>\n",
              "    <tr>\n",
              "      <th>Wyoming</th>\n",
              "      <th>0</th>\n",
              "      <td>29.766205</td>\n",
              "      <td>63.585679</td>\n",
              "    </tr>\n",
              "  </tbody>\n",
              "</table>\n",
              "<p>435 rows × 2 columns</p>\n",
              "</div>"
            ],
            "text/plain": [
              "                           dem_pct    rep_pct\n",
              "year state     district                      \n",
              "2018 Alabama   1         36.776483  63.156333\n",
              "               2         38.425938  61.388410\n",
              "               3         36.218442  63.717310\n",
              "               4         20.129108  79.774775\n",
              "               5         38.894707  61.020129\n",
              "...                            ...        ...\n",
              "     Wisconsin 5         37.987801  61.934239\n",
              "               6         44.463723  55.469214\n",
              "               7         38.504213  60.110581\n",
              "               8         36.275679  63.694209\n",
              "     Wyoming   0         29.766205  63.585679\n",
              "\n",
              "[435 rows x 2 columns]"
            ]
          },
          "metadata": {
            "tags": []
          },
          "execution_count": 59
        }
      ]
    },
    {
      "cell_type": "code",
      "metadata": {
        "id": "3tja0_ctcVR-",
        "colab_type": "code",
        "colab": {}
      },
      "source": [
        "def get_pct_results(data, year):\n",
        "    results_2018 = data[data['year'] == year]\n",
        "    results_2018_dr = results_2018[(results_2018.party == 'democrat') | (results_2018.party == 'republican')]\n",
        "    results_2018_dr_proj = results_2018_dr[['year', 'state', 'district', 'party', 'candidatevotes', 'totalvotes']].copy()\n",
        "    results_2018_dr_proj['dem_pct'] = results_2018_dr_proj.apply(lambda row : get_pct(row, 'democrat'), axis=1)\n",
        "    results_2018_dr_proj['rep_pct'] = results_2018_dr_proj.apply(lambda row : get_pct(row, 'republican'), axis=1)\n",
        "    d_rows = results\n",
        "    results_2018_pct_proj = results_2018_dr_proj[['year', 'state', 'district', 'dem_pct', 'rep_pct']].copy()\n",
        "    results_2018_pct = results_2018_pct_proj.groupby(by=['year', 'state', 'district']).sum()\n",
        "    results_2018_pct['rep_margin'] = results_2018_pct['rep_pct'] - results_2018_pct['dem_pct']\n",
        "    return results_2018_pct, "
      ],
      "execution_count": null,
      "outputs": []
    },
    {
      "cell_type": "code",
      "metadata": {
        "id": "-aWHRqeRcVSA",
        "colab_type": "code",
        "colab": {}
      },
      "source": [
        "from collections import defaultdict\n",
        "\n",
        "results = defaultdict(dict)\n",
        "for year in range(1976, 2020, 2):\n",
        "    results[year]['results'] = get_pct_results(all_data, year)"
      ],
      "execution_count": null,
      "outputs": []
    },
    {
      "cell_type": "code",
      "metadata": {
        "id": "AHUT2WSlcVSC",
        "colab_type": "code",
        "colab": {}
      },
      "source": [
        "def get_total_votes_by_party(data, party, year):\n",
        "    rows = data[(data['year'] == year) & (all_data['party'] == party)]\n",
        "    return rows['candidatevotes'].sum()\n",
        "\n",
        "def get_total_votes(data, year):\n",
        "    rows = data[(data['year'] == year)]\n",
        "    return rows['candidatevotes'].sum()"
      ],
      "execution_count": null,
      "outputs": []
    },
    {
      "cell_type": "code",
      "metadata": {
        "id": "t4oZkOdtcVSE",
        "colab_type": "code",
        "colab": {},
        "outputId": "7ec590ee-4fef-47df-d27e-48b5dabc4cb1"
      },
      "source": [
        "get_total_votes(all_data, 2018)"
      ],
      "execution_count": null,
      "outputs": [
        {
          "output_type": "execute_result",
          "data": {
            "text/plain": [
              "113688301"
            ]
          },
          "metadata": {
            "tags": []
          },
          "execution_count": 167
        }
      ]
    },
    {
      "cell_type": "code",
      "metadata": {
        "id": "_bZLsBRycVSG",
        "colab_type": "code",
        "colab": {}
      },
      "source": [
        "for year in range(1976, 2020, 2):\n",
        "    results[year]['total_dem'] = get_total_votes_by_party(all_data, 'democrat', year)\n",
        "    results[year]['total_rep'] = get_total_votes_by_party(all_data, 'republican', year)\n",
        "    results[year]['total'] = get_total_votes(all_data, year)"
      ],
      "execution_count": null,
      "outputs": []
    },
    {
      "cell_type": "code",
      "metadata": {
        "id": "SecVyCa_cVSI",
        "colab_type": "code",
        "colab": {}
      },
      "source": [
        "import sys\n",
        "!{sys.executable} -m pip install plotly\n",
        "\n",
        "from plotly.offline import init_notebook_mode, iplot\n",
        "from plotly.graph_objs import *\n",
        "\n",
        "init_notebook_mode(connected=True)"
      ],
      "execution_count": null,
      "outputs": []
    },
    {
      "cell_type": "code",
      "metadata": {
        "id": "OP52SxdOcVSL",
        "colab_type": "code",
        "colab": {}
      },
      "source": [
        "from collections import Counter\n",
        "\n",
        "by_pct = Counter()\n",
        "for row in results[2018]['results'][0].iterrows():\n",
        "    by_pct[int(row[1]['rep_margin'] - national_rep_margin_2018)] += 1"
      ],
      "execution_count": null,
      "outputs": []
    },
    {
      "cell_type": "code",
      "metadata": {
        "id": "VGLl5iUqcVSN",
        "colab_type": "code",
        "colab": {}
      },
      "source": [
        "from collections import OrderedDict\n",
        "\n",
        "# Note: Not Normalized\n",
        "def smooth(dist, width = 4):\n",
        "    print(width)\n",
        "    def get_pos(key):\n",
        "        total = dist[key]\n",
        "        for i in range(1, width):\n",
        "            total += dist.get(key - i, 0) / ( 1 ** i)\n",
        "            total += dist.get(key + i, 0) / ( 1 ** i)\n",
        "        return total / (2 * width + 1)\n",
        "    return {key: get_pos(key) for key in dist.keys()}\n",
        "\n",
        "\n",
        "def normalize_weights(weights, normalized_sum = 1):\n",
        "    total = sum(weights.values())\n",
        "    return {key: normalized_sum * val / total for key, val in weights.items()}"
      ],
      "execution_count": null,
      "outputs": []
    },
    {
      "cell_type": "code",
      "metadata": {
        "id": "J2Wk9ksEcVSP",
        "colab_type": "code",
        "colab": {},
        "outputId": "cb77428c-435d-4af2-f99c-31e030d4550c"
      },
      "source": [
        "smoothed_by_pct = normalize_weights(smooth(by_pct, 5), 435)\n",
        "sorted_by_pct = OrderedDict(sorted(smoothed_by_pct.items()))"
      ],
      "execution_count": null,
      "outputs": [
        {
          "output_type": "stream",
          "text": [
            "5\n"
          ],
          "name": "stdout"
        }
      ]
    },
    {
      "cell_type": "code",
      "metadata": {
        "id": "mY2vJtQIcVSS",
        "colab_type": "code",
        "colab": {},
        "outputId": "bc3ae97c-2208-46bf-f8f5-e119d2d3c787"
      },
      "source": [
        "trace0 = Scatter(x = list(sorted_by_pct.keys()), y = list(sorted_by_pct.values()))\n",
        "data = Data([trace0])\n",
        "iplot(data)"
      ],
      "execution_count": null,
      "outputs": [
        {
          "output_type": "display_data",
          "data": {
            "application/vnd.plotly.v1+json": {
              "config": {
                "linkText": "Export to plot.ly",
                "plotlyServerURL": "https://plot.ly",
                "showLink": false
              },
              "data": [
                {
                  "type": "scatter",
                  "x": [
                    -92,
                    -91,
                    -90,
                    -87,
                    -84,
                    -83,
                    -82,
                    -81,
                    -79,
                    -78,
                    -77,
                    -75,
                    -74,
                    -73,
                    -71,
                    -70,
                    -68,
                    -66,
                    -65,
                    -64,
                    -62,
                    -59,
                    -57,
                    -56,
                    -54,
                    -53,
                    -52,
                    -51,
                    -50,
                    -49,
                    -48,
                    -47,
                    -46,
                    -45,
                    -44,
                    -43,
                    -42,
                    -41,
                    -40,
                    -39,
                    -38,
                    -36,
                    -35,
                    -34,
                    -33,
                    -32,
                    -31,
                    -30,
                    -28,
                    -27,
                    -26,
                    -24,
                    -23,
                    -22,
                    -21,
                    -20,
                    -19,
                    -18,
                    -17,
                    -16,
                    -15,
                    -14,
                    -13,
                    -12,
                    -11,
                    -10,
                    -9,
                    -8,
                    -7,
                    -6,
                    -5,
                    -4,
                    -3,
                    -2,
                    -1,
                    0,
                    1,
                    2,
                    3,
                    4,
                    5,
                    6,
                    7,
                    8,
                    9,
                    10,
                    11,
                    12,
                    13,
                    14,
                    15,
                    16,
                    17,
                    18,
                    19,
                    20,
                    21,
                    22,
                    23,
                    24,
                    25,
                    26,
                    27,
                    28,
                    29,
                    30,
                    31,
                    32,
                    33,
                    34,
                    35,
                    36,
                    37,
                    38,
                    39,
                    40,
                    41,
                    42,
                    43,
                    44,
                    45,
                    47,
                    48,
                    49,
                    51,
                    52,
                    53,
                    54,
                    55,
                    57,
                    59,
                    60,
                    63,
                    65,
                    66,
                    67,
                    68,
                    71,
                    107
                  ],
                  "y": [
                    9.751686235323511,
                    3.540719460404698,
                    4.348488633524858,
                    1.437172120909319,
                    1.228578566075444,
                    1.5740694479140653,
                    1.3478641019235582,
                    1.8151386460154897,
                    1.662628028978267,
                    1.8850861853609804,
                    2.4624031976017995,
                    1.543342493130153,
                    1.6501373969522866,
                    1.8900824381713723,
                    1.3822133399950045,
                    2.099425430926806,
                    1.4902573070197358,
                    1.5383462403197612,
                    2.220584561578817,
                    1.8320009992505628,
                    1.2997751686235328,
                    1.2060954284286791,
                    1.8875843117661764,
                    1.8282538096427692,
                    1.8875843117661764,
                    1.7870347239570334,
                    1.6507619285535857,
                    1.8307519360479647,
                    2.002498126405197,
                    2.1222832875343505,
                    2.1623782163377476,
                    2.416062952785412,
                    2.4030726954783925,
                    2.427929053210094,
                    2.407694229328005,
                    2.460404696477643,
                    2.41706220334749,
                    2.407944041968525,
                    2.363477391956034,
                    2.521608793404947,
                    2.6221583812140907,
                    2.5771921059205605,
                    2.283412440669499,
                    2.7784161878591074,
                    2.348988258805897,
                    2.8232575568323766,
                    2.6457656757431933,
                    3.274419185610793,
                    3.2518111416437687,
                    2.626904821383963,
                    3.1080439670247326,
                    3.1886085435923075,
                    3.5823132650512126,
                    3.48201348988259,
                    3.5731951036722474,
                    3.8859605296027997,
                    4.063202598051464,
                    3.8188858356232847,
                    3.8287534349238084,
                    3.8532350736947305,
                    3.573569822633027,
                    3.2984011991006765,
                    3.0274793904571586,
                    3.0437172120909333,
                    2.9313015238571083,
                    2.7645515863102683,
                    2.9672745440919317,
                    3.0013739695228594,
                    2.8850861853609806,
                    3.0512115913065223,
                    3.166999750187361,
                    3.625031226580067,
                    3.460654509118163,
                    3.950786909817638,
                    4.015613290032478,
                    3.989882588058957,
                    4.233824631526357,
                    4.663627279540347,
                    4.508118910816889,
                    4.4101923557332015,
                    4.255183612290784,
                    4.516112915313517,
                    4.415313514863854,
                    4.575568323757185,
                    4.873719710217339,
                    4.719585311016739,
                    4.6992255808143915,
                    4.75830627029728,
                    4.926430177366978,
                    4.785535848113917,
                    4.899325505870601,
                    4.965026230327257,
                    4.743317511866102,
                    4.708218835873097,
                    4.696727454409195,
                    4.582438171371473,
                    4.400574569073197,
                    4.449163127654261,
                    4.401324006994756,
                    4.446540094928805,
                    4.259430427179617,
                    4.521733699725208,
                    4.461528853359982,
                    4.637896577566827,
                    4.261428928303774,
                    4.155508368723459,
                    3.7815388458656023,
                    3.8483637272045983,
                    3.746689982513116,
                    3.8146390207344507,
                    3.947164626530104,
                    3.982762927804148,
                    4.055208593554836,
                    4.297027229577818,
                    4.3031476392705486,
                    4.551961029228082,
                    4.371096677491884,
                    4.312390706969775,
                    4.176117911566327,
                    4.0019985011241594,
                    3.4571571321508885,
                    2.4940044966275305,
                    2.486010492130903,
                    1.632025980514615,
                    1.6501373969522866,
                    1.8082687984012,
                    1.6507619285535857,
                    2.0000000000000013,
                    2.2343242568073953,
                    2.431676242817888,
                    1.515863102672996,
                    1.8651011741194112,
                    1.1873594803897083,
                    1.228578566075444,
                    1.636522608043968,
                    1.26979765176118,
                    1.6777416937297036,
                    1.0936797401948544,
                    3.0000000000000013
                  ]
                }
              ],
              "layout": {
                "template": {
                  "data": {
                    "bar": [
                      {
                        "error_x": {
                          "color": "#2a3f5f"
                        },
                        "error_y": {
                          "color": "#2a3f5f"
                        },
                        "marker": {
                          "line": {
                            "color": "#E5ECF6",
                            "width": 0.5
                          }
                        },
                        "type": "bar"
                      }
                    ],
                    "barpolar": [
                      {
                        "marker": {
                          "line": {
                            "color": "#E5ECF6",
                            "width": 0.5
                          }
                        },
                        "type": "barpolar"
                      }
                    ],
                    "carpet": [
                      {
                        "aaxis": {
                          "endlinecolor": "#2a3f5f",
                          "gridcolor": "white",
                          "linecolor": "white",
                          "minorgridcolor": "white",
                          "startlinecolor": "#2a3f5f"
                        },
                        "baxis": {
                          "endlinecolor": "#2a3f5f",
                          "gridcolor": "white",
                          "linecolor": "white",
                          "minorgridcolor": "white",
                          "startlinecolor": "#2a3f5f"
                        },
                        "type": "carpet"
                      }
                    ],
                    "choropleth": [
                      {
                        "colorbar": {
                          "outlinewidth": 0,
                          "ticks": ""
                        },
                        "type": "choropleth"
                      }
                    ],
                    "contour": [
                      {
                        "colorbar": {
                          "outlinewidth": 0,
                          "ticks": ""
                        },
                        "colorscale": [
                          [
                            0,
                            "#0d0887"
                          ],
                          [
                            0.1111111111111111,
                            "#46039f"
                          ],
                          [
                            0.2222222222222222,
                            "#7201a8"
                          ],
                          [
                            0.3333333333333333,
                            "#9c179e"
                          ],
                          [
                            0.4444444444444444,
                            "#bd3786"
                          ],
                          [
                            0.5555555555555556,
                            "#d8576b"
                          ],
                          [
                            0.6666666666666666,
                            "#ed7953"
                          ],
                          [
                            0.7777777777777778,
                            "#fb9f3a"
                          ],
                          [
                            0.8888888888888888,
                            "#fdca26"
                          ],
                          [
                            1,
                            "#f0f921"
                          ]
                        ],
                        "type": "contour"
                      }
                    ],
                    "contourcarpet": [
                      {
                        "colorbar": {
                          "outlinewidth": 0,
                          "ticks": ""
                        },
                        "type": "contourcarpet"
                      }
                    ],
                    "heatmap": [
                      {
                        "colorbar": {
                          "outlinewidth": 0,
                          "ticks": ""
                        },
                        "colorscale": [
                          [
                            0,
                            "#0d0887"
                          ],
                          [
                            0.1111111111111111,
                            "#46039f"
                          ],
                          [
                            0.2222222222222222,
                            "#7201a8"
                          ],
                          [
                            0.3333333333333333,
                            "#9c179e"
                          ],
                          [
                            0.4444444444444444,
                            "#bd3786"
                          ],
                          [
                            0.5555555555555556,
                            "#d8576b"
                          ],
                          [
                            0.6666666666666666,
                            "#ed7953"
                          ],
                          [
                            0.7777777777777778,
                            "#fb9f3a"
                          ],
                          [
                            0.8888888888888888,
                            "#fdca26"
                          ],
                          [
                            1,
                            "#f0f921"
                          ]
                        ],
                        "type": "heatmap"
                      }
                    ],
                    "heatmapgl": [
                      {
                        "colorbar": {
                          "outlinewidth": 0,
                          "ticks": ""
                        },
                        "colorscale": [
                          [
                            0,
                            "#0d0887"
                          ],
                          [
                            0.1111111111111111,
                            "#46039f"
                          ],
                          [
                            0.2222222222222222,
                            "#7201a8"
                          ],
                          [
                            0.3333333333333333,
                            "#9c179e"
                          ],
                          [
                            0.4444444444444444,
                            "#bd3786"
                          ],
                          [
                            0.5555555555555556,
                            "#d8576b"
                          ],
                          [
                            0.6666666666666666,
                            "#ed7953"
                          ],
                          [
                            0.7777777777777778,
                            "#fb9f3a"
                          ],
                          [
                            0.8888888888888888,
                            "#fdca26"
                          ],
                          [
                            1,
                            "#f0f921"
                          ]
                        ],
                        "type": "heatmapgl"
                      }
                    ],
                    "histogram": [
                      {
                        "marker": {
                          "colorbar": {
                            "outlinewidth": 0,
                            "ticks": ""
                          }
                        },
                        "type": "histogram"
                      }
                    ],
                    "histogram2d": [
                      {
                        "colorbar": {
                          "outlinewidth": 0,
                          "ticks": ""
                        },
                        "colorscale": [
                          [
                            0,
                            "#0d0887"
                          ],
                          [
                            0.1111111111111111,
                            "#46039f"
                          ],
                          [
                            0.2222222222222222,
                            "#7201a8"
                          ],
                          [
                            0.3333333333333333,
                            "#9c179e"
                          ],
                          [
                            0.4444444444444444,
                            "#bd3786"
                          ],
                          [
                            0.5555555555555556,
                            "#d8576b"
                          ],
                          [
                            0.6666666666666666,
                            "#ed7953"
                          ],
                          [
                            0.7777777777777778,
                            "#fb9f3a"
                          ],
                          [
                            0.8888888888888888,
                            "#fdca26"
                          ],
                          [
                            1,
                            "#f0f921"
                          ]
                        ],
                        "type": "histogram2d"
                      }
                    ],
                    "histogram2dcontour": [
                      {
                        "colorbar": {
                          "outlinewidth": 0,
                          "ticks": ""
                        },
                        "colorscale": [
                          [
                            0,
                            "#0d0887"
                          ],
                          [
                            0.1111111111111111,
                            "#46039f"
                          ],
                          [
                            0.2222222222222222,
                            "#7201a8"
                          ],
                          [
                            0.3333333333333333,
                            "#9c179e"
                          ],
                          [
                            0.4444444444444444,
                            "#bd3786"
                          ],
                          [
                            0.5555555555555556,
                            "#d8576b"
                          ],
                          [
                            0.6666666666666666,
                            "#ed7953"
                          ],
                          [
                            0.7777777777777778,
                            "#fb9f3a"
                          ],
                          [
                            0.8888888888888888,
                            "#fdca26"
                          ],
                          [
                            1,
                            "#f0f921"
                          ]
                        ],
                        "type": "histogram2dcontour"
                      }
                    ],
                    "mesh3d": [
                      {
                        "colorbar": {
                          "outlinewidth": 0,
                          "ticks": ""
                        },
                        "type": "mesh3d"
                      }
                    ],
                    "parcoords": [
                      {
                        "line": {
                          "colorbar": {
                            "outlinewidth": 0,
                            "ticks": ""
                          }
                        },
                        "type": "parcoords"
                      }
                    ],
                    "pie": [
                      {
                        "automargin": true,
                        "type": "pie"
                      }
                    ],
                    "scatter": [
                      {
                        "marker": {
                          "colorbar": {
                            "outlinewidth": 0,
                            "ticks": ""
                          }
                        },
                        "type": "scatter"
                      }
                    ],
                    "scatter3d": [
                      {
                        "line": {
                          "colorbar": {
                            "outlinewidth": 0,
                            "ticks": ""
                          }
                        },
                        "marker": {
                          "colorbar": {
                            "outlinewidth": 0,
                            "ticks": ""
                          }
                        },
                        "type": "scatter3d"
                      }
                    ],
                    "scattercarpet": [
                      {
                        "marker": {
                          "colorbar": {
                            "outlinewidth": 0,
                            "ticks": ""
                          }
                        },
                        "type": "scattercarpet"
                      }
                    ],
                    "scattergeo": [
                      {
                        "marker": {
                          "colorbar": {
                            "outlinewidth": 0,
                            "ticks": ""
                          }
                        },
                        "type": "scattergeo"
                      }
                    ],
                    "scattergl": [
                      {
                        "marker": {
                          "colorbar": {
                            "outlinewidth": 0,
                            "ticks": ""
                          }
                        },
                        "type": "scattergl"
                      }
                    ],
                    "scattermapbox": [
                      {
                        "marker": {
                          "colorbar": {
                            "outlinewidth": 0,
                            "ticks": ""
                          }
                        },
                        "type": "scattermapbox"
                      }
                    ],
                    "scatterpolar": [
                      {
                        "marker": {
                          "colorbar": {
                            "outlinewidth": 0,
                            "ticks": ""
                          }
                        },
                        "type": "scatterpolar"
                      }
                    ],
                    "scatterpolargl": [
                      {
                        "marker": {
                          "colorbar": {
                            "outlinewidth": 0,
                            "ticks": ""
                          }
                        },
                        "type": "scatterpolargl"
                      }
                    ],
                    "scatterternary": [
                      {
                        "marker": {
                          "colorbar": {
                            "outlinewidth": 0,
                            "ticks": ""
                          }
                        },
                        "type": "scatterternary"
                      }
                    ],
                    "surface": [
                      {
                        "colorbar": {
                          "outlinewidth": 0,
                          "ticks": ""
                        },
                        "colorscale": [
                          [
                            0,
                            "#0d0887"
                          ],
                          [
                            0.1111111111111111,
                            "#46039f"
                          ],
                          [
                            0.2222222222222222,
                            "#7201a8"
                          ],
                          [
                            0.3333333333333333,
                            "#9c179e"
                          ],
                          [
                            0.4444444444444444,
                            "#bd3786"
                          ],
                          [
                            0.5555555555555556,
                            "#d8576b"
                          ],
                          [
                            0.6666666666666666,
                            "#ed7953"
                          ],
                          [
                            0.7777777777777778,
                            "#fb9f3a"
                          ],
                          [
                            0.8888888888888888,
                            "#fdca26"
                          ],
                          [
                            1,
                            "#f0f921"
                          ]
                        ],
                        "type": "surface"
                      }
                    ],
                    "table": [
                      {
                        "cells": {
                          "fill": {
                            "color": "#EBF0F8"
                          },
                          "line": {
                            "color": "white"
                          }
                        },
                        "header": {
                          "fill": {
                            "color": "#C8D4E3"
                          },
                          "line": {
                            "color": "white"
                          }
                        },
                        "type": "table"
                      }
                    ]
                  },
                  "layout": {
                    "annotationdefaults": {
                      "arrowcolor": "#2a3f5f",
                      "arrowhead": 0,
                      "arrowwidth": 1
                    },
                    "coloraxis": {
                      "colorbar": {
                        "outlinewidth": 0,
                        "ticks": ""
                      }
                    },
                    "colorscale": {
                      "diverging": [
                        [
                          0,
                          "#8e0152"
                        ],
                        [
                          0.1,
                          "#c51b7d"
                        ],
                        [
                          0.2,
                          "#de77ae"
                        ],
                        [
                          0.3,
                          "#f1b6da"
                        ],
                        [
                          0.4,
                          "#fde0ef"
                        ],
                        [
                          0.5,
                          "#f7f7f7"
                        ],
                        [
                          0.6,
                          "#e6f5d0"
                        ],
                        [
                          0.7,
                          "#b8e186"
                        ],
                        [
                          0.8,
                          "#7fbc41"
                        ],
                        [
                          0.9,
                          "#4d9221"
                        ],
                        [
                          1,
                          "#276419"
                        ]
                      ],
                      "sequential": [
                        [
                          0,
                          "#0d0887"
                        ],
                        [
                          0.1111111111111111,
                          "#46039f"
                        ],
                        [
                          0.2222222222222222,
                          "#7201a8"
                        ],
                        [
                          0.3333333333333333,
                          "#9c179e"
                        ],
                        [
                          0.4444444444444444,
                          "#bd3786"
                        ],
                        [
                          0.5555555555555556,
                          "#d8576b"
                        ],
                        [
                          0.6666666666666666,
                          "#ed7953"
                        ],
                        [
                          0.7777777777777778,
                          "#fb9f3a"
                        ],
                        [
                          0.8888888888888888,
                          "#fdca26"
                        ],
                        [
                          1,
                          "#f0f921"
                        ]
                      ],
                      "sequentialminus": [
                        [
                          0,
                          "#0d0887"
                        ],
                        [
                          0.1111111111111111,
                          "#46039f"
                        ],
                        [
                          0.2222222222222222,
                          "#7201a8"
                        ],
                        [
                          0.3333333333333333,
                          "#9c179e"
                        ],
                        [
                          0.4444444444444444,
                          "#bd3786"
                        ],
                        [
                          0.5555555555555556,
                          "#d8576b"
                        ],
                        [
                          0.6666666666666666,
                          "#ed7953"
                        ],
                        [
                          0.7777777777777778,
                          "#fb9f3a"
                        ],
                        [
                          0.8888888888888888,
                          "#fdca26"
                        ],
                        [
                          1,
                          "#f0f921"
                        ]
                      ]
                    },
                    "colorway": [
                      "#636efa",
                      "#EF553B",
                      "#00cc96",
                      "#ab63fa",
                      "#FFA15A",
                      "#19d3f3",
                      "#FF6692",
                      "#B6E880",
                      "#FF97FF",
                      "#FECB52"
                    ],
                    "font": {
                      "color": "#2a3f5f"
                    },
                    "geo": {
                      "bgcolor": "white",
                      "lakecolor": "white",
                      "landcolor": "#E5ECF6",
                      "showlakes": true,
                      "showland": true,
                      "subunitcolor": "white"
                    },
                    "hoverlabel": {
                      "align": "left"
                    },
                    "hovermode": "closest",
                    "mapbox": {
                      "style": "light"
                    },
                    "paper_bgcolor": "white",
                    "plot_bgcolor": "#E5ECF6",
                    "polar": {
                      "angularaxis": {
                        "gridcolor": "white",
                        "linecolor": "white",
                        "ticks": ""
                      },
                      "bgcolor": "#E5ECF6",
                      "radialaxis": {
                        "gridcolor": "white",
                        "linecolor": "white",
                        "ticks": ""
                      }
                    },
                    "scene": {
                      "xaxis": {
                        "backgroundcolor": "#E5ECF6",
                        "gridcolor": "white",
                        "gridwidth": 2,
                        "linecolor": "white",
                        "showbackground": true,
                        "ticks": "",
                        "zerolinecolor": "white"
                      },
                      "yaxis": {
                        "backgroundcolor": "#E5ECF6",
                        "gridcolor": "white",
                        "gridwidth": 2,
                        "linecolor": "white",
                        "showbackground": true,
                        "ticks": "",
                        "zerolinecolor": "white"
                      },
                      "zaxis": {
                        "backgroundcolor": "#E5ECF6",
                        "gridcolor": "white",
                        "gridwidth": 2,
                        "linecolor": "white",
                        "showbackground": true,
                        "ticks": "",
                        "zerolinecolor": "white"
                      }
                    },
                    "shapedefaults": {
                      "line": {
                        "color": "#2a3f5f"
                      }
                    },
                    "ternary": {
                      "aaxis": {
                        "gridcolor": "white",
                        "linecolor": "white",
                        "ticks": ""
                      },
                      "baxis": {
                        "gridcolor": "white",
                        "linecolor": "white",
                        "ticks": ""
                      },
                      "bgcolor": "#E5ECF6",
                      "caxis": {
                        "gridcolor": "white",
                        "linecolor": "white",
                        "ticks": ""
                      }
                    },
                    "title": {
                      "x": 0.05
                    },
                    "xaxis": {
                      "automargin": true,
                      "gridcolor": "white",
                      "linecolor": "white",
                      "ticks": "",
                      "title": {
                        "standoff": 15
                      },
                      "zerolinecolor": "white",
                      "zerolinewidth": 2
                    },
                    "yaxis": {
                      "automargin": true,
                      "gridcolor": "white",
                      "linecolor": "white",
                      "ticks": "",
                      "title": {
                        "standoff": 15
                      },
                      "zerolinecolor": "white",
                      "zerolinewidth": 2
                    }
                  }
                }
              }
            },
            "text/html": [
              "<div>\n",
              "        \n",
              "        \n",
              "            <div id=\"48048bd0-4145-427c-94ca-b56bb43fe13d\" class=\"plotly-graph-div\" style=\"height:525px; width:100%;\"></div>\n",
              "            <script type=\"text/javascript\">\n",
              "                require([\"plotly\"], function(Plotly) {\n",
              "                    window.PLOTLYENV=window.PLOTLYENV || {};\n",
              "                    \n",
              "                if (document.getElementById(\"48048bd0-4145-427c-94ca-b56bb43fe13d\")) {\n",
              "                    Plotly.newPlot(\n",
              "                        '48048bd0-4145-427c-94ca-b56bb43fe13d',\n",
              "                        [{\"type\": \"scatter\", \"x\": [-92, -91, -90, -87, -84, -83, -82, -81, -79, -78, -77, -75, -74, -73, -71, -70, -68, -66, -65, -64, -62, -59, -57, -56, -54, -53, -52, -51, -50, -49, -48, -47, -46, -45, -44, -43, -42, -41, -40, -39, -38, -36, -35, -34, -33, -32, -31, -30, -28, -27, -26, -24, -23, -22, -21, -20, -19, -18, -17, -16, -15, -14, -13, -12, -11, -10, -9, -8, -7, -6, -5, -4, -3, -2, -1, 0, 1, 2, 3, 4, 5, 6, 7, 8, 9, 10, 11, 12, 13, 14, 15, 16, 17, 18, 19, 20, 21, 22, 23, 24, 25, 26, 27, 28, 29, 30, 31, 32, 33, 34, 35, 36, 37, 38, 39, 40, 41, 42, 43, 44, 45, 47, 48, 49, 51, 52, 53, 54, 55, 57, 59, 60, 63, 65, 66, 67, 68, 71, 107], \"y\": [9.751686235323511, 3.540719460404698, 4.348488633524858, 1.437172120909319, 1.228578566075444, 1.5740694479140653, 1.3478641019235582, 1.8151386460154897, 1.662628028978267, 1.8850861853609804, 2.4624031976017995, 1.543342493130153, 1.6501373969522866, 1.8900824381713723, 1.3822133399950045, 2.099425430926806, 1.4902573070197358, 1.5383462403197612, 2.220584561578817, 1.8320009992505628, 1.2997751686235328, 1.2060954284286791, 1.8875843117661764, 1.8282538096427692, 1.8875843117661764, 1.7870347239570334, 1.6507619285535857, 1.8307519360479647, 2.002498126405197, 2.1222832875343505, 2.1623782163377476, 2.416062952785412, 2.4030726954783925, 2.427929053210094, 2.407694229328005, 2.460404696477643, 2.41706220334749, 2.407944041968525, 2.363477391956034, 2.521608793404947, 2.6221583812140907, 2.5771921059205605, 2.283412440669499, 2.7784161878591074, 2.348988258805897, 2.8232575568323766, 2.6457656757431933, 3.274419185610793, 3.2518111416437687, 2.626904821383963, 3.1080439670247326, 3.1886085435923075, 3.5823132650512126, 3.48201348988259, 3.5731951036722474, 3.8859605296027997, 4.063202598051464, 3.8188858356232847, 3.8287534349238084, 3.8532350736947305, 3.573569822633027, 3.2984011991006765, 3.0274793904571586, 3.0437172120909333, 2.9313015238571083, 2.7645515863102683, 2.9672745440919317, 3.0013739695228594, 2.8850861853609806, 3.0512115913065223, 3.166999750187361, 3.625031226580067, 3.460654509118163, 3.950786909817638, 4.015613290032478, 3.989882588058957, 4.233824631526357, 4.663627279540347, 4.508118910816889, 4.4101923557332015, 4.255183612290784, 4.516112915313517, 4.415313514863854, 4.575568323757185, 4.873719710217339, 4.719585311016739, 4.6992255808143915, 4.75830627029728, 4.926430177366978, 4.785535848113917, 4.899325505870601, 4.965026230327257, 4.743317511866102, 4.708218835873097, 4.696727454409195, 4.582438171371473, 4.400574569073197, 4.449163127654261, 4.401324006994756, 4.446540094928805, 4.259430427179617, 4.521733699725208, 4.461528853359982, 4.637896577566827, 4.261428928303774, 4.155508368723459, 3.7815388458656023, 3.8483637272045983, 3.746689982513116, 3.8146390207344507, 3.947164626530104, 3.982762927804148, 4.055208593554836, 4.297027229577818, 4.3031476392705486, 4.551961029228082, 4.371096677491884, 4.312390706969775, 4.176117911566327, 4.0019985011241594, 3.4571571321508885, 2.4940044966275305, 2.486010492130903, 1.632025980514615, 1.6501373969522866, 1.8082687984012, 1.6507619285535857, 2.0000000000000013, 2.2343242568073953, 2.431676242817888, 1.515863102672996, 1.8651011741194112, 1.1873594803897083, 1.228578566075444, 1.636522608043968, 1.26979765176118, 1.6777416937297036, 1.0936797401948544, 3.0000000000000013]}],\n",
              "                        {\"template\": {\"data\": {\"bar\": [{\"error_x\": {\"color\": \"#2a3f5f\"}, \"error_y\": {\"color\": \"#2a3f5f\"}, \"marker\": {\"line\": {\"color\": \"#E5ECF6\", \"width\": 0.5}}, \"type\": \"bar\"}], \"barpolar\": [{\"marker\": {\"line\": {\"color\": \"#E5ECF6\", \"width\": 0.5}}, \"type\": \"barpolar\"}], \"carpet\": [{\"aaxis\": {\"endlinecolor\": \"#2a3f5f\", \"gridcolor\": \"white\", \"linecolor\": \"white\", \"minorgridcolor\": \"white\", \"startlinecolor\": \"#2a3f5f\"}, \"baxis\": {\"endlinecolor\": \"#2a3f5f\", \"gridcolor\": \"white\", \"linecolor\": \"white\", \"minorgridcolor\": \"white\", \"startlinecolor\": \"#2a3f5f\"}, \"type\": \"carpet\"}], \"choropleth\": [{\"colorbar\": {\"outlinewidth\": 0, \"ticks\": \"\"}, \"type\": \"choropleth\"}], \"contour\": [{\"colorbar\": {\"outlinewidth\": 0, \"ticks\": \"\"}, \"colorscale\": [[0.0, \"#0d0887\"], [0.1111111111111111, \"#46039f\"], [0.2222222222222222, \"#7201a8\"], [0.3333333333333333, \"#9c179e\"], [0.4444444444444444, \"#bd3786\"], [0.5555555555555556, \"#d8576b\"], [0.6666666666666666, \"#ed7953\"], [0.7777777777777778, \"#fb9f3a\"], [0.8888888888888888, \"#fdca26\"], [1.0, \"#f0f921\"]], \"type\": \"contour\"}], \"contourcarpet\": [{\"colorbar\": {\"outlinewidth\": 0, \"ticks\": \"\"}, \"type\": \"contourcarpet\"}], \"heatmap\": [{\"colorbar\": {\"outlinewidth\": 0, \"ticks\": \"\"}, \"colorscale\": [[0.0, \"#0d0887\"], [0.1111111111111111, \"#46039f\"], [0.2222222222222222, \"#7201a8\"], [0.3333333333333333, \"#9c179e\"], [0.4444444444444444, \"#bd3786\"], [0.5555555555555556, \"#d8576b\"], [0.6666666666666666, \"#ed7953\"], [0.7777777777777778, \"#fb9f3a\"], [0.8888888888888888, \"#fdca26\"], [1.0, \"#f0f921\"]], \"type\": \"heatmap\"}], \"heatmapgl\": [{\"colorbar\": {\"outlinewidth\": 0, \"ticks\": \"\"}, \"colorscale\": [[0.0, \"#0d0887\"], [0.1111111111111111, \"#46039f\"], [0.2222222222222222, \"#7201a8\"], [0.3333333333333333, \"#9c179e\"], [0.4444444444444444, \"#bd3786\"], [0.5555555555555556, \"#d8576b\"], [0.6666666666666666, \"#ed7953\"], [0.7777777777777778, \"#fb9f3a\"], [0.8888888888888888, \"#fdca26\"], [1.0, \"#f0f921\"]], \"type\": \"heatmapgl\"}], \"histogram\": [{\"marker\": {\"colorbar\": {\"outlinewidth\": 0, \"ticks\": \"\"}}, \"type\": \"histogram\"}], \"histogram2d\": [{\"colorbar\": {\"outlinewidth\": 0, \"ticks\": \"\"}, \"colorscale\": [[0.0, \"#0d0887\"], [0.1111111111111111, \"#46039f\"], [0.2222222222222222, \"#7201a8\"], [0.3333333333333333, \"#9c179e\"], [0.4444444444444444, \"#bd3786\"], [0.5555555555555556, \"#d8576b\"], [0.6666666666666666, \"#ed7953\"], [0.7777777777777778, \"#fb9f3a\"], [0.8888888888888888, \"#fdca26\"], [1.0, \"#f0f921\"]], \"type\": \"histogram2d\"}], \"histogram2dcontour\": [{\"colorbar\": {\"outlinewidth\": 0, \"ticks\": \"\"}, \"colorscale\": [[0.0, \"#0d0887\"], [0.1111111111111111, \"#46039f\"], [0.2222222222222222, \"#7201a8\"], [0.3333333333333333, \"#9c179e\"], [0.4444444444444444, \"#bd3786\"], [0.5555555555555556, \"#d8576b\"], [0.6666666666666666, \"#ed7953\"], [0.7777777777777778, \"#fb9f3a\"], [0.8888888888888888, \"#fdca26\"], [1.0, \"#f0f921\"]], \"type\": \"histogram2dcontour\"}], \"mesh3d\": [{\"colorbar\": {\"outlinewidth\": 0, \"ticks\": \"\"}, \"type\": \"mesh3d\"}], \"parcoords\": [{\"line\": {\"colorbar\": {\"outlinewidth\": 0, \"ticks\": \"\"}}, \"type\": \"parcoords\"}], \"pie\": [{\"automargin\": true, \"type\": \"pie\"}], \"scatter\": [{\"marker\": {\"colorbar\": {\"outlinewidth\": 0, \"ticks\": \"\"}}, \"type\": \"scatter\"}], \"scatter3d\": [{\"line\": {\"colorbar\": {\"outlinewidth\": 0, \"ticks\": \"\"}}, \"marker\": {\"colorbar\": {\"outlinewidth\": 0, \"ticks\": \"\"}}, \"type\": \"scatter3d\"}], \"scattercarpet\": [{\"marker\": {\"colorbar\": {\"outlinewidth\": 0, \"ticks\": \"\"}}, \"type\": \"scattercarpet\"}], \"scattergeo\": [{\"marker\": {\"colorbar\": {\"outlinewidth\": 0, \"ticks\": \"\"}}, \"type\": \"scattergeo\"}], \"scattergl\": [{\"marker\": {\"colorbar\": {\"outlinewidth\": 0, \"ticks\": \"\"}}, \"type\": \"scattergl\"}], \"scattermapbox\": [{\"marker\": {\"colorbar\": {\"outlinewidth\": 0, \"ticks\": \"\"}}, \"type\": \"scattermapbox\"}], \"scatterpolar\": [{\"marker\": {\"colorbar\": {\"outlinewidth\": 0, \"ticks\": \"\"}}, \"type\": \"scatterpolar\"}], \"scatterpolargl\": [{\"marker\": {\"colorbar\": {\"outlinewidth\": 0, \"ticks\": \"\"}}, \"type\": \"scatterpolargl\"}], \"scatterternary\": [{\"marker\": {\"colorbar\": {\"outlinewidth\": 0, \"ticks\": \"\"}}, \"type\": \"scatterternary\"}], \"surface\": [{\"colorbar\": {\"outlinewidth\": 0, \"ticks\": \"\"}, \"colorscale\": [[0.0, \"#0d0887\"], [0.1111111111111111, \"#46039f\"], [0.2222222222222222, \"#7201a8\"], [0.3333333333333333, \"#9c179e\"], [0.4444444444444444, \"#bd3786\"], [0.5555555555555556, \"#d8576b\"], [0.6666666666666666, \"#ed7953\"], [0.7777777777777778, \"#fb9f3a\"], [0.8888888888888888, \"#fdca26\"], [1.0, \"#f0f921\"]], \"type\": \"surface\"}], \"table\": [{\"cells\": {\"fill\": {\"color\": \"#EBF0F8\"}, \"line\": {\"color\": \"white\"}}, \"header\": {\"fill\": {\"color\": \"#C8D4E3\"}, \"line\": {\"color\": \"white\"}}, \"type\": \"table\"}]}, \"layout\": {\"annotationdefaults\": {\"arrowcolor\": \"#2a3f5f\", \"arrowhead\": 0, \"arrowwidth\": 1}, \"coloraxis\": {\"colorbar\": {\"outlinewidth\": 0, \"ticks\": \"\"}}, \"colorscale\": {\"diverging\": [[0, \"#8e0152\"], [0.1, \"#c51b7d\"], [0.2, \"#de77ae\"], [0.3, \"#f1b6da\"], [0.4, \"#fde0ef\"], [0.5, \"#f7f7f7\"], [0.6, \"#e6f5d0\"], [0.7, \"#b8e186\"], [0.8, \"#7fbc41\"], [0.9, \"#4d9221\"], [1, \"#276419\"]], \"sequential\": [[0.0, \"#0d0887\"], [0.1111111111111111, \"#46039f\"], [0.2222222222222222, \"#7201a8\"], [0.3333333333333333, \"#9c179e\"], [0.4444444444444444, \"#bd3786\"], [0.5555555555555556, \"#d8576b\"], [0.6666666666666666, \"#ed7953\"], [0.7777777777777778, \"#fb9f3a\"], [0.8888888888888888, \"#fdca26\"], [1.0, \"#f0f921\"]], \"sequentialminus\": [[0.0, \"#0d0887\"], [0.1111111111111111, \"#46039f\"], [0.2222222222222222, \"#7201a8\"], [0.3333333333333333, \"#9c179e\"], [0.4444444444444444, \"#bd3786\"], [0.5555555555555556, \"#d8576b\"], [0.6666666666666666, \"#ed7953\"], [0.7777777777777778, \"#fb9f3a\"], [0.8888888888888888, \"#fdca26\"], [1.0, \"#f0f921\"]]}, \"colorway\": [\"#636efa\", \"#EF553B\", \"#00cc96\", \"#ab63fa\", \"#FFA15A\", \"#19d3f3\", \"#FF6692\", \"#B6E880\", \"#FF97FF\", \"#FECB52\"], \"font\": {\"color\": \"#2a3f5f\"}, \"geo\": {\"bgcolor\": \"white\", \"lakecolor\": \"white\", \"landcolor\": \"#E5ECF6\", \"showlakes\": true, \"showland\": true, \"subunitcolor\": \"white\"}, \"hoverlabel\": {\"align\": \"left\"}, \"hovermode\": \"closest\", \"mapbox\": {\"style\": \"light\"}, \"paper_bgcolor\": \"white\", \"plot_bgcolor\": \"#E5ECF6\", \"polar\": {\"angularaxis\": {\"gridcolor\": \"white\", \"linecolor\": \"white\", \"ticks\": \"\"}, \"bgcolor\": \"#E5ECF6\", \"radialaxis\": {\"gridcolor\": \"white\", \"linecolor\": \"white\", \"ticks\": \"\"}}, \"scene\": {\"xaxis\": {\"backgroundcolor\": \"#E5ECF6\", \"gridcolor\": \"white\", \"gridwidth\": 2, \"linecolor\": \"white\", \"showbackground\": true, \"ticks\": \"\", \"zerolinecolor\": \"white\"}, \"yaxis\": {\"backgroundcolor\": \"#E5ECF6\", \"gridcolor\": \"white\", \"gridwidth\": 2, \"linecolor\": \"white\", \"showbackground\": true, \"ticks\": \"\", \"zerolinecolor\": \"white\"}, \"zaxis\": {\"backgroundcolor\": \"#E5ECF6\", \"gridcolor\": \"white\", \"gridwidth\": 2, \"linecolor\": \"white\", \"showbackground\": true, \"ticks\": \"\", \"zerolinecolor\": \"white\"}}, \"shapedefaults\": {\"line\": {\"color\": \"#2a3f5f\"}}, \"ternary\": {\"aaxis\": {\"gridcolor\": \"white\", \"linecolor\": \"white\", \"ticks\": \"\"}, \"baxis\": {\"gridcolor\": \"white\", \"linecolor\": \"white\", \"ticks\": \"\"}, \"bgcolor\": \"#E5ECF6\", \"caxis\": {\"gridcolor\": \"white\", \"linecolor\": \"white\", \"ticks\": \"\"}}, \"title\": {\"x\": 0.05}, \"xaxis\": {\"automargin\": true, \"gridcolor\": \"white\", \"linecolor\": \"white\", \"ticks\": \"\", \"title\": {\"standoff\": 15}, \"zerolinecolor\": \"white\", \"zerolinewidth\": 2}, \"yaxis\": {\"automargin\": true, \"gridcolor\": \"white\", \"linecolor\": \"white\", \"ticks\": \"\", \"title\": {\"standoff\": 15}, \"zerolinecolor\": \"white\", \"zerolinewidth\": 2}}}},\n",
              "                        {\"responsive\": true}\n",
              "                    ).then(function(){\n",
              "                            \n",
              "var gd = document.getElementById('48048bd0-4145-427c-94ca-b56bb43fe13d');\n",
              "var x = new MutationObserver(function (mutations, observer) {{\n",
              "        var display = window.getComputedStyle(gd).display;\n",
              "        if (!display || display === 'none') {{\n",
              "            console.log([gd, 'removed!']);\n",
              "            Plotly.purge(gd);\n",
              "            observer.disconnect();\n",
              "        }}\n",
              "}});\n",
              "\n",
              "// Listen for the removal of the full notebook cells\n",
              "var notebookContainer = gd.closest('#notebook-container');\n",
              "if (notebookContainer) {{\n",
              "    x.observe(notebookContainer, {childList: true});\n",
              "}}\n",
              "\n",
              "// Listen for the clearing of the current output cell\n",
              "var outputEl = gd.closest('.output');\n",
              "if (outputEl) {{\n",
              "    x.observe(outputEl, {childList: true});\n",
              "}}\n",
              "\n",
              "                        })\n",
              "                };\n",
              "                });\n",
              "            </script>\n",
              "        </div>"
            ]
          },
          "metadata": {
            "tags": []
          }
        }
      ]
    },
    {
      "cell_type": "code",
      "metadata": {
        "id": "Z2elht9GcVSU",
        "colab_type": "code",
        "colab": {}
      },
      "source": [
        "cdf = {}\n",
        "cur_total = 0\n",
        "for key, val in sorted_by_pct.items():\n",
        "    cur_total += val\n",
        "    cdf[key] = cur_total"
      ],
      "execution_count": null,
      "outputs": []
    },
    {
      "cell_type": "code",
      "metadata": {
        "id": "hykHPDbQcVSY",
        "colab_type": "code",
        "colab": {},
        "outputId": "fefdb096-ab58-4972-afc7-bc0a6b9efb81"
      },
      "source": [
        "trace0 = Scatter(x = list(cdf.keys()), y = list(cdf.values()))\n",
        "data = Data([trace0])\n",
        "iplot(data)"
      ],
      "execution_count": null,
      "outputs": [
        {
          "output_type": "display_data",
          "data": {
            "application/vnd.plotly.v1+json": {
              "config": {
                "linkText": "Export to plot.ly",
                "plotlyServerURL": "https://plot.ly",
                "showLink": false
              },
              "data": [
                {
                  "type": "scatter",
                  "x": [
                    -92,
                    -91,
                    -90,
                    -87,
                    -84,
                    -83,
                    -82,
                    -81,
                    -79,
                    -78,
                    -77,
                    -75,
                    -74,
                    -73,
                    -71,
                    -70,
                    -68,
                    -66,
                    -65,
                    -64,
                    -62,
                    -59,
                    -57,
                    -56,
                    -54,
                    -53,
                    -52,
                    -51,
                    -50,
                    -49,
                    -48,
                    -47,
                    -46,
                    -45,
                    -44,
                    -43,
                    -42,
                    -41,
                    -40,
                    -39,
                    -38,
                    -36,
                    -35,
                    -34,
                    -33,
                    -32,
                    -31,
                    -30,
                    -28,
                    -27,
                    -26,
                    -24,
                    -23,
                    -22,
                    -21,
                    -20,
                    -19,
                    -18,
                    -17,
                    -16,
                    -15,
                    -14,
                    -13,
                    -12,
                    -11,
                    -10,
                    -9,
                    -8,
                    -7,
                    -6,
                    -5,
                    -4,
                    -3,
                    -2,
                    -1,
                    0,
                    1,
                    2,
                    3,
                    4,
                    5,
                    6,
                    7,
                    8,
                    9,
                    10,
                    11,
                    12,
                    13,
                    14,
                    15,
                    16,
                    17,
                    18,
                    19,
                    20,
                    21,
                    22,
                    23,
                    24,
                    25,
                    26,
                    27,
                    28,
                    29,
                    30,
                    31,
                    32,
                    33,
                    34,
                    35,
                    36,
                    37,
                    38,
                    39,
                    40,
                    41,
                    42,
                    43,
                    44,
                    45,
                    47,
                    48,
                    49,
                    51,
                    52,
                    53,
                    54,
                    55,
                    57,
                    59,
                    60,
                    63,
                    65,
                    66,
                    67,
                    68,
                    71,
                    107
                  ],
                  "y": [
                    9.751686235323511,
                    13.29240569572821,
                    17.64089432925307,
                    19.07806645016239,
                    20.306645016237834,
                    21.8807144641519,
                    23.22857856607546,
                    25.04371721209095,
                    26.70634524106922,
                    28.591431426430198,
                    31.053834624031996,
                    32.59717711716215,
                    34.247314514114436,
                    36.137396952285805,
                    37.51961029228081,
                    39.61903572320762,
                    41.109293030227356,
                    42.64763927054712,
                    44.868223832125935,
                    46.700224831376495,
                    48.00000000000003,
                    49.20609542842871,
                    51.09367974019489,
                    52.921933549837654,
                    54.80951786160383,
                    56.596552585560865,
                    58.24731451411445,
                    60.07806645016242,
                    62.08056457656762,
                    64.20284786410197,
                    66.36522608043971,
                    68.78128903322512,
                    71.18436172870351,
                    73.6122907819136,
                    76.0199850112416,
                    78.48038970771924,
                    80.89745191106672,
                    83.30539595303524,
                    85.66887334499128,
                    88.19048213839623,
                    90.81264051961033,
                    93.38983262553089,
                    95.67324506620038,
                    98.45166125405949,
                    100.80064951286539,
                    103.62390706969776,
                    106.26967274544096,
                    109.54409193105175,
                    112.79590307269552,
                    115.42280789407948,
                    118.53085186110421,
                    121.71946040469652,
                    125.30177366974773,
                    128.78378715963032,
                    132.35698226330257,
                    136.24294279290538,
                    140.30614539095686,
                    144.12503122658015,
                    147.95378466150396,
                    151.80701973519868,
                    155.3805895578317,
                    158.6789907569324,
                    161.70647014738955,
                    164.7501873594805,
                    167.6814888833376,
                    170.44604046964787,
                    173.4133150137398,
                    176.41468898326266,
                    179.29977516862365,
                    182.35098675993018,
                    185.51798651011754,
                    189.1430177366976,
                    192.60367224581577,
                    196.55445915563342,
                    200.57007244566591,
                    204.55995503372486,
                    208.7937796652512,
                    213.45740694479156,
                    217.96552585560843,
                    222.37571821134162,
                    226.6309018236324,
                    231.14701473894593,
                    235.56232825380977,
                    240.13789657756695,
                    245.01161628778428,
                    249.73120159880102,
                    254.4304271796154,
                    259.18873344991266,
                    264.1151636272796,
                    268.90069947539354,
                    273.80002498126413,
                    278.7650512115914,
                    283.5083687234575,
                    288.2165875593306,
                    292.9133150137398,
                    297.49575318511125,
                    301.8963277541844,
                    306.3454908818387,
                    310.74681488883346,
                    315.1933549837623,
                    319.4527854109419,
                    323.9745191106671,
                    328.43604796402707,
                    333.0739445415939,
                    337.33537346989766,
                    341.49088183862114,
                    345.27242068448675,
                    349.1207844116913,
                    352.8674743942044,
                    356.68211341493884,
                    360.6292780414689,
                    364.6120409692731,
                    368.6672495628279,
                    372.9642767924057,
                    377.26742443167626,
                    381.81938546090436,
                    386.19048213839625,
                    390.502872845366,
                    394.67899075693236,
                    398.6809892580565,
                    402.1381463902074,
                    404.63215088683495,
                    407.11816137896585,
                    408.7501873594805,
                    410.4003247564328,
                    412.20859355483395,
                    413.85935548338756,
                    415.85935548338756,
                    418.09367974019494,
                    420.52535598301284,
                    422.04121908568584,
                    423.9063202598052,
                    425.09367974019494,
                    426.3222583062704,
                    427.95878091431433,
                    429.2285785660755,
                    430.9063202598052,
                    432.00000000000006,
                    435.00000000000006
                  ]
                }
              ],
              "layout": {
                "template": {
                  "data": {
                    "bar": [
                      {
                        "error_x": {
                          "color": "#2a3f5f"
                        },
                        "error_y": {
                          "color": "#2a3f5f"
                        },
                        "marker": {
                          "line": {
                            "color": "#E5ECF6",
                            "width": 0.5
                          }
                        },
                        "type": "bar"
                      }
                    ],
                    "barpolar": [
                      {
                        "marker": {
                          "line": {
                            "color": "#E5ECF6",
                            "width": 0.5
                          }
                        },
                        "type": "barpolar"
                      }
                    ],
                    "carpet": [
                      {
                        "aaxis": {
                          "endlinecolor": "#2a3f5f",
                          "gridcolor": "white",
                          "linecolor": "white",
                          "minorgridcolor": "white",
                          "startlinecolor": "#2a3f5f"
                        },
                        "baxis": {
                          "endlinecolor": "#2a3f5f",
                          "gridcolor": "white",
                          "linecolor": "white",
                          "minorgridcolor": "white",
                          "startlinecolor": "#2a3f5f"
                        },
                        "type": "carpet"
                      }
                    ],
                    "choropleth": [
                      {
                        "colorbar": {
                          "outlinewidth": 0,
                          "ticks": ""
                        },
                        "type": "choropleth"
                      }
                    ],
                    "contour": [
                      {
                        "colorbar": {
                          "outlinewidth": 0,
                          "ticks": ""
                        },
                        "colorscale": [
                          [
                            0,
                            "#0d0887"
                          ],
                          [
                            0.1111111111111111,
                            "#46039f"
                          ],
                          [
                            0.2222222222222222,
                            "#7201a8"
                          ],
                          [
                            0.3333333333333333,
                            "#9c179e"
                          ],
                          [
                            0.4444444444444444,
                            "#bd3786"
                          ],
                          [
                            0.5555555555555556,
                            "#d8576b"
                          ],
                          [
                            0.6666666666666666,
                            "#ed7953"
                          ],
                          [
                            0.7777777777777778,
                            "#fb9f3a"
                          ],
                          [
                            0.8888888888888888,
                            "#fdca26"
                          ],
                          [
                            1,
                            "#f0f921"
                          ]
                        ],
                        "type": "contour"
                      }
                    ],
                    "contourcarpet": [
                      {
                        "colorbar": {
                          "outlinewidth": 0,
                          "ticks": ""
                        },
                        "type": "contourcarpet"
                      }
                    ],
                    "heatmap": [
                      {
                        "colorbar": {
                          "outlinewidth": 0,
                          "ticks": ""
                        },
                        "colorscale": [
                          [
                            0,
                            "#0d0887"
                          ],
                          [
                            0.1111111111111111,
                            "#46039f"
                          ],
                          [
                            0.2222222222222222,
                            "#7201a8"
                          ],
                          [
                            0.3333333333333333,
                            "#9c179e"
                          ],
                          [
                            0.4444444444444444,
                            "#bd3786"
                          ],
                          [
                            0.5555555555555556,
                            "#d8576b"
                          ],
                          [
                            0.6666666666666666,
                            "#ed7953"
                          ],
                          [
                            0.7777777777777778,
                            "#fb9f3a"
                          ],
                          [
                            0.8888888888888888,
                            "#fdca26"
                          ],
                          [
                            1,
                            "#f0f921"
                          ]
                        ],
                        "type": "heatmap"
                      }
                    ],
                    "heatmapgl": [
                      {
                        "colorbar": {
                          "outlinewidth": 0,
                          "ticks": ""
                        },
                        "colorscale": [
                          [
                            0,
                            "#0d0887"
                          ],
                          [
                            0.1111111111111111,
                            "#46039f"
                          ],
                          [
                            0.2222222222222222,
                            "#7201a8"
                          ],
                          [
                            0.3333333333333333,
                            "#9c179e"
                          ],
                          [
                            0.4444444444444444,
                            "#bd3786"
                          ],
                          [
                            0.5555555555555556,
                            "#d8576b"
                          ],
                          [
                            0.6666666666666666,
                            "#ed7953"
                          ],
                          [
                            0.7777777777777778,
                            "#fb9f3a"
                          ],
                          [
                            0.8888888888888888,
                            "#fdca26"
                          ],
                          [
                            1,
                            "#f0f921"
                          ]
                        ],
                        "type": "heatmapgl"
                      }
                    ],
                    "histogram": [
                      {
                        "marker": {
                          "colorbar": {
                            "outlinewidth": 0,
                            "ticks": ""
                          }
                        },
                        "type": "histogram"
                      }
                    ],
                    "histogram2d": [
                      {
                        "colorbar": {
                          "outlinewidth": 0,
                          "ticks": ""
                        },
                        "colorscale": [
                          [
                            0,
                            "#0d0887"
                          ],
                          [
                            0.1111111111111111,
                            "#46039f"
                          ],
                          [
                            0.2222222222222222,
                            "#7201a8"
                          ],
                          [
                            0.3333333333333333,
                            "#9c179e"
                          ],
                          [
                            0.4444444444444444,
                            "#bd3786"
                          ],
                          [
                            0.5555555555555556,
                            "#d8576b"
                          ],
                          [
                            0.6666666666666666,
                            "#ed7953"
                          ],
                          [
                            0.7777777777777778,
                            "#fb9f3a"
                          ],
                          [
                            0.8888888888888888,
                            "#fdca26"
                          ],
                          [
                            1,
                            "#f0f921"
                          ]
                        ],
                        "type": "histogram2d"
                      }
                    ],
                    "histogram2dcontour": [
                      {
                        "colorbar": {
                          "outlinewidth": 0,
                          "ticks": ""
                        },
                        "colorscale": [
                          [
                            0,
                            "#0d0887"
                          ],
                          [
                            0.1111111111111111,
                            "#46039f"
                          ],
                          [
                            0.2222222222222222,
                            "#7201a8"
                          ],
                          [
                            0.3333333333333333,
                            "#9c179e"
                          ],
                          [
                            0.4444444444444444,
                            "#bd3786"
                          ],
                          [
                            0.5555555555555556,
                            "#d8576b"
                          ],
                          [
                            0.6666666666666666,
                            "#ed7953"
                          ],
                          [
                            0.7777777777777778,
                            "#fb9f3a"
                          ],
                          [
                            0.8888888888888888,
                            "#fdca26"
                          ],
                          [
                            1,
                            "#f0f921"
                          ]
                        ],
                        "type": "histogram2dcontour"
                      }
                    ],
                    "mesh3d": [
                      {
                        "colorbar": {
                          "outlinewidth": 0,
                          "ticks": ""
                        },
                        "type": "mesh3d"
                      }
                    ],
                    "parcoords": [
                      {
                        "line": {
                          "colorbar": {
                            "outlinewidth": 0,
                            "ticks": ""
                          }
                        },
                        "type": "parcoords"
                      }
                    ],
                    "pie": [
                      {
                        "automargin": true,
                        "type": "pie"
                      }
                    ],
                    "scatter": [
                      {
                        "marker": {
                          "colorbar": {
                            "outlinewidth": 0,
                            "ticks": ""
                          }
                        },
                        "type": "scatter"
                      }
                    ],
                    "scatter3d": [
                      {
                        "line": {
                          "colorbar": {
                            "outlinewidth": 0,
                            "ticks": ""
                          }
                        },
                        "marker": {
                          "colorbar": {
                            "outlinewidth": 0,
                            "ticks": ""
                          }
                        },
                        "type": "scatter3d"
                      }
                    ],
                    "scattercarpet": [
                      {
                        "marker": {
                          "colorbar": {
                            "outlinewidth": 0,
                            "ticks": ""
                          }
                        },
                        "type": "scattercarpet"
                      }
                    ],
                    "scattergeo": [
                      {
                        "marker": {
                          "colorbar": {
                            "outlinewidth": 0,
                            "ticks": ""
                          }
                        },
                        "type": "scattergeo"
                      }
                    ],
                    "scattergl": [
                      {
                        "marker": {
                          "colorbar": {
                            "outlinewidth": 0,
                            "ticks": ""
                          }
                        },
                        "type": "scattergl"
                      }
                    ],
                    "scattermapbox": [
                      {
                        "marker": {
                          "colorbar": {
                            "outlinewidth": 0,
                            "ticks": ""
                          }
                        },
                        "type": "scattermapbox"
                      }
                    ],
                    "scatterpolar": [
                      {
                        "marker": {
                          "colorbar": {
                            "outlinewidth": 0,
                            "ticks": ""
                          }
                        },
                        "type": "scatterpolar"
                      }
                    ],
                    "scatterpolargl": [
                      {
                        "marker": {
                          "colorbar": {
                            "outlinewidth": 0,
                            "ticks": ""
                          }
                        },
                        "type": "scatterpolargl"
                      }
                    ],
                    "scatterternary": [
                      {
                        "marker": {
                          "colorbar": {
                            "outlinewidth": 0,
                            "ticks": ""
                          }
                        },
                        "type": "scatterternary"
                      }
                    ],
                    "surface": [
                      {
                        "colorbar": {
                          "outlinewidth": 0,
                          "ticks": ""
                        },
                        "colorscale": [
                          [
                            0,
                            "#0d0887"
                          ],
                          [
                            0.1111111111111111,
                            "#46039f"
                          ],
                          [
                            0.2222222222222222,
                            "#7201a8"
                          ],
                          [
                            0.3333333333333333,
                            "#9c179e"
                          ],
                          [
                            0.4444444444444444,
                            "#bd3786"
                          ],
                          [
                            0.5555555555555556,
                            "#d8576b"
                          ],
                          [
                            0.6666666666666666,
                            "#ed7953"
                          ],
                          [
                            0.7777777777777778,
                            "#fb9f3a"
                          ],
                          [
                            0.8888888888888888,
                            "#fdca26"
                          ],
                          [
                            1,
                            "#f0f921"
                          ]
                        ],
                        "type": "surface"
                      }
                    ],
                    "table": [
                      {
                        "cells": {
                          "fill": {
                            "color": "#EBF0F8"
                          },
                          "line": {
                            "color": "white"
                          }
                        },
                        "header": {
                          "fill": {
                            "color": "#C8D4E3"
                          },
                          "line": {
                            "color": "white"
                          }
                        },
                        "type": "table"
                      }
                    ]
                  },
                  "layout": {
                    "annotationdefaults": {
                      "arrowcolor": "#2a3f5f",
                      "arrowhead": 0,
                      "arrowwidth": 1
                    },
                    "coloraxis": {
                      "colorbar": {
                        "outlinewidth": 0,
                        "ticks": ""
                      }
                    },
                    "colorscale": {
                      "diverging": [
                        [
                          0,
                          "#8e0152"
                        ],
                        [
                          0.1,
                          "#c51b7d"
                        ],
                        [
                          0.2,
                          "#de77ae"
                        ],
                        [
                          0.3,
                          "#f1b6da"
                        ],
                        [
                          0.4,
                          "#fde0ef"
                        ],
                        [
                          0.5,
                          "#f7f7f7"
                        ],
                        [
                          0.6,
                          "#e6f5d0"
                        ],
                        [
                          0.7,
                          "#b8e186"
                        ],
                        [
                          0.8,
                          "#7fbc41"
                        ],
                        [
                          0.9,
                          "#4d9221"
                        ],
                        [
                          1,
                          "#276419"
                        ]
                      ],
                      "sequential": [
                        [
                          0,
                          "#0d0887"
                        ],
                        [
                          0.1111111111111111,
                          "#46039f"
                        ],
                        [
                          0.2222222222222222,
                          "#7201a8"
                        ],
                        [
                          0.3333333333333333,
                          "#9c179e"
                        ],
                        [
                          0.4444444444444444,
                          "#bd3786"
                        ],
                        [
                          0.5555555555555556,
                          "#d8576b"
                        ],
                        [
                          0.6666666666666666,
                          "#ed7953"
                        ],
                        [
                          0.7777777777777778,
                          "#fb9f3a"
                        ],
                        [
                          0.8888888888888888,
                          "#fdca26"
                        ],
                        [
                          1,
                          "#f0f921"
                        ]
                      ],
                      "sequentialminus": [
                        [
                          0,
                          "#0d0887"
                        ],
                        [
                          0.1111111111111111,
                          "#46039f"
                        ],
                        [
                          0.2222222222222222,
                          "#7201a8"
                        ],
                        [
                          0.3333333333333333,
                          "#9c179e"
                        ],
                        [
                          0.4444444444444444,
                          "#bd3786"
                        ],
                        [
                          0.5555555555555556,
                          "#d8576b"
                        ],
                        [
                          0.6666666666666666,
                          "#ed7953"
                        ],
                        [
                          0.7777777777777778,
                          "#fb9f3a"
                        ],
                        [
                          0.8888888888888888,
                          "#fdca26"
                        ],
                        [
                          1,
                          "#f0f921"
                        ]
                      ]
                    },
                    "colorway": [
                      "#636efa",
                      "#EF553B",
                      "#00cc96",
                      "#ab63fa",
                      "#FFA15A",
                      "#19d3f3",
                      "#FF6692",
                      "#B6E880",
                      "#FF97FF",
                      "#FECB52"
                    ],
                    "font": {
                      "color": "#2a3f5f"
                    },
                    "geo": {
                      "bgcolor": "white",
                      "lakecolor": "white",
                      "landcolor": "#E5ECF6",
                      "showlakes": true,
                      "showland": true,
                      "subunitcolor": "white"
                    },
                    "hoverlabel": {
                      "align": "left"
                    },
                    "hovermode": "closest",
                    "mapbox": {
                      "style": "light"
                    },
                    "paper_bgcolor": "white",
                    "plot_bgcolor": "#E5ECF6",
                    "polar": {
                      "angularaxis": {
                        "gridcolor": "white",
                        "linecolor": "white",
                        "ticks": ""
                      },
                      "bgcolor": "#E5ECF6",
                      "radialaxis": {
                        "gridcolor": "white",
                        "linecolor": "white",
                        "ticks": ""
                      }
                    },
                    "scene": {
                      "xaxis": {
                        "backgroundcolor": "#E5ECF6",
                        "gridcolor": "white",
                        "gridwidth": 2,
                        "linecolor": "white",
                        "showbackground": true,
                        "ticks": "",
                        "zerolinecolor": "white"
                      },
                      "yaxis": {
                        "backgroundcolor": "#E5ECF6",
                        "gridcolor": "white",
                        "gridwidth": 2,
                        "linecolor": "white",
                        "showbackground": true,
                        "ticks": "",
                        "zerolinecolor": "white"
                      },
                      "zaxis": {
                        "backgroundcolor": "#E5ECF6",
                        "gridcolor": "white",
                        "gridwidth": 2,
                        "linecolor": "white",
                        "showbackground": true,
                        "ticks": "",
                        "zerolinecolor": "white"
                      }
                    },
                    "shapedefaults": {
                      "line": {
                        "color": "#2a3f5f"
                      }
                    },
                    "ternary": {
                      "aaxis": {
                        "gridcolor": "white",
                        "linecolor": "white",
                        "ticks": ""
                      },
                      "baxis": {
                        "gridcolor": "white",
                        "linecolor": "white",
                        "ticks": ""
                      },
                      "bgcolor": "#E5ECF6",
                      "caxis": {
                        "gridcolor": "white",
                        "linecolor": "white",
                        "ticks": ""
                      }
                    },
                    "title": {
                      "x": 0.05
                    },
                    "xaxis": {
                      "automargin": true,
                      "gridcolor": "white",
                      "linecolor": "white",
                      "ticks": "",
                      "title": {
                        "standoff": 15
                      },
                      "zerolinecolor": "white",
                      "zerolinewidth": 2
                    },
                    "yaxis": {
                      "automargin": true,
                      "gridcolor": "white",
                      "linecolor": "white",
                      "ticks": "",
                      "title": {
                        "standoff": 15
                      },
                      "zerolinecolor": "white",
                      "zerolinewidth": 2
                    }
                  }
                }
              }
            },
            "text/html": [
              "<div>\n",
              "        \n",
              "        \n",
              "            <div id=\"5f9cf4f4-1186-44ef-9c36-ec228fc02e55\" class=\"plotly-graph-div\" style=\"height:525px; width:100%;\"></div>\n",
              "            <script type=\"text/javascript\">\n",
              "                require([\"plotly\"], function(Plotly) {\n",
              "                    window.PLOTLYENV=window.PLOTLYENV || {};\n",
              "                    \n",
              "                if (document.getElementById(\"5f9cf4f4-1186-44ef-9c36-ec228fc02e55\")) {\n",
              "                    Plotly.newPlot(\n",
              "                        '5f9cf4f4-1186-44ef-9c36-ec228fc02e55',\n",
              "                        [{\"type\": \"scatter\", \"x\": [-92, -91, -90, -87, -84, -83, -82, -81, -79, -78, -77, -75, -74, -73, -71, -70, -68, -66, -65, -64, -62, -59, -57, -56, -54, -53, -52, -51, -50, -49, -48, -47, -46, -45, -44, -43, -42, -41, -40, -39, -38, -36, -35, -34, -33, -32, -31, -30, -28, -27, -26, -24, -23, -22, -21, -20, -19, -18, -17, -16, -15, -14, -13, -12, -11, -10, -9, -8, -7, -6, -5, -4, -3, -2, -1, 0, 1, 2, 3, 4, 5, 6, 7, 8, 9, 10, 11, 12, 13, 14, 15, 16, 17, 18, 19, 20, 21, 22, 23, 24, 25, 26, 27, 28, 29, 30, 31, 32, 33, 34, 35, 36, 37, 38, 39, 40, 41, 42, 43, 44, 45, 47, 48, 49, 51, 52, 53, 54, 55, 57, 59, 60, 63, 65, 66, 67, 68, 71, 107], \"y\": [9.751686235323511, 13.29240569572821, 17.64089432925307, 19.07806645016239, 20.306645016237834, 21.8807144641519, 23.22857856607546, 25.04371721209095, 26.70634524106922, 28.591431426430198, 31.053834624031996, 32.59717711716215, 34.247314514114436, 36.137396952285805, 37.51961029228081, 39.61903572320762, 41.109293030227356, 42.64763927054712, 44.868223832125935, 46.700224831376495, 48.00000000000003, 49.20609542842871, 51.09367974019489, 52.921933549837654, 54.80951786160383, 56.596552585560865, 58.24731451411445, 60.07806645016242, 62.08056457656762, 64.20284786410197, 66.36522608043971, 68.78128903322512, 71.18436172870351, 73.6122907819136, 76.0199850112416, 78.48038970771924, 80.89745191106672, 83.30539595303524, 85.66887334499128, 88.19048213839623, 90.81264051961033, 93.38983262553089, 95.67324506620038, 98.45166125405949, 100.80064951286539, 103.62390706969776, 106.26967274544096, 109.54409193105175, 112.79590307269552, 115.42280789407948, 118.53085186110421, 121.71946040469652, 125.30177366974773, 128.78378715963032, 132.35698226330257, 136.24294279290538, 140.30614539095686, 144.12503122658015, 147.95378466150396, 151.80701973519868, 155.3805895578317, 158.6789907569324, 161.70647014738955, 164.7501873594805, 167.6814888833376, 170.44604046964787, 173.4133150137398, 176.41468898326266, 179.29977516862365, 182.35098675993018, 185.51798651011754, 189.1430177366976, 192.60367224581577, 196.55445915563342, 200.57007244566591, 204.55995503372486, 208.7937796652512, 213.45740694479156, 217.96552585560843, 222.37571821134162, 226.6309018236324, 231.14701473894593, 235.56232825380977, 240.13789657756695, 245.01161628778428, 249.73120159880102, 254.4304271796154, 259.18873344991266, 264.1151636272796, 268.90069947539354, 273.80002498126413, 278.7650512115914, 283.5083687234575, 288.2165875593306, 292.9133150137398, 297.49575318511125, 301.8963277541844, 306.3454908818387, 310.74681488883346, 315.1933549837623, 319.4527854109419, 323.9745191106671, 328.43604796402707, 333.0739445415939, 337.33537346989766, 341.49088183862114, 345.27242068448675, 349.1207844116913, 352.8674743942044, 356.68211341493884, 360.6292780414689, 364.6120409692731, 368.6672495628279, 372.9642767924057, 377.26742443167626, 381.81938546090436, 386.19048213839625, 390.502872845366, 394.67899075693236, 398.6809892580565, 402.1381463902074, 404.63215088683495, 407.11816137896585, 408.7501873594805, 410.4003247564328, 412.20859355483395, 413.85935548338756, 415.85935548338756, 418.09367974019494, 420.52535598301284, 422.04121908568584, 423.9063202598052, 425.09367974019494, 426.3222583062704, 427.95878091431433, 429.2285785660755, 430.9063202598052, 432.00000000000006, 435.00000000000006]}],\n",
              "                        {\"template\": {\"data\": {\"bar\": [{\"error_x\": {\"color\": \"#2a3f5f\"}, \"error_y\": {\"color\": \"#2a3f5f\"}, \"marker\": {\"line\": {\"color\": \"#E5ECF6\", \"width\": 0.5}}, \"type\": \"bar\"}], \"barpolar\": [{\"marker\": {\"line\": {\"color\": \"#E5ECF6\", \"width\": 0.5}}, \"type\": \"barpolar\"}], \"carpet\": [{\"aaxis\": {\"endlinecolor\": \"#2a3f5f\", \"gridcolor\": \"white\", \"linecolor\": \"white\", \"minorgridcolor\": \"white\", \"startlinecolor\": \"#2a3f5f\"}, \"baxis\": {\"endlinecolor\": \"#2a3f5f\", \"gridcolor\": \"white\", \"linecolor\": \"white\", \"minorgridcolor\": \"white\", \"startlinecolor\": \"#2a3f5f\"}, \"type\": \"carpet\"}], \"choropleth\": [{\"colorbar\": {\"outlinewidth\": 0, \"ticks\": \"\"}, \"type\": \"choropleth\"}], \"contour\": [{\"colorbar\": {\"outlinewidth\": 0, \"ticks\": \"\"}, \"colorscale\": [[0.0, \"#0d0887\"], [0.1111111111111111, \"#46039f\"], [0.2222222222222222, \"#7201a8\"], [0.3333333333333333, \"#9c179e\"], [0.4444444444444444, \"#bd3786\"], [0.5555555555555556, \"#d8576b\"], [0.6666666666666666, \"#ed7953\"], [0.7777777777777778, \"#fb9f3a\"], [0.8888888888888888, \"#fdca26\"], [1.0, \"#f0f921\"]], \"type\": \"contour\"}], \"contourcarpet\": [{\"colorbar\": {\"outlinewidth\": 0, \"ticks\": \"\"}, \"type\": \"contourcarpet\"}], \"heatmap\": [{\"colorbar\": {\"outlinewidth\": 0, \"ticks\": \"\"}, \"colorscale\": [[0.0, \"#0d0887\"], [0.1111111111111111, \"#46039f\"], [0.2222222222222222, \"#7201a8\"], [0.3333333333333333, \"#9c179e\"], [0.4444444444444444, \"#bd3786\"], [0.5555555555555556, \"#d8576b\"], [0.6666666666666666, \"#ed7953\"], [0.7777777777777778, \"#fb9f3a\"], [0.8888888888888888, \"#fdca26\"], [1.0, \"#f0f921\"]], \"type\": \"heatmap\"}], \"heatmapgl\": [{\"colorbar\": {\"outlinewidth\": 0, \"ticks\": \"\"}, \"colorscale\": [[0.0, \"#0d0887\"], [0.1111111111111111, \"#46039f\"], [0.2222222222222222, \"#7201a8\"], [0.3333333333333333, \"#9c179e\"], [0.4444444444444444, \"#bd3786\"], [0.5555555555555556, \"#d8576b\"], [0.6666666666666666, \"#ed7953\"], [0.7777777777777778, \"#fb9f3a\"], [0.8888888888888888, \"#fdca26\"], [1.0, \"#f0f921\"]], \"type\": \"heatmapgl\"}], \"histogram\": [{\"marker\": {\"colorbar\": {\"outlinewidth\": 0, \"ticks\": \"\"}}, \"type\": \"histogram\"}], \"histogram2d\": [{\"colorbar\": {\"outlinewidth\": 0, \"ticks\": \"\"}, \"colorscale\": [[0.0, \"#0d0887\"], [0.1111111111111111, \"#46039f\"], [0.2222222222222222, \"#7201a8\"], [0.3333333333333333, \"#9c179e\"], [0.4444444444444444, \"#bd3786\"], [0.5555555555555556, \"#d8576b\"], [0.6666666666666666, \"#ed7953\"], [0.7777777777777778, \"#fb9f3a\"], [0.8888888888888888, \"#fdca26\"], [1.0, \"#f0f921\"]], \"type\": \"histogram2d\"}], \"histogram2dcontour\": [{\"colorbar\": {\"outlinewidth\": 0, \"ticks\": \"\"}, \"colorscale\": [[0.0, \"#0d0887\"], [0.1111111111111111, \"#46039f\"], [0.2222222222222222, \"#7201a8\"], [0.3333333333333333, \"#9c179e\"], [0.4444444444444444, \"#bd3786\"], [0.5555555555555556, \"#d8576b\"], [0.6666666666666666, \"#ed7953\"], [0.7777777777777778, \"#fb9f3a\"], [0.8888888888888888, \"#fdca26\"], [1.0, \"#f0f921\"]], \"type\": \"histogram2dcontour\"}], \"mesh3d\": [{\"colorbar\": {\"outlinewidth\": 0, \"ticks\": \"\"}, \"type\": \"mesh3d\"}], \"parcoords\": [{\"line\": {\"colorbar\": {\"outlinewidth\": 0, \"ticks\": \"\"}}, \"type\": \"parcoords\"}], \"pie\": [{\"automargin\": true, \"type\": \"pie\"}], \"scatter\": [{\"marker\": {\"colorbar\": {\"outlinewidth\": 0, \"ticks\": \"\"}}, \"type\": \"scatter\"}], \"scatter3d\": [{\"line\": {\"colorbar\": {\"outlinewidth\": 0, \"ticks\": \"\"}}, \"marker\": {\"colorbar\": {\"outlinewidth\": 0, \"ticks\": \"\"}}, \"type\": \"scatter3d\"}], \"scattercarpet\": [{\"marker\": {\"colorbar\": {\"outlinewidth\": 0, \"ticks\": \"\"}}, \"type\": \"scattercarpet\"}], \"scattergeo\": [{\"marker\": {\"colorbar\": {\"outlinewidth\": 0, \"ticks\": \"\"}}, \"type\": \"scattergeo\"}], \"scattergl\": [{\"marker\": {\"colorbar\": {\"outlinewidth\": 0, \"ticks\": \"\"}}, \"type\": \"scattergl\"}], \"scattermapbox\": [{\"marker\": {\"colorbar\": {\"outlinewidth\": 0, \"ticks\": \"\"}}, \"type\": \"scattermapbox\"}], \"scatterpolar\": [{\"marker\": {\"colorbar\": {\"outlinewidth\": 0, \"ticks\": \"\"}}, \"type\": \"scatterpolar\"}], \"scatterpolargl\": [{\"marker\": {\"colorbar\": {\"outlinewidth\": 0, \"ticks\": \"\"}}, \"type\": \"scatterpolargl\"}], \"scatterternary\": [{\"marker\": {\"colorbar\": {\"outlinewidth\": 0, \"ticks\": \"\"}}, \"type\": \"scatterternary\"}], \"surface\": [{\"colorbar\": {\"outlinewidth\": 0, \"ticks\": \"\"}, \"colorscale\": [[0.0, \"#0d0887\"], [0.1111111111111111, \"#46039f\"], [0.2222222222222222, \"#7201a8\"], [0.3333333333333333, \"#9c179e\"], [0.4444444444444444, \"#bd3786\"], [0.5555555555555556, \"#d8576b\"], [0.6666666666666666, \"#ed7953\"], [0.7777777777777778, \"#fb9f3a\"], [0.8888888888888888, \"#fdca26\"], [1.0, \"#f0f921\"]], \"type\": \"surface\"}], \"table\": [{\"cells\": {\"fill\": {\"color\": \"#EBF0F8\"}, \"line\": {\"color\": \"white\"}}, \"header\": {\"fill\": {\"color\": \"#C8D4E3\"}, \"line\": {\"color\": \"white\"}}, \"type\": \"table\"}]}, \"layout\": {\"annotationdefaults\": {\"arrowcolor\": \"#2a3f5f\", \"arrowhead\": 0, \"arrowwidth\": 1}, \"coloraxis\": {\"colorbar\": {\"outlinewidth\": 0, \"ticks\": \"\"}}, \"colorscale\": {\"diverging\": [[0, \"#8e0152\"], [0.1, \"#c51b7d\"], [0.2, \"#de77ae\"], [0.3, \"#f1b6da\"], [0.4, \"#fde0ef\"], [0.5, \"#f7f7f7\"], [0.6, \"#e6f5d0\"], [0.7, \"#b8e186\"], [0.8, \"#7fbc41\"], [0.9, \"#4d9221\"], [1, \"#276419\"]], \"sequential\": [[0.0, \"#0d0887\"], [0.1111111111111111, \"#46039f\"], [0.2222222222222222, \"#7201a8\"], [0.3333333333333333, \"#9c179e\"], [0.4444444444444444, \"#bd3786\"], [0.5555555555555556, \"#d8576b\"], [0.6666666666666666, \"#ed7953\"], [0.7777777777777778, \"#fb9f3a\"], [0.8888888888888888, \"#fdca26\"], [1.0, \"#f0f921\"]], \"sequentialminus\": [[0.0, \"#0d0887\"], [0.1111111111111111, \"#46039f\"], [0.2222222222222222, \"#7201a8\"], [0.3333333333333333, \"#9c179e\"], [0.4444444444444444, \"#bd3786\"], [0.5555555555555556, \"#d8576b\"], [0.6666666666666666, \"#ed7953\"], [0.7777777777777778, \"#fb9f3a\"], [0.8888888888888888, \"#fdca26\"], [1.0, \"#f0f921\"]]}, \"colorway\": [\"#636efa\", \"#EF553B\", \"#00cc96\", \"#ab63fa\", \"#FFA15A\", \"#19d3f3\", \"#FF6692\", \"#B6E880\", \"#FF97FF\", \"#FECB52\"], \"font\": {\"color\": \"#2a3f5f\"}, \"geo\": {\"bgcolor\": \"white\", \"lakecolor\": \"white\", \"landcolor\": \"#E5ECF6\", \"showlakes\": true, \"showland\": true, \"subunitcolor\": \"white\"}, \"hoverlabel\": {\"align\": \"left\"}, \"hovermode\": \"closest\", \"mapbox\": {\"style\": \"light\"}, \"paper_bgcolor\": \"white\", \"plot_bgcolor\": \"#E5ECF6\", \"polar\": {\"angularaxis\": {\"gridcolor\": \"white\", \"linecolor\": \"white\", \"ticks\": \"\"}, \"bgcolor\": \"#E5ECF6\", \"radialaxis\": {\"gridcolor\": \"white\", \"linecolor\": \"white\", \"ticks\": \"\"}}, \"scene\": {\"xaxis\": {\"backgroundcolor\": \"#E5ECF6\", \"gridcolor\": \"white\", \"gridwidth\": 2, \"linecolor\": \"white\", \"showbackground\": true, \"ticks\": \"\", \"zerolinecolor\": \"white\"}, \"yaxis\": {\"backgroundcolor\": \"#E5ECF6\", \"gridcolor\": \"white\", \"gridwidth\": 2, \"linecolor\": \"white\", \"showbackground\": true, \"ticks\": \"\", \"zerolinecolor\": \"white\"}, \"zaxis\": {\"backgroundcolor\": \"#E5ECF6\", \"gridcolor\": \"white\", \"gridwidth\": 2, \"linecolor\": \"white\", \"showbackground\": true, \"ticks\": \"\", \"zerolinecolor\": \"white\"}}, \"shapedefaults\": {\"line\": {\"color\": \"#2a3f5f\"}}, \"ternary\": {\"aaxis\": {\"gridcolor\": \"white\", \"linecolor\": \"white\", \"ticks\": \"\"}, \"baxis\": {\"gridcolor\": \"white\", \"linecolor\": \"white\", \"ticks\": \"\"}, \"bgcolor\": \"#E5ECF6\", \"caxis\": {\"gridcolor\": \"white\", \"linecolor\": \"white\", \"ticks\": \"\"}}, \"title\": {\"x\": 0.05}, \"xaxis\": {\"automargin\": true, \"gridcolor\": \"white\", \"linecolor\": \"white\", \"ticks\": \"\", \"title\": {\"standoff\": 15}, \"zerolinecolor\": \"white\", \"zerolinewidth\": 2}, \"yaxis\": {\"automargin\": true, \"gridcolor\": \"white\", \"linecolor\": \"white\", \"ticks\": \"\", \"title\": {\"standoff\": 15}, \"zerolinecolor\": \"white\", \"zerolinewidth\": 2}}}},\n",
              "                        {\"responsive\": true}\n",
              "                    ).then(function(){\n",
              "                            \n",
              "var gd = document.getElementById('5f9cf4f4-1186-44ef-9c36-ec228fc02e55');\n",
              "var x = new MutationObserver(function (mutations, observer) {{\n",
              "        var display = window.getComputedStyle(gd).display;\n",
              "        if (!display || display === 'none') {{\n",
              "            console.log([gd, 'removed!']);\n",
              "            Plotly.purge(gd);\n",
              "            observer.disconnect();\n",
              "        }}\n",
              "}});\n",
              "\n",
              "// Listen for the removal of the full notebook cells\n",
              "var notebookContainer = gd.closest('#notebook-container');\n",
              "if (notebookContainer) {{\n",
              "    x.observe(notebookContainer, {childList: true});\n",
              "}}\n",
              "\n",
              "// Listen for the clearing of the current output cell\n",
              "var outputEl = gd.closest('.output');\n",
              "if (outputEl) {{\n",
              "    x.observe(outputEl, {childList: true});\n",
              "}}\n",
              "\n",
              "                        })\n",
              "                };\n",
              "                });\n",
              "            </script>\n",
              "        </div>"
            ]
          },
          "metadata": {
            "tags": []
          }
        }
      ]
    },
    {
      "cell_type": "code",
      "metadata": {
        "id": "dO0L5LY5cVSb",
        "colab_type": "code",
        "colab": {}
      },
      "source": [
        "national_rep_margin_2018 = 100 * (results[2018]['total_rep'] - results[2018]['total_dem']) / results[2018]['total']"
      ],
      "execution_count": null,
      "outputs": []
    },
    {
      "cell_type": "code",
      "metadata": {
        "id": "uV1dUS6bcVSd",
        "colab_type": "code",
        "colab": {},
        "outputId": "7450d719-2d0c-4a6c-9c22-162608f8526d"
      },
      "source": [
        "national_rep_margin_2018"
      ],
      "execution_count": null,
      "outputs": [
        {
          "output_type": "execute_result",
          "data": {
            "text/plain": [
              "-7.183550926669227"
            ]
          },
          "metadata": {
            "tags": []
          },
          "execution_count": 172
        }
      ]
    },
    {
      "cell_type": "code",
      "metadata": {
        "id": "kWQwQwUAcVSf",
        "colab_type": "code",
        "colab": {}
      },
      "source": [
        "rep_states = [\"Idaho\",\n",
        "\"Nevada\",\n",
        "\"Utah\",\n",
        "\"Arizona\",\n",
        "\"Alaska\",\n",
        "\"Wyoming\",\n",
        "\"New Mexico\",\n",
        "\"Texas\",\n",
        "\"Oklahoma\",\n",
        "\"Nebraska\",\n",
        "\"Kansas\",\n",
        "\"South Dakota\",\n",
        "\"Iowa\",\n",
        "\"Wisconsin\",\n",
        "\"Michigan\",\n",
        "\"Ohio\",\n",
        "\"Tennessee\",\n",
        "\"Alabama\",\n",
        "\"Georgia\",\n",
        "\"South Carolina\",\n",
        "\"Florida\",\n",
        "\"Pennsylvania\",\n",
        "\"Maine\",\n",
        "\"New Jersey\",\n",
        "\"Virginia\",\n",
        "\"North Dakota\",\n",
        "\"Indiana\",\n",
        "\"Mississippi\",\n",
        "\"Louisiana\",\n",
        "\"North Carolina\"\n",
        "]\n",
        "\n",
        "# results_2018 = results[2018]['results']\n",
        "# results_2018_df = results_2018[0]\n",
        "# results_2018_df.reset_index(drop=True, inplace=True)\n",
        "# results_2018_df\n",
        "rep_data = all_data[all_data['state'].isin(rep_states)]"
      ],
      "execution_count": null,
      "outputs": []
    },
    {
      "cell_type": "code",
      "metadata": {
        "id": "5tjppuUvcVSh",
        "colab_type": "code",
        "colab": {},
        "outputId": "3d6ceca6-a9f7-48e1-e5f9-79225508206a"
      },
      "source": [
        "from collections import defaultdict\n",
        "from collections import Counter\n",
        "\n",
        "rep_state_results = defaultdict(dict)\n",
        "for year in range(1976, 2020, 2):\n",
        "    rep_state_results[year]['results'] = get_pct_results(rep_data, year)\n",
        "    rep_state_results[year]['total_dem'] = get_total_votes_by_party(rep_data, 'democrat', year)\n",
        "    rep_state_results[year]['total_rep'] = get_total_votes_by_party(rep_data, 'republican', year)\n",
        "    rep_state_results[year]['total'] = get_total_votes(rep_data, year)"
      ],
      "execution_count": null,
      "outputs": [
        {
          "output_type": "stream",
          "text": [
            "/usr/local/Cellar/jupyterlab/2.0.1/libexec/lib/python3.7/site-packages/ipykernel_launcher.py:2: UserWarning:\n",
            "\n",
            "Boolean Series key will be reindexed to match DataFrame index.\n",
            "\n"
          ],
          "name": "stderr"
        }
      ]
    },
    {
      "cell_type": "code",
      "metadata": {
        "id": "nigND5FIcVSj",
        "colab_type": "code",
        "colab": {},
        "outputId": "c6ae32ba-49a8-4e00-a549-d0157bc906cd"
      },
      "source": [
        "import math\n",
        "by_pct = Counter()\n",
        "years = [2018]\n",
        "national_rep_margin_2018 = 100 * (results[2018]['total_rep'] - results[2018]['total_dem']) / results[2018]['total']\n",
        "\n",
        "for year in years:\n",
        "    for row in rep_state_results[year]['results'][0].iterrows():\n",
        "        national_rep_margin = 100 * (results[year]['total_rep'] - results[year]['total_dem']) / results[year]['total']\n",
        "        by_pct[int(row[1]['rep_margin'])] += 1\n",
        "    \n",
        "smoothed_by_pct = normalize_weights(smooth(by_pct, 3), sum(by_pct.values()))\n",
        "sorted_by_pct = OrderedDict(sorted(smoothed_by_pct.items()))\n",
        "dem_blowout = sum([val for key, val in sorted_by_pct.items() if key < -60])\n",
        "rep_blowout = sum([val for key, val in sorted_by_pct.items() if key > 60])\n",
        "print(\"Dem Blowout: {}\\tRep Blowout: {}\".format(dem_blowout, rep_blowout))\n",
        "sorted_by_pct = {key: val for key, val in sorted_by_pct.items() if abs(key) <= 60}\n",
        "\n",
        "trace0 = Scatter(x = list(sorted_by_pct.keys()), y = list(sorted_by_pct.values()))\n",
        "data = Data([trace0])\n",
        "iplot(data)"
      ],
      "execution_count": null,
      "outputs": [
        {
          "output_type": "stream",
          "text": [
            "3\n",
            "Dem Blowout: 10.75445173383317\tRep Blowout: 1.6729147141518266\n"
          ],
          "name": "stdout"
        },
        {
          "output_type": "display_data",
          "data": {
            "application/vnd.plotly.v1+json": {
              "config": {
                "linkText": "Export to plot.ly",
                "plotlyServerURL": "https://plot.ly",
                "showLink": false
              },
              "data": [
                {
                  "type": "scatter",
                  "x": [
                    -60,
                    -59,
                    -58,
                    -57,
                    -54,
                    -53,
                    -52,
                    -51,
                    -48,
                    -47,
                    -46,
                    -45,
                    -44,
                    -41,
                    -39,
                    -37,
                    -35,
                    -33,
                    -32,
                    -31,
                    -30,
                    -29,
                    -27,
                    -26,
                    -24,
                    -23,
                    -22,
                    -21,
                    -20,
                    -19,
                    -17,
                    -16,
                    -15,
                    -14,
                    -13,
                    -12,
                    -10,
                    -9,
                    -8,
                    -7,
                    -6,
                    -5,
                    -3,
                    -2,
                    -1,
                    0,
                    1,
                    2,
                    3,
                    4,
                    5,
                    6,
                    7,
                    8,
                    9,
                    10,
                    11,
                    12,
                    13,
                    14,
                    15,
                    16,
                    17,
                    18,
                    19,
                    20,
                    21,
                    22,
                    23,
                    24,
                    25,
                    26,
                    27,
                    28,
                    29,
                    30,
                    31,
                    32,
                    33,
                    34,
                    35,
                    36,
                    37,
                    38,
                    40,
                    41,
                    44,
                    45,
                    47,
                    48,
                    50,
                    52,
                    53,
                    56,
                    59,
                    60
                  ],
                  "y": [
                    0.7169634489222114,
                    0.9559512652296152,
                    0.9559512652296152,
                    0.7169634489222114,
                    1.194939081537019,
                    1.4339268978444228,
                    1.4339268978444228,
                    0.9559512652296152,
                    0.7169634489222114,
                    0.9559512652296152,
                    1.194939081537019,
                    0.9559512652296152,
                    0.7169634489222114,
                    1.194939081537019,
                    1.4339268978444228,
                    1.4339268978444228,
                    1.194939081537019,
                    1.4339268978444228,
                    1.194939081537019,
                    1.4339268978444228,
                    1.194939081537019,
                    1.6729147141518268,
                    1.4339268978444228,
                    1.4339268978444228,
                    1.9119025304592303,
                    1.6729147141518268,
                    1.9119025304592303,
                    2.389878163074038,
                    2.1508903467666345,
                    1.4339268978444228,
                    1.6729147141518268,
                    1.194939081537019,
                    1.4339268978444228,
                    1.9119025304592303,
                    1.6729147141518268,
                    1.4339268978444228,
                    2.1508903467666345,
                    1.9119025304592303,
                    2.389878163074038,
                    3.10684161199625,
                    2.1508903467666345,
                    2.1508903467666345,
                    3.5848172446110573,
                    3.8238050609184606,
                    4.062792877225864,
                    4.779756326148076,
                    4.779756326148076,
                    4.301780693533269,
                    3.5848172446110573,
                    4.062792877225864,
                    3.8238050609184606,
                    3.8238050609184606,
                    2.8678537956888457,
                    3.8238050609184606,
                    3.5848172446110573,
                    4.540768509840673,
                    5.257731958762884,
                    5.01874414245548,
                    4.779756326148076,
                    4.779756326148076,
                    3.8238050609184606,
                    4.301780693533269,
                    5.01874414245548,
                    5.01874414245548,
                    5.01874414245548,
                    4.779756326148076,
                    4.062792877225864,
                    4.062792877225864,
                    3.8238050609184606,
                    3.5848172446110573,
                    3.8238050609184606,
                    3.3458294283036536,
                    3.10684161199625,
                    3.8238050609184606,
                    4.062792877225864,
                    4.062792877225864,
                    4.062792877225864,
                    4.540768509840673,
                    3.10684161199625,
                    3.5848172446110573,
                    3.5848172446110573,
                    3.8238050609184606,
                    2.628865979381442,
                    3.10684161199625,
                    1.6729147141518268,
                    0.9559512652296152,
                    0.7169634489222114,
                    0.9559512652296152,
                    0.9559512652296152,
                    0.7169634489222114,
                    0.7169634489222114,
                    0.9559512652296152,
                    0.7169634489222114,
                    0.2389878163074038,
                    0.9559512652296152,
                    0.9559512652296152
                  ]
                }
              ],
              "layout": {
                "template": {
                  "data": {
                    "bar": [
                      {
                        "error_x": {
                          "color": "#2a3f5f"
                        },
                        "error_y": {
                          "color": "#2a3f5f"
                        },
                        "marker": {
                          "line": {
                            "color": "#E5ECF6",
                            "width": 0.5
                          }
                        },
                        "type": "bar"
                      }
                    ],
                    "barpolar": [
                      {
                        "marker": {
                          "line": {
                            "color": "#E5ECF6",
                            "width": 0.5
                          }
                        },
                        "type": "barpolar"
                      }
                    ],
                    "carpet": [
                      {
                        "aaxis": {
                          "endlinecolor": "#2a3f5f",
                          "gridcolor": "white",
                          "linecolor": "white",
                          "minorgridcolor": "white",
                          "startlinecolor": "#2a3f5f"
                        },
                        "baxis": {
                          "endlinecolor": "#2a3f5f",
                          "gridcolor": "white",
                          "linecolor": "white",
                          "minorgridcolor": "white",
                          "startlinecolor": "#2a3f5f"
                        },
                        "type": "carpet"
                      }
                    ],
                    "choropleth": [
                      {
                        "colorbar": {
                          "outlinewidth": 0,
                          "ticks": ""
                        },
                        "type": "choropleth"
                      }
                    ],
                    "contour": [
                      {
                        "colorbar": {
                          "outlinewidth": 0,
                          "ticks": ""
                        },
                        "colorscale": [
                          [
                            0,
                            "#0d0887"
                          ],
                          [
                            0.1111111111111111,
                            "#46039f"
                          ],
                          [
                            0.2222222222222222,
                            "#7201a8"
                          ],
                          [
                            0.3333333333333333,
                            "#9c179e"
                          ],
                          [
                            0.4444444444444444,
                            "#bd3786"
                          ],
                          [
                            0.5555555555555556,
                            "#d8576b"
                          ],
                          [
                            0.6666666666666666,
                            "#ed7953"
                          ],
                          [
                            0.7777777777777778,
                            "#fb9f3a"
                          ],
                          [
                            0.8888888888888888,
                            "#fdca26"
                          ],
                          [
                            1,
                            "#f0f921"
                          ]
                        ],
                        "type": "contour"
                      }
                    ],
                    "contourcarpet": [
                      {
                        "colorbar": {
                          "outlinewidth": 0,
                          "ticks": ""
                        },
                        "type": "contourcarpet"
                      }
                    ],
                    "heatmap": [
                      {
                        "colorbar": {
                          "outlinewidth": 0,
                          "ticks": ""
                        },
                        "colorscale": [
                          [
                            0,
                            "#0d0887"
                          ],
                          [
                            0.1111111111111111,
                            "#46039f"
                          ],
                          [
                            0.2222222222222222,
                            "#7201a8"
                          ],
                          [
                            0.3333333333333333,
                            "#9c179e"
                          ],
                          [
                            0.4444444444444444,
                            "#bd3786"
                          ],
                          [
                            0.5555555555555556,
                            "#d8576b"
                          ],
                          [
                            0.6666666666666666,
                            "#ed7953"
                          ],
                          [
                            0.7777777777777778,
                            "#fb9f3a"
                          ],
                          [
                            0.8888888888888888,
                            "#fdca26"
                          ],
                          [
                            1,
                            "#f0f921"
                          ]
                        ],
                        "type": "heatmap"
                      }
                    ],
                    "heatmapgl": [
                      {
                        "colorbar": {
                          "outlinewidth": 0,
                          "ticks": ""
                        },
                        "colorscale": [
                          [
                            0,
                            "#0d0887"
                          ],
                          [
                            0.1111111111111111,
                            "#46039f"
                          ],
                          [
                            0.2222222222222222,
                            "#7201a8"
                          ],
                          [
                            0.3333333333333333,
                            "#9c179e"
                          ],
                          [
                            0.4444444444444444,
                            "#bd3786"
                          ],
                          [
                            0.5555555555555556,
                            "#d8576b"
                          ],
                          [
                            0.6666666666666666,
                            "#ed7953"
                          ],
                          [
                            0.7777777777777778,
                            "#fb9f3a"
                          ],
                          [
                            0.8888888888888888,
                            "#fdca26"
                          ],
                          [
                            1,
                            "#f0f921"
                          ]
                        ],
                        "type": "heatmapgl"
                      }
                    ],
                    "histogram": [
                      {
                        "marker": {
                          "colorbar": {
                            "outlinewidth": 0,
                            "ticks": ""
                          }
                        },
                        "type": "histogram"
                      }
                    ],
                    "histogram2d": [
                      {
                        "colorbar": {
                          "outlinewidth": 0,
                          "ticks": ""
                        },
                        "colorscale": [
                          [
                            0,
                            "#0d0887"
                          ],
                          [
                            0.1111111111111111,
                            "#46039f"
                          ],
                          [
                            0.2222222222222222,
                            "#7201a8"
                          ],
                          [
                            0.3333333333333333,
                            "#9c179e"
                          ],
                          [
                            0.4444444444444444,
                            "#bd3786"
                          ],
                          [
                            0.5555555555555556,
                            "#d8576b"
                          ],
                          [
                            0.6666666666666666,
                            "#ed7953"
                          ],
                          [
                            0.7777777777777778,
                            "#fb9f3a"
                          ],
                          [
                            0.8888888888888888,
                            "#fdca26"
                          ],
                          [
                            1,
                            "#f0f921"
                          ]
                        ],
                        "type": "histogram2d"
                      }
                    ],
                    "histogram2dcontour": [
                      {
                        "colorbar": {
                          "outlinewidth": 0,
                          "ticks": ""
                        },
                        "colorscale": [
                          [
                            0,
                            "#0d0887"
                          ],
                          [
                            0.1111111111111111,
                            "#46039f"
                          ],
                          [
                            0.2222222222222222,
                            "#7201a8"
                          ],
                          [
                            0.3333333333333333,
                            "#9c179e"
                          ],
                          [
                            0.4444444444444444,
                            "#bd3786"
                          ],
                          [
                            0.5555555555555556,
                            "#d8576b"
                          ],
                          [
                            0.6666666666666666,
                            "#ed7953"
                          ],
                          [
                            0.7777777777777778,
                            "#fb9f3a"
                          ],
                          [
                            0.8888888888888888,
                            "#fdca26"
                          ],
                          [
                            1,
                            "#f0f921"
                          ]
                        ],
                        "type": "histogram2dcontour"
                      }
                    ],
                    "mesh3d": [
                      {
                        "colorbar": {
                          "outlinewidth": 0,
                          "ticks": ""
                        },
                        "type": "mesh3d"
                      }
                    ],
                    "parcoords": [
                      {
                        "line": {
                          "colorbar": {
                            "outlinewidth": 0,
                            "ticks": ""
                          }
                        },
                        "type": "parcoords"
                      }
                    ],
                    "pie": [
                      {
                        "automargin": true,
                        "type": "pie"
                      }
                    ],
                    "scatter": [
                      {
                        "marker": {
                          "colorbar": {
                            "outlinewidth": 0,
                            "ticks": ""
                          }
                        },
                        "type": "scatter"
                      }
                    ],
                    "scatter3d": [
                      {
                        "line": {
                          "colorbar": {
                            "outlinewidth": 0,
                            "ticks": ""
                          }
                        },
                        "marker": {
                          "colorbar": {
                            "outlinewidth": 0,
                            "ticks": ""
                          }
                        },
                        "type": "scatter3d"
                      }
                    ],
                    "scattercarpet": [
                      {
                        "marker": {
                          "colorbar": {
                            "outlinewidth": 0,
                            "ticks": ""
                          }
                        },
                        "type": "scattercarpet"
                      }
                    ],
                    "scattergeo": [
                      {
                        "marker": {
                          "colorbar": {
                            "outlinewidth": 0,
                            "ticks": ""
                          }
                        },
                        "type": "scattergeo"
                      }
                    ],
                    "scattergl": [
                      {
                        "marker": {
                          "colorbar": {
                            "outlinewidth": 0,
                            "ticks": ""
                          }
                        },
                        "type": "scattergl"
                      }
                    ],
                    "scattermapbox": [
                      {
                        "marker": {
                          "colorbar": {
                            "outlinewidth": 0,
                            "ticks": ""
                          }
                        },
                        "type": "scattermapbox"
                      }
                    ],
                    "scatterpolar": [
                      {
                        "marker": {
                          "colorbar": {
                            "outlinewidth": 0,
                            "ticks": ""
                          }
                        },
                        "type": "scatterpolar"
                      }
                    ],
                    "scatterpolargl": [
                      {
                        "marker": {
                          "colorbar": {
                            "outlinewidth": 0,
                            "ticks": ""
                          }
                        },
                        "type": "scatterpolargl"
                      }
                    ],
                    "scatterternary": [
                      {
                        "marker": {
                          "colorbar": {
                            "outlinewidth": 0,
                            "ticks": ""
                          }
                        },
                        "type": "scatterternary"
                      }
                    ],
                    "surface": [
                      {
                        "colorbar": {
                          "outlinewidth": 0,
                          "ticks": ""
                        },
                        "colorscale": [
                          [
                            0,
                            "#0d0887"
                          ],
                          [
                            0.1111111111111111,
                            "#46039f"
                          ],
                          [
                            0.2222222222222222,
                            "#7201a8"
                          ],
                          [
                            0.3333333333333333,
                            "#9c179e"
                          ],
                          [
                            0.4444444444444444,
                            "#bd3786"
                          ],
                          [
                            0.5555555555555556,
                            "#d8576b"
                          ],
                          [
                            0.6666666666666666,
                            "#ed7953"
                          ],
                          [
                            0.7777777777777778,
                            "#fb9f3a"
                          ],
                          [
                            0.8888888888888888,
                            "#fdca26"
                          ],
                          [
                            1,
                            "#f0f921"
                          ]
                        ],
                        "type": "surface"
                      }
                    ],
                    "table": [
                      {
                        "cells": {
                          "fill": {
                            "color": "#EBF0F8"
                          },
                          "line": {
                            "color": "white"
                          }
                        },
                        "header": {
                          "fill": {
                            "color": "#C8D4E3"
                          },
                          "line": {
                            "color": "white"
                          }
                        },
                        "type": "table"
                      }
                    ]
                  },
                  "layout": {
                    "annotationdefaults": {
                      "arrowcolor": "#2a3f5f",
                      "arrowhead": 0,
                      "arrowwidth": 1
                    },
                    "coloraxis": {
                      "colorbar": {
                        "outlinewidth": 0,
                        "ticks": ""
                      }
                    },
                    "colorscale": {
                      "diverging": [
                        [
                          0,
                          "#8e0152"
                        ],
                        [
                          0.1,
                          "#c51b7d"
                        ],
                        [
                          0.2,
                          "#de77ae"
                        ],
                        [
                          0.3,
                          "#f1b6da"
                        ],
                        [
                          0.4,
                          "#fde0ef"
                        ],
                        [
                          0.5,
                          "#f7f7f7"
                        ],
                        [
                          0.6,
                          "#e6f5d0"
                        ],
                        [
                          0.7,
                          "#b8e186"
                        ],
                        [
                          0.8,
                          "#7fbc41"
                        ],
                        [
                          0.9,
                          "#4d9221"
                        ],
                        [
                          1,
                          "#276419"
                        ]
                      ],
                      "sequential": [
                        [
                          0,
                          "#0d0887"
                        ],
                        [
                          0.1111111111111111,
                          "#46039f"
                        ],
                        [
                          0.2222222222222222,
                          "#7201a8"
                        ],
                        [
                          0.3333333333333333,
                          "#9c179e"
                        ],
                        [
                          0.4444444444444444,
                          "#bd3786"
                        ],
                        [
                          0.5555555555555556,
                          "#d8576b"
                        ],
                        [
                          0.6666666666666666,
                          "#ed7953"
                        ],
                        [
                          0.7777777777777778,
                          "#fb9f3a"
                        ],
                        [
                          0.8888888888888888,
                          "#fdca26"
                        ],
                        [
                          1,
                          "#f0f921"
                        ]
                      ],
                      "sequentialminus": [
                        [
                          0,
                          "#0d0887"
                        ],
                        [
                          0.1111111111111111,
                          "#46039f"
                        ],
                        [
                          0.2222222222222222,
                          "#7201a8"
                        ],
                        [
                          0.3333333333333333,
                          "#9c179e"
                        ],
                        [
                          0.4444444444444444,
                          "#bd3786"
                        ],
                        [
                          0.5555555555555556,
                          "#d8576b"
                        ],
                        [
                          0.6666666666666666,
                          "#ed7953"
                        ],
                        [
                          0.7777777777777778,
                          "#fb9f3a"
                        ],
                        [
                          0.8888888888888888,
                          "#fdca26"
                        ],
                        [
                          1,
                          "#f0f921"
                        ]
                      ]
                    },
                    "colorway": [
                      "#636efa",
                      "#EF553B",
                      "#00cc96",
                      "#ab63fa",
                      "#FFA15A",
                      "#19d3f3",
                      "#FF6692",
                      "#B6E880",
                      "#FF97FF",
                      "#FECB52"
                    ],
                    "font": {
                      "color": "#2a3f5f"
                    },
                    "geo": {
                      "bgcolor": "white",
                      "lakecolor": "white",
                      "landcolor": "#E5ECF6",
                      "showlakes": true,
                      "showland": true,
                      "subunitcolor": "white"
                    },
                    "hoverlabel": {
                      "align": "left"
                    },
                    "hovermode": "closest",
                    "mapbox": {
                      "style": "light"
                    },
                    "paper_bgcolor": "white",
                    "plot_bgcolor": "#E5ECF6",
                    "polar": {
                      "angularaxis": {
                        "gridcolor": "white",
                        "linecolor": "white",
                        "ticks": ""
                      },
                      "bgcolor": "#E5ECF6",
                      "radialaxis": {
                        "gridcolor": "white",
                        "linecolor": "white",
                        "ticks": ""
                      }
                    },
                    "scene": {
                      "xaxis": {
                        "backgroundcolor": "#E5ECF6",
                        "gridcolor": "white",
                        "gridwidth": 2,
                        "linecolor": "white",
                        "showbackground": true,
                        "ticks": "",
                        "zerolinecolor": "white"
                      },
                      "yaxis": {
                        "backgroundcolor": "#E5ECF6",
                        "gridcolor": "white",
                        "gridwidth": 2,
                        "linecolor": "white",
                        "showbackground": true,
                        "ticks": "",
                        "zerolinecolor": "white"
                      },
                      "zaxis": {
                        "backgroundcolor": "#E5ECF6",
                        "gridcolor": "white",
                        "gridwidth": 2,
                        "linecolor": "white",
                        "showbackground": true,
                        "ticks": "",
                        "zerolinecolor": "white"
                      }
                    },
                    "shapedefaults": {
                      "line": {
                        "color": "#2a3f5f"
                      }
                    },
                    "ternary": {
                      "aaxis": {
                        "gridcolor": "white",
                        "linecolor": "white",
                        "ticks": ""
                      },
                      "baxis": {
                        "gridcolor": "white",
                        "linecolor": "white",
                        "ticks": ""
                      },
                      "bgcolor": "#E5ECF6",
                      "caxis": {
                        "gridcolor": "white",
                        "linecolor": "white",
                        "ticks": ""
                      }
                    },
                    "title": {
                      "x": 0.05
                    },
                    "xaxis": {
                      "automargin": true,
                      "gridcolor": "white",
                      "linecolor": "white",
                      "ticks": "",
                      "title": {
                        "standoff": 15
                      },
                      "zerolinecolor": "white",
                      "zerolinewidth": 2
                    },
                    "yaxis": {
                      "automargin": true,
                      "gridcolor": "white",
                      "linecolor": "white",
                      "ticks": "",
                      "title": {
                        "standoff": 15
                      },
                      "zerolinecolor": "white",
                      "zerolinewidth": 2
                    }
                  }
                }
              }
            },
            "text/html": [
              "<div>\n",
              "        \n",
              "        \n",
              "            <div id=\"6665500c-97d1-42c0-9b8d-3f6c3729c948\" class=\"plotly-graph-div\" style=\"height:525px; width:100%;\"></div>\n",
              "            <script type=\"text/javascript\">\n",
              "                require([\"plotly\"], function(Plotly) {\n",
              "                    window.PLOTLYENV=window.PLOTLYENV || {};\n",
              "                    \n",
              "                if (document.getElementById(\"6665500c-97d1-42c0-9b8d-3f6c3729c948\")) {\n",
              "                    Plotly.newPlot(\n",
              "                        '6665500c-97d1-42c0-9b8d-3f6c3729c948',\n",
              "                        [{\"type\": \"scatter\", \"x\": [-60, -59, -58, -57, -54, -53, -52, -51, -48, -47, -46, -45, -44, -41, -39, -37, -35, -33, -32, -31, -30, -29, -27, -26, -24, -23, -22, -21, -20, -19, -17, -16, -15, -14, -13, -12, -10, -9, -8, -7, -6, -5, -3, -2, -1, 0, 1, 2, 3, 4, 5, 6, 7, 8, 9, 10, 11, 12, 13, 14, 15, 16, 17, 18, 19, 20, 21, 22, 23, 24, 25, 26, 27, 28, 29, 30, 31, 32, 33, 34, 35, 36, 37, 38, 40, 41, 44, 45, 47, 48, 50, 52, 53, 56, 59, 60], \"y\": [0.7169634489222114, 0.9559512652296152, 0.9559512652296152, 0.7169634489222114, 1.194939081537019, 1.4339268978444228, 1.4339268978444228, 0.9559512652296152, 0.7169634489222114, 0.9559512652296152, 1.194939081537019, 0.9559512652296152, 0.7169634489222114, 1.194939081537019, 1.4339268978444228, 1.4339268978444228, 1.194939081537019, 1.4339268978444228, 1.194939081537019, 1.4339268978444228, 1.194939081537019, 1.6729147141518268, 1.4339268978444228, 1.4339268978444228, 1.9119025304592303, 1.6729147141518268, 1.9119025304592303, 2.389878163074038, 2.1508903467666345, 1.4339268978444228, 1.6729147141518268, 1.194939081537019, 1.4339268978444228, 1.9119025304592303, 1.6729147141518268, 1.4339268978444228, 2.1508903467666345, 1.9119025304592303, 2.389878163074038, 3.10684161199625, 2.1508903467666345, 2.1508903467666345, 3.5848172446110573, 3.8238050609184606, 4.062792877225864, 4.779756326148076, 4.779756326148076, 4.301780693533269, 3.5848172446110573, 4.062792877225864, 3.8238050609184606, 3.8238050609184606, 2.8678537956888457, 3.8238050609184606, 3.5848172446110573, 4.540768509840673, 5.257731958762884, 5.01874414245548, 4.779756326148076, 4.779756326148076, 3.8238050609184606, 4.301780693533269, 5.01874414245548, 5.01874414245548, 5.01874414245548, 4.779756326148076, 4.062792877225864, 4.062792877225864, 3.8238050609184606, 3.5848172446110573, 3.8238050609184606, 3.3458294283036536, 3.10684161199625, 3.8238050609184606, 4.062792877225864, 4.062792877225864, 4.062792877225864, 4.540768509840673, 3.10684161199625, 3.5848172446110573, 3.5848172446110573, 3.8238050609184606, 2.628865979381442, 3.10684161199625, 1.6729147141518268, 0.9559512652296152, 0.7169634489222114, 0.9559512652296152, 0.9559512652296152, 0.7169634489222114, 0.7169634489222114, 0.9559512652296152, 0.7169634489222114, 0.2389878163074038, 0.9559512652296152, 0.9559512652296152]}],\n",
              "                        {\"template\": {\"data\": {\"bar\": [{\"error_x\": {\"color\": \"#2a3f5f\"}, \"error_y\": {\"color\": \"#2a3f5f\"}, \"marker\": {\"line\": {\"color\": \"#E5ECF6\", \"width\": 0.5}}, \"type\": \"bar\"}], \"barpolar\": [{\"marker\": {\"line\": {\"color\": \"#E5ECF6\", \"width\": 0.5}}, \"type\": \"barpolar\"}], \"carpet\": [{\"aaxis\": {\"endlinecolor\": \"#2a3f5f\", \"gridcolor\": \"white\", \"linecolor\": \"white\", \"minorgridcolor\": \"white\", \"startlinecolor\": \"#2a3f5f\"}, \"baxis\": {\"endlinecolor\": \"#2a3f5f\", \"gridcolor\": \"white\", \"linecolor\": \"white\", \"minorgridcolor\": \"white\", \"startlinecolor\": \"#2a3f5f\"}, \"type\": \"carpet\"}], \"choropleth\": [{\"colorbar\": {\"outlinewidth\": 0, \"ticks\": \"\"}, \"type\": \"choropleth\"}], \"contour\": [{\"colorbar\": {\"outlinewidth\": 0, \"ticks\": \"\"}, \"colorscale\": [[0.0, \"#0d0887\"], [0.1111111111111111, \"#46039f\"], [0.2222222222222222, \"#7201a8\"], [0.3333333333333333, \"#9c179e\"], [0.4444444444444444, \"#bd3786\"], [0.5555555555555556, \"#d8576b\"], [0.6666666666666666, \"#ed7953\"], [0.7777777777777778, \"#fb9f3a\"], [0.8888888888888888, \"#fdca26\"], [1.0, \"#f0f921\"]], \"type\": \"contour\"}], \"contourcarpet\": [{\"colorbar\": {\"outlinewidth\": 0, \"ticks\": \"\"}, \"type\": \"contourcarpet\"}], \"heatmap\": [{\"colorbar\": {\"outlinewidth\": 0, \"ticks\": \"\"}, \"colorscale\": [[0.0, \"#0d0887\"], [0.1111111111111111, \"#46039f\"], [0.2222222222222222, \"#7201a8\"], [0.3333333333333333, \"#9c179e\"], [0.4444444444444444, \"#bd3786\"], [0.5555555555555556, \"#d8576b\"], [0.6666666666666666, \"#ed7953\"], [0.7777777777777778, \"#fb9f3a\"], [0.8888888888888888, \"#fdca26\"], [1.0, \"#f0f921\"]], \"type\": \"heatmap\"}], \"heatmapgl\": [{\"colorbar\": {\"outlinewidth\": 0, \"ticks\": \"\"}, \"colorscale\": [[0.0, \"#0d0887\"], [0.1111111111111111, \"#46039f\"], [0.2222222222222222, \"#7201a8\"], [0.3333333333333333, \"#9c179e\"], [0.4444444444444444, \"#bd3786\"], [0.5555555555555556, \"#d8576b\"], [0.6666666666666666, \"#ed7953\"], [0.7777777777777778, \"#fb9f3a\"], [0.8888888888888888, \"#fdca26\"], [1.0, \"#f0f921\"]], \"type\": \"heatmapgl\"}], \"histogram\": [{\"marker\": {\"colorbar\": {\"outlinewidth\": 0, \"ticks\": \"\"}}, \"type\": \"histogram\"}], \"histogram2d\": [{\"colorbar\": {\"outlinewidth\": 0, \"ticks\": \"\"}, \"colorscale\": [[0.0, \"#0d0887\"], [0.1111111111111111, \"#46039f\"], [0.2222222222222222, \"#7201a8\"], [0.3333333333333333, \"#9c179e\"], [0.4444444444444444, \"#bd3786\"], [0.5555555555555556, \"#d8576b\"], [0.6666666666666666, \"#ed7953\"], [0.7777777777777778, \"#fb9f3a\"], [0.8888888888888888, \"#fdca26\"], [1.0, \"#f0f921\"]], \"type\": \"histogram2d\"}], \"histogram2dcontour\": [{\"colorbar\": {\"outlinewidth\": 0, \"ticks\": \"\"}, \"colorscale\": [[0.0, \"#0d0887\"], [0.1111111111111111, \"#46039f\"], [0.2222222222222222, \"#7201a8\"], [0.3333333333333333, \"#9c179e\"], [0.4444444444444444, \"#bd3786\"], [0.5555555555555556, \"#d8576b\"], [0.6666666666666666, \"#ed7953\"], [0.7777777777777778, \"#fb9f3a\"], [0.8888888888888888, \"#fdca26\"], [1.0, \"#f0f921\"]], \"type\": \"histogram2dcontour\"}], \"mesh3d\": [{\"colorbar\": {\"outlinewidth\": 0, \"ticks\": \"\"}, \"type\": \"mesh3d\"}], \"parcoords\": [{\"line\": {\"colorbar\": {\"outlinewidth\": 0, \"ticks\": \"\"}}, \"type\": \"parcoords\"}], \"pie\": [{\"automargin\": true, \"type\": \"pie\"}], \"scatter\": [{\"marker\": {\"colorbar\": {\"outlinewidth\": 0, \"ticks\": \"\"}}, \"type\": \"scatter\"}], \"scatter3d\": [{\"line\": {\"colorbar\": {\"outlinewidth\": 0, \"ticks\": \"\"}}, \"marker\": {\"colorbar\": {\"outlinewidth\": 0, \"ticks\": \"\"}}, \"type\": \"scatter3d\"}], \"scattercarpet\": [{\"marker\": {\"colorbar\": {\"outlinewidth\": 0, \"ticks\": \"\"}}, \"type\": \"scattercarpet\"}], \"scattergeo\": [{\"marker\": {\"colorbar\": {\"outlinewidth\": 0, \"ticks\": \"\"}}, \"type\": \"scattergeo\"}], \"scattergl\": [{\"marker\": {\"colorbar\": {\"outlinewidth\": 0, \"ticks\": \"\"}}, \"type\": \"scattergl\"}], \"scattermapbox\": [{\"marker\": {\"colorbar\": {\"outlinewidth\": 0, \"ticks\": \"\"}}, \"type\": \"scattermapbox\"}], \"scatterpolar\": [{\"marker\": {\"colorbar\": {\"outlinewidth\": 0, \"ticks\": \"\"}}, \"type\": \"scatterpolar\"}], \"scatterpolargl\": [{\"marker\": {\"colorbar\": {\"outlinewidth\": 0, \"ticks\": \"\"}}, \"type\": \"scatterpolargl\"}], \"scatterternary\": [{\"marker\": {\"colorbar\": {\"outlinewidth\": 0, \"ticks\": \"\"}}, \"type\": \"scatterternary\"}], \"surface\": [{\"colorbar\": {\"outlinewidth\": 0, \"ticks\": \"\"}, \"colorscale\": [[0.0, \"#0d0887\"], [0.1111111111111111, \"#46039f\"], [0.2222222222222222, \"#7201a8\"], [0.3333333333333333, \"#9c179e\"], [0.4444444444444444, \"#bd3786\"], [0.5555555555555556, \"#d8576b\"], [0.6666666666666666, \"#ed7953\"], [0.7777777777777778, \"#fb9f3a\"], [0.8888888888888888, \"#fdca26\"], [1.0, \"#f0f921\"]], \"type\": \"surface\"}], \"table\": [{\"cells\": {\"fill\": {\"color\": \"#EBF0F8\"}, \"line\": {\"color\": \"white\"}}, \"header\": {\"fill\": {\"color\": \"#C8D4E3\"}, \"line\": {\"color\": \"white\"}}, \"type\": \"table\"}]}, \"layout\": {\"annotationdefaults\": {\"arrowcolor\": \"#2a3f5f\", \"arrowhead\": 0, \"arrowwidth\": 1}, \"coloraxis\": {\"colorbar\": {\"outlinewidth\": 0, \"ticks\": \"\"}}, \"colorscale\": {\"diverging\": [[0, \"#8e0152\"], [0.1, \"#c51b7d\"], [0.2, \"#de77ae\"], [0.3, \"#f1b6da\"], [0.4, \"#fde0ef\"], [0.5, \"#f7f7f7\"], [0.6, \"#e6f5d0\"], [0.7, \"#b8e186\"], [0.8, \"#7fbc41\"], [0.9, \"#4d9221\"], [1, \"#276419\"]], \"sequential\": [[0.0, \"#0d0887\"], [0.1111111111111111, \"#46039f\"], [0.2222222222222222, \"#7201a8\"], [0.3333333333333333, \"#9c179e\"], [0.4444444444444444, \"#bd3786\"], [0.5555555555555556, \"#d8576b\"], [0.6666666666666666, \"#ed7953\"], [0.7777777777777778, \"#fb9f3a\"], [0.8888888888888888, \"#fdca26\"], [1.0, \"#f0f921\"]], \"sequentialminus\": [[0.0, \"#0d0887\"], [0.1111111111111111, \"#46039f\"], [0.2222222222222222, \"#7201a8\"], [0.3333333333333333, \"#9c179e\"], [0.4444444444444444, \"#bd3786\"], [0.5555555555555556, \"#d8576b\"], [0.6666666666666666, \"#ed7953\"], [0.7777777777777778, \"#fb9f3a\"], [0.8888888888888888, \"#fdca26\"], [1.0, \"#f0f921\"]]}, \"colorway\": [\"#636efa\", \"#EF553B\", \"#00cc96\", \"#ab63fa\", \"#FFA15A\", \"#19d3f3\", \"#FF6692\", \"#B6E880\", \"#FF97FF\", \"#FECB52\"], \"font\": {\"color\": \"#2a3f5f\"}, \"geo\": {\"bgcolor\": \"white\", \"lakecolor\": \"white\", \"landcolor\": \"#E5ECF6\", \"showlakes\": true, \"showland\": true, \"subunitcolor\": \"white\"}, \"hoverlabel\": {\"align\": \"left\"}, \"hovermode\": \"closest\", \"mapbox\": {\"style\": \"light\"}, \"paper_bgcolor\": \"white\", \"plot_bgcolor\": \"#E5ECF6\", \"polar\": {\"angularaxis\": {\"gridcolor\": \"white\", \"linecolor\": \"white\", \"ticks\": \"\"}, \"bgcolor\": \"#E5ECF6\", \"radialaxis\": {\"gridcolor\": \"white\", \"linecolor\": \"white\", \"ticks\": \"\"}}, \"scene\": {\"xaxis\": {\"backgroundcolor\": \"#E5ECF6\", \"gridcolor\": \"white\", \"gridwidth\": 2, \"linecolor\": \"white\", \"showbackground\": true, \"ticks\": \"\", \"zerolinecolor\": \"white\"}, \"yaxis\": {\"backgroundcolor\": \"#E5ECF6\", \"gridcolor\": \"white\", \"gridwidth\": 2, \"linecolor\": \"white\", \"showbackground\": true, \"ticks\": \"\", \"zerolinecolor\": \"white\"}, \"zaxis\": {\"backgroundcolor\": \"#E5ECF6\", \"gridcolor\": \"white\", \"gridwidth\": 2, \"linecolor\": \"white\", \"showbackground\": true, \"ticks\": \"\", \"zerolinecolor\": \"white\"}}, \"shapedefaults\": {\"line\": {\"color\": \"#2a3f5f\"}}, \"ternary\": {\"aaxis\": {\"gridcolor\": \"white\", \"linecolor\": \"white\", \"ticks\": \"\"}, \"baxis\": {\"gridcolor\": \"white\", \"linecolor\": \"white\", \"ticks\": \"\"}, \"bgcolor\": \"#E5ECF6\", \"caxis\": {\"gridcolor\": \"white\", \"linecolor\": \"white\", \"ticks\": \"\"}}, \"title\": {\"x\": 0.05}, \"xaxis\": {\"automargin\": true, \"gridcolor\": \"white\", \"linecolor\": \"white\", \"ticks\": \"\", \"title\": {\"standoff\": 15}, \"zerolinecolor\": \"white\", \"zerolinewidth\": 2}, \"yaxis\": {\"automargin\": true, \"gridcolor\": \"white\", \"linecolor\": \"white\", \"ticks\": \"\", \"title\": {\"standoff\": 15}, \"zerolinecolor\": \"white\", \"zerolinewidth\": 2}}}},\n",
              "                        {\"responsive\": true}\n",
              "                    ).then(function(){\n",
              "                            \n",
              "var gd = document.getElementById('6665500c-97d1-42c0-9b8d-3f6c3729c948');\n",
              "var x = new MutationObserver(function (mutations, observer) {{\n",
              "        var display = window.getComputedStyle(gd).display;\n",
              "        if (!display || display === 'none') {{\n",
              "            console.log([gd, 'removed!']);\n",
              "            Plotly.purge(gd);\n",
              "            observer.disconnect();\n",
              "        }}\n",
              "}});\n",
              "\n",
              "// Listen for the removal of the full notebook cells\n",
              "var notebookContainer = gd.closest('#notebook-container');\n",
              "if (notebookContainer) {{\n",
              "    x.observe(notebookContainer, {childList: true});\n",
              "}}\n",
              "\n",
              "// Listen for the clearing of the current output cell\n",
              "var outputEl = gd.closest('.output');\n",
              "if (outputEl) {{\n",
              "    x.observe(outputEl, {childList: true});\n",
              "}}\n",
              "\n",
              "                        })\n",
              "                };\n",
              "                });\n",
              "            </script>\n",
              "        </div>"
            ]
          },
          "metadata": {
            "tags": []
          }
        }
      ]
    },
    {
      "cell_type": "code",
      "metadata": {
        "id": "RZKHXMqwcVSl",
        "colab_type": "code",
        "colab": {},
        "outputId": "d9b971e6-3ea4-4f16-b9f4-ae948fbf8be6"
      },
      "source": [
        "cdf = {}\n",
        "cur_total = 0\n",
        "for key, val in sorted_by_pct.items():\n",
        "    cur_total += val\n",
        "    cdf[key] = cur_total\n",
        "    \n",
        "trace0 = Scatter(x = list(cdf.keys()), y = list(cdf.values()))\n",
        "data = Data([trace0])\n",
        "iplot(data)"
      ],
      "execution_count": null,
      "outputs": [
        {
          "output_type": "display_data",
          "data": {
            "application/vnd.plotly.v1+json": {
              "config": {
                "linkText": "Export to plot.ly",
                "plotlyServerURL": "https://plot.ly",
                "showLink": false
              },
              "data": [
                {
                  "type": "scatter",
                  "x": [
                    -100,
                    -99,
                    -98,
                    -94,
                    -90,
                    -89,
                    -87,
                    -86,
                    -85,
                    -82,
                    -76,
                    -75,
                    -74,
                    -72,
                    -67,
                    -65,
                    -63,
                    -58,
                    -51,
                    -50,
                    -49,
                    -47,
                    -46,
                    -43,
                    -38,
                    -37,
                    -36,
                    -35,
                    -34,
                    -33,
                    -31,
                    -30,
                    -29,
                    -28,
                    -26,
                    -25,
                    -24,
                    -23,
                    -21,
                    -20,
                    -19,
                    -18,
                    -17,
                    -16,
                    -13,
                    -12,
                    -11,
                    -10,
                    -5,
                    -3,
                    -1,
                    0,
                    2,
                    5,
                    6,
                    9,
                    10,
                    12,
                    14,
                    15,
                    16,
                    17,
                    18,
                    19,
                    20,
                    21,
                    22,
                    23,
                    24,
                    25,
                    26,
                    27,
                    28,
                    29,
                    30,
                    31,
                    32,
                    33,
                    34,
                    35,
                    36,
                    37,
                    38,
                    39,
                    40,
                    41,
                    42,
                    43,
                    44,
                    45,
                    46,
                    48,
                    49,
                    50,
                    52,
                    53,
                    54,
                    55,
                    57,
                    58,
                    61,
                    71,
                    72,
                    73,
                    74,
                    75,
                    78,
                    82,
                    84,
                    85,
                    88,
                    89,
                    90,
                    93,
                    98,
                    99,
                    100
                  ],
                  "y": [
                    0.5836909871244635,
                    1.240343347639485,
                    1.9699570815450644,
                    2.918454935622318,
                    3.6480686695278974,
                    4.231759656652361,
                    4.742489270386267,
                    5.253218884120173,
                    5.836909871244637,
                    6.566523605150216,
                    7.15021459227468,
                    7.660944206008586,
                    8.24463519313305,
                    8.901287553648071,
                    9.776824034334766,
                    10.433476394849787,
                    11.01716738197425,
                    11.746781115879829,
                    12.476394849785407,
                    13.206008583690986,
                    13.935622317596565,
                    14.592274678111586,
                    15.321888412017165,
                    16.343347639484975,
                    17.437768240343345,
                    18.60515021459227,
                    19.626609442060083,
                    20.721030042918454,
                    21.961373390557938,
                    23.27467811158798,
                    24.660944206008583,
                    26.12017167381974,
                    27.652360515021456,
                    29.111587982832614,
                    30.71673819742489,
                    32.32188841201717,
                    33.85407725321888,
                    35.31330472103004,
                    36.99141630901288,
                    38.66952789699571,
                    40.4206008583691,
                    42.02575107296138,
                    43.630901287553655,
                    45.16309012875537,
                    46.476394849785414,
                    47.86266094420601,
                    49.175965665236056,
                    50.4892703862661,
                    51.656652360515025,
                    52.89699570815451,
                    53.91845493562232,
                    55.01287553648069,
                    56.18025751072962,
                    57.566523605150216,
                    59.24463519313305,
                    61.36051502145923,
                    63.622317596566525,
                    66.1030042918455,
                    69.53218884120172,
                    73.18025751072962,
                    77.12017167381974,
                    81.3519313304721,
                    85.94849785407725,
                    90.76394849785407,
                    95.72532188841201,
                    101.05150214592274,
                    106.37768240343347,
                    112.28755364806867,
                    118.56223175965665,
                    124.76394849785407,
                    131.11158798283262,
                    137.45922746781116,
                    143.87982832618027,
                    150.22746781115882,
                    156.57510729613736,
                    162.9227467811159,
                    168.97854077253223,
                    174.52360515021462,
                    179.84978540772536,
                    184.88412017167386,
                    189.8454935622318,
                    194.66094420600862,
                    199.0386266094421,
                    203.27038626609448,
                    207.3562231759657,
                    211.2231759656653,
                    214.5064377682404,
                    217.49785407725327,
                    220.34334763948502,
                    223.04291845493566,
                    225.52360515021462,
                    227.6394849785408,
                    229.5364806866953,
                    231.2875536480687,
                    232.96566523605154,
                    234.49785407725327,
                    235.95708154506443,
                    237.1974248927039,
                    238.2188841201717,
                    239.16738197424897,
                    239.82403433476398,
                    240.480686695279,
                    241.137339055794,
                    242.0128755364807,
                    242.88841201716738,
                    243.83690987124464,
                    244.85836909871244,
                    245.87982832618025,
                    246.8283261802575,
                    247.63090128755366,
                    248.36051502145924,
                    249.16309012875539,
                    250.03862660944208,
                    251.49785407725324,
                    252.73819742489272,
                    253.90557939914166,
                    255.00000000000003
                  ]
                }
              ],
              "layout": {
                "template": {
                  "data": {
                    "bar": [
                      {
                        "error_x": {
                          "color": "#2a3f5f"
                        },
                        "error_y": {
                          "color": "#2a3f5f"
                        },
                        "marker": {
                          "line": {
                            "color": "#E5ECF6",
                            "width": 0.5
                          }
                        },
                        "type": "bar"
                      }
                    ],
                    "barpolar": [
                      {
                        "marker": {
                          "line": {
                            "color": "#E5ECF6",
                            "width": 0.5
                          }
                        },
                        "type": "barpolar"
                      }
                    ],
                    "carpet": [
                      {
                        "aaxis": {
                          "endlinecolor": "#2a3f5f",
                          "gridcolor": "white",
                          "linecolor": "white",
                          "minorgridcolor": "white",
                          "startlinecolor": "#2a3f5f"
                        },
                        "baxis": {
                          "endlinecolor": "#2a3f5f",
                          "gridcolor": "white",
                          "linecolor": "white",
                          "minorgridcolor": "white",
                          "startlinecolor": "#2a3f5f"
                        },
                        "type": "carpet"
                      }
                    ],
                    "choropleth": [
                      {
                        "colorbar": {
                          "outlinewidth": 0,
                          "ticks": ""
                        },
                        "type": "choropleth"
                      }
                    ],
                    "contour": [
                      {
                        "colorbar": {
                          "outlinewidth": 0,
                          "ticks": ""
                        },
                        "colorscale": [
                          [
                            0,
                            "#0d0887"
                          ],
                          [
                            0.1111111111111111,
                            "#46039f"
                          ],
                          [
                            0.2222222222222222,
                            "#7201a8"
                          ],
                          [
                            0.3333333333333333,
                            "#9c179e"
                          ],
                          [
                            0.4444444444444444,
                            "#bd3786"
                          ],
                          [
                            0.5555555555555556,
                            "#d8576b"
                          ],
                          [
                            0.6666666666666666,
                            "#ed7953"
                          ],
                          [
                            0.7777777777777778,
                            "#fb9f3a"
                          ],
                          [
                            0.8888888888888888,
                            "#fdca26"
                          ],
                          [
                            1,
                            "#f0f921"
                          ]
                        ],
                        "type": "contour"
                      }
                    ],
                    "contourcarpet": [
                      {
                        "colorbar": {
                          "outlinewidth": 0,
                          "ticks": ""
                        },
                        "type": "contourcarpet"
                      }
                    ],
                    "heatmap": [
                      {
                        "colorbar": {
                          "outlinewidth": 0,
                          "ticks": ""
                        },
                        "colorscale": [
                          [
                            0,
                            "#0d0887"
                          ],
                          [
                            0.1111111111111111,
                            "#46039f"
                          ],
                          [
                            0.2222222222222222,
                            "#7201a8"
                          ],
                          [
                            0.3333333333333333,
                            "#9c179e"
                          ],
                          [
                            0.4444444444444444,
                            "#bd3786"
                          ],
                          [
                            0.5555555555555556,
                            "#d8576b"
                          ],
                          [
                            0.6666666666666666,
                            "#ed7953"
                          ],
                          [
                            0.7777777777777778,
                            "#fb9f3a"
                          ],
                          [
                            0.8888888888888888,
                            "#fdca26"
                          ],
                          [
                            1,
                            "#f0f921"
                          ]
                        ],
                        "type": "heatmap"
                      }
                    ],
                    "heatmapgl": [
                      {
                        "colorbar": {
                          "outlinewidth": 0,
                          "ticks": ""
                        },
                        "colorscale": [
                          [
                            0,
                            "#0d0887"
                          ],
                          [
                            0.1111111111111111,
                            "#46039f"
                          ],
                          [
                            0.2222222222222222,
                            "#7201a8"
                          ],
                          [
                            0.3333333333333333,
                            "#9c179e"
                          ],
                          [
                            0.4444444444444444,
                            "#bd3786"
                          ],
                          [
                            0.5555555555555556,
                            "#d8576b"
                          ],
                          [
                            0.6666666666666666,
                            "#ed7953"
                          ],
                          [
                            0.7777777777777778,
                            "#fb9f3a"
                          ],
                          [
                            0.8888888888888888,
                            "#fdca26"
                          ],
                          [
                            1,
                            "#f0f921"
                          ]
                        ],
                        "type": "heatmapgl"
                      }
                    ],
                    "histogram": [
                      {
                        "marker": {
                          "colorbar": {
                            "outlinewidth": 0,
                            "ticks": ""
                          }
                        },
                        "type": "histogram"
                      }
                    ],
                    "histogram2d": [
                      {
                        "colorbar": {
                          "outlinewidth": 0,
                          "ticks": ""
                        },
                        "colorscale": [
                          [
                            0,
                            "#0d0887"
                          ],
                          [
                            0.1111111111111111,
                            "#46039f"
                          ],
                          [
                            0.2222222222222222,
                            "#7201a8"
                          ],
                          [
                            0.3333333333333333,
                            "#9c179e"
                          ],
                          [
                            0.4444444444444444,
                            "#bd3786"
                          ],
                          [
                            0.5555555555555556,
                            "#d8576b"
                          ],
                          [
                            0.6666666666666666,
                            "#ed7953"
                          ],
                          [
                            0.7777777777777778,
                            "#fb9f3a"
                          ],
                          [
                            0.8888888888888888,
                            "#fdca26"
                          ],
                          [
                            1,
                            "#f0f921"
                          ]
                        ],
                        "type": "histogram2d"
                      }
                    ],
                    "histogram2dcontour": [
                      {
                        "colorbar": {
                          "outlinewidth": 0,
                          "ticks": ""
                        },
                        "colorscale": [
                          [
                            0,
                            "#0d0887"
                          ],
                          [
                            0.1111111111111111,
                            "#46039f"
                          ],
                          [
                            0.2222222222222222,
                            "#7201a8"
                          ],
                          [
                            0.3333333333333333,
                            "#9c179e"
                          ],
                          [
                            0.4444444444444444,
                            "#bd3786"
                          ],
                          [
                            0.5555555555555556,
                            "#d8576b"
                          ],
                          [
                            0.6666666666666666,
                            "#ed7953"
                          ],
                          [
                            0.7777777777777778,
                            "#fb9f3a"
                          ],
                          [
                            0.8888888888888888,
                            "#fdca26"
                          ],
                          [
                            1,
                            "#f0f921"
                          ]
                        ],
                        "type": "histogram2dcontour"
                      }
                    ],
                    "mesh3d": [
                      {
                        "colorbar": {
                          "outlinewidth": 0,
                          "ticks": ""
                        },
                        "type": "mesh3d"
                      }
                    ],
                    "parcoords": [
                      {
                        "line": {
                          "colorbar": {
                            "outlinewidth": 0,
                            "ticks": ""
                          }
                        },
                        "type": "parcoords"
                      }
                    ],
                    "pie": [
                      {
                        "automargin": true,
                        "type": "pie"
                      }
                    ],
                    "scatter": [
                      {
                        "marker": {
                          "colorbar": {
                            "outlinewidth": 0,
                            "ticks": ""
                          }
                        },
                        "type": "scatter"
                      }
                    ],
                    "scatter3d": [
                      {
                        "line": {
                          "colorbar": {
                            "outlinewidth": 0,
                            "ticks": ""
                          }
                        },
                        "marker": {
                          "colorbar": {
                            "outlinewidth": 0,
                            "ticks": ""
                          }
                        },
                        "type": "scatter3d"
                      }
                    ],
                    "scattercarpet": [
                      {
                        "marker": {
                          "colorbar": {
                            "outlinewidth": 0,
                            "ticks": ""
                          }
                        },
                        "type": "scattercarpet"
                      }
                    ],
                    "scattergeo": [
                      {
                        "marker": {
                          "colorbar": {
                            "outlinewidth": 0,
                            "ticks": ""
                          }
                        },
                        "type": "scattergeo"
                      }
                    ],
                    "scattergl": [
                      {
                        "marker": {
                          "colorbar": {
                            "outlinewidth": 0,
                            "ticks": ""
                          }
                        },
                        "type": "scattergl"
                      }
                    ],
                    "scattermapbox": [
                      {
                        "marker": {
                          "colorbar": {
                            "outlinewidth": 0,
                            "ticks": ""
                          }
                        },
                        "type": "scattermapbox"
                      }
                    ],
                    "scatterpolar": [
                      {
                        "marker": {
                          "colorbar": {
                            "outlinewidth": 0,
                            "ticks": ""
                          }
                        },
                        "type": "scatterpolar"
                      }
                    ],
                    "scatterpolargl": [
                      {
                        "marker": {
                          "colorbar": {
                            "outlinewidth": 0,
                            "ticks": ""
                          }
                        },
                        "type": "scatterpolargl"
                      }
                    ],
                    "scatterternary": [
                      {
                        "marker": {
                          "colorbar": {
                            "outlinewidth": 0,
                            "ticks": ""
                          }
                        },
                        "type": "scatterternary"
                      }
                    ],
                    "surface": [
                      {
                        "colorbar": {
                          "outlinewidth": 0,
                          "ticks": ""
                        },
                        "colorscale": [
                          [
                            0,
                            "#0d0887"
                          ],
                          [
                            0.1111111111111111,
                            "#46039f"
                          ],
                          [
                            0.2222222222222222,
                            "#7201a8"
                          ],
                          [
                            0.3333333333333333,
                            "#9c179e"
                          ],
                          [
                            0.4444444444444444,
                            "#bd3786"
                          ],
                          [
                            0.5555555555555556,
                            "#d8576b"
                          ],
                          [
                            0.6666666666666666,
                            "#ed7953"
                          ],
                          [
                            0.7777777777777778,
                            "#fb9f3a"
                          ],
                          [
                            0.8888888888888888,
                            "#fdca26"
                          ],
                          [
                            1,
                            "#f0f921"
                          ]
                        ],
                        "type": "surface"
                      }
                    ],
                    "table": [
                      {
                        "cells": {
                          "fill": {
                            "color": "#EBF0F8"
                          },
                          "line": {
                            "color": "white"
                          }
                        },
                        "header": {
                          "fill": {
                            "color": "#C8D4E3"
                          },
                          "line": {
                            "color": "white"
                          }
                        },
                        "type": "table"
                      }
                    ]
                  },
                  "layout": {
                    "annotationdefaults": {
                      "arrowcolor": "#2a3f5f",
                      "arrowhead": 0,
                      "arrowwidth": 1
                    },
                    "coloraxis": {
                      "colorbar": {
                        "outlinewidth": 0,
                        "ticks": ""
                      }
                    },
                    "colorscale": {
                      "diverging": [
                        [
                          0,
                          "#8e0152"
                        ],
                        [
                          0.1,
                          "#c51b7d"
                        ],
                        [
                          0.2,
                          "#de77ae"
                        ],
                        [
                          0.3,
                          "#f1b6da"
                        ],
                        [
                          0.4,
                          "#fde0ef"
                        ],
                        [
                          0.5,
                          "#f7f7f7"
                        ],
                        [
                          0.6,
                          "#e6f5d0"
                        ],
                        [
                          0.7,
                          "#b8e186"
                        ],
                        [
                          0.8,
                          "#7fbc41"
                        ],
                        [
                          0.9,
                          "#4d9221"
                        ],
                        [
                          1,
                          "#276419"
                        ]
                      ],
                      "sequential": [
                        [
                          0,
                          "#0d0887"
                        ],
                        [
                          0.1111111111111111,
                          "#46039f"
                        ],
                        [
                          0.2222222222222222,
                          "#7201a8"
                        ],
                        [
                          0.3333333333333333,
                          "#9c179e"
                        ],
                        [
                          0.4444444444444444,
                          "#bd3786"
                        ],
                        [
                          0.5555555555555556,
                          "#d8576b"
                        ],
                        [
                          0.6666666666666666,
                          "#ed7953"
                        ],
                        [
                          0.7777777777777778,
                          "#fb9f3a"
                        ],
                        [
                          0.8888888888888888,
                          "#fdca26"
                        ],
                        [
                          1,
                          "#f0f921"
                        ]
                      ],
                      "sequentialminus": [
                        [
                          0,
                          "#0d0887"
                        ],
                        [
                          0.1111111111111111,
                          "#46039f"
                        ],
                        [
                          0.2222222222222222,
                          "#7201a8"
                        ],
                        [
                          0.3333333333333333,
                          "#9c179e"
                        ],
                        [
                          0.4444444444444444,
                          "#bd3786"
                        ],
                        [
                          0.5555555555555556,
                          "#d8576b"
                        ],
                        [
                          0.6666666666666666,
                          "#ed7953"
                        ],
                        [
                          0.7777777777777778,
                          "#fb9f3a"
                        ],
                        [
                          0.8888888888888888,
                          "#fdca26"
                        ],
                        [
                          1,
                          "#f0f921"
                        ]
                      ]
                    },
                    "colorway": [
                      "#636efa",
                      "#EF553B",
                      "#00cc96",
                      "#ab63fa",
                      "#FFA15A",
                      "#19d3f3",
                      "#FF6692",
                      "#B6E880",
                      "#FF97FF",
                      "#FECB52"
                    ],
                    "font": {
                      "color": "#2a3f5f"
                    },
                    "geo": {
                      "bgcolor": "white",
                      "lakecolor": "white",
                      "landcolor": "#E5ECF6",
                      "showlakes": true,
                      "showland": true,
                      "subunitcolor": "white"
                    },
                    "hoverlabel": {
                      "align": "left"
                    },
                    "hovermode": "closest",
                    "mapbox": {
                      "style": "light"
                    },
                    "paper_bgcolor": "white",
                    "plot_bgcolor": "#E5ECF6",
                    "polar": {
                      "angularaxis": {
                        "gridcolor": "white",
                        "linecolor": "white",
                        "ticks": ""
                      },
                      "bgcolor": "#E5ECF6",
                      "radialaxis": {
                        "gridcolor": "white",
                        "linecolor": "white",
                        "ticks": ""
                      }
                    },
                    "scene": {
                      "xaxis": {
                        "backgroundcolor": "#E5ECF6",
                        "gridcolor": "white",
                        "gridwidth": 2,
                        "linecolor": "white",
                        "showbackground": true,
                        "ticks": "",
                        "zerolinecolor": "white"
                      },
                      "yaxis": {
                        "backgroundcolor": "#E5ECF6",
                        "gridcolor": "white",
                        "gridwidth": 2,
                        "linecolor": "white",
                        "showbackground": true,
                        "ticks": "",
                        "zerolinecolor": "white"
                      },
                      "zaxis": {
                        "backgroundcolor": "#E5ECF6",
                        "gridcolor": "white",
                        "gridwidth": 2,
                        "linecolor": "white",
                        "showbackground": true,
                        "ticks": "",
                        "zerolinecolor": "white"
                      }
                    },
                    "shapedefaults": {
                      "line": {
                        "color": "#2a3f5f"
                      }
                    },
                    "ternary": {
                      "aaxis": {
                        "gridcolor": "white",
                        "linecolor": "white",
                        "ticks": ""
                      },
                      "baxis": {
                        "gridcolor": "white",
                        "linecolor": "white",
                        "ticks": ""
                      },
                      "bgcolor": "#E5ECF6",
                      "caxis": {
                        "gridcolor": "white",
                        "linecolor": "white",
                        "ticks": ""
                      }
                    },
                    "title": {
                      "x": 0.05
                    },
                    "xaxis": {
                      "automargin": true,
                      "gridcolor": "white",
                      "linecolor": "white",
                      "ticks": "",
                      "title": {
                        "standoff": 15
                      },
                      "zerolinecolor": "white",
                      "zerolinewidth": 2
                    },
                    "yaxis": {
                      "automargin": true,
                      "gridcolor": "white",
                      "linecolor": "white",
                      "ticks": "",
                      "title": {
                        "standoff": 15
                      },
                      "zerolinecolor": "white",
                      "zerolinewidth": 2
                    }
                  }
                }
              }
            },
            "text/html": [
              "<div>\n",
              "        \n",
              "        \n",
              "            <div id=\"17e466bd-d7a4-4369-bd1a-e3164930ec72\" class=\"plotly-graph-div\" style=\"height:525px; width:100%;\"></div>\n",
              "            <script type=\"text/javascript\">\n",
              "                require([\"plotly\"], function(Plotly) {\n",
              "                    window.PLOTLYENV=window.PLOTLYENV || {};\n",
              "                    \n",
              "                if (document.getElementById(\"17e466bd-d7a4-4369-bd1a-e3164930ec72\")) {\n",
              "                    Plotly.newPlot(\n",
              "                        '17e466bd-d7a4-4369-bd1a-e3164930ec72',\n",
              "                        [{\"type\": \"scatter\", \"x\": [-100, -99, -98, -94, -90, -89, -87, -86, -85, -82, -76, -75, -74, -72, -67, -65, -63, -58, -51, -50, -49, -47, -46, -43, -38, -37, -36, -35, -34, -33, -31, -30, -29, -28, -26, -25, -24, -23, -21, -20, -19, -18, -17, -16, -13, -12, -11, -10, -5, -3, -1, 0, 2, 5, 6, 9, 10, 12, 14, 15, 16, 17, 18, 19, 20, 21, 22, 23, 24, 25, 26, 27, 28, 29, 30, 31, 32, 33, 34, 35, 36, 37, 38, 39, 40, 41, 42, 43, 44, 45, 46, 48, 49, 50, 52, 53, 54, 55, 57, 58, 61, 71, 72, 73, 74, 75, 78, 82, 84, 85, 88, 89, 90, 93, 98, 99, 100], \"y\": [0.5836909871244635, 1.240343347639485, 1.9699570815450644, 2.918454935622318, 3.6480686695278974, 4.231759656652361, 4.742489270386267, 5.253218884120173, 5.836909871244637, 6.566523605150216, 7.15021459227468, 7.660944206008586, 8.24463519313305, 8.901287553648071, 9.776824034334766, 10.433476394849787, 11.01716738197425, 11.746781115879829, 12.476394849785407, 13.206008583690986, 13.935622317596565, 14.592274678111586, 15.321888412017165, 16.343347639484975, 17.437768240343345, 18.60515021459227, 19.626609442060083, 20.721030042918454, 21.961373390557938, 23.27467811158798, 24.660944206008583, 26.12017167381974, 27.652360515021456, 29.111587982832614, 30.71673819742489, 32.32188841201717, 33.85407725321888, 35.31330472103004, 36.99141630901288, 38.66952789699571, 40.4206008583691, 42.02575107296138, 43.630901287553655, 45.16309012875537, 46.476394849785414, 47.86266094420601, 49.175965665236056, 50.4892703862661, 51.656652360515025, 52.89699570815451, 53.91845493562232, 55.01287553648069, 56.18025751072962, 57.566523605150216, 59.24463519313305, 61.36051502145923, 63.622317596566525, 66.1030042918455, 69.53218884120172, 73.18025751072962, 77.12017167381974, 81.3519313304721, 85.94849785407725, 90.76394849785407, 95.72532188841201, 101.05150214592274, 106.37768240343347, 112.28755364806867, 118.56223175965665, 124.76394849785407, 131.11158798283262, 137.45922746781116, 143.87982832618027, 150.22746781115882, 156.57510729613736, 162.9227467811159, 168.97854077253223, 174.52360515021462, 179.84978540772536, 184.88412017167386, 189.8454935622318, 194.66094420600862, 199.0386266094421, 203.27038626609448, 207.3562231759657, 211.2231759656653, 214.5064377682404, 217.49785407725327, 220.34334763948502, 223.04291845493566, 225.52360515021462, 227.6394849785408, 229.5364806866953, 231.2875536480687, 232.96566523605154, 234.49785407725327, 235.95708154506443, 237.1974248927039, 238.2188841201717, 239.16738197424897, 239.82403433476398, 240.480686695279, 241.137339055794, 242.0128755364807, 242.88841201716738, 243.83690987124464, 244.85836909871244, 245.87982832618025, 246.8283261802575, 247.63090128755366, 248.36051502145924, 249.16309012875539, 250.03862660944208, 251.49785407725324, 252.73819742489272, 253.90557939914166, 255.00000000000003]}],\n",
              "                        {\"template\": {\"data\": {\"bar\": [{\"error_x\": {\"color\": \"#2a3f5f\"}, \"error_y\": {\"color\": \"#2a3f5f\"}, \"marker\": {\"line\": {\"color\": \"#E5ECF6\", \"width\": 0.5}}, \"type\": \"bar\"}], \"barpolar\": [{\"marker\": {\"line\": {\"color\": \"#E5ECF6\", \"width\": 0.5}}, \"type\": \"barpolar\"}], \"carpet\": [{\"aaxis\": {\"endlinecolor\": \"#2a3f5f\", \"gridcolor\": \"white\", \"linecolor\": \"white\", \"minorgridcolor\": \"white\", \"startlinecolor\": \"#2a3f5f\"}, \"baxis\": {\"endlinecolor\": \"#2a3f5f\", \"gridcolor\": \"white\", \"linecolor\": \"white\", \"minorgridcolor\": \"white\", \"startlinecolor\": \"#2a3f5f\"}, \"type\": \"carpet\"}], \"choropleth\": [{\"colorbar\": {\"outlinewidth\": 0, \"ticks\": \"\"}, \"type\": \"choropleth\"}], \"contour\": [{\"colorbar\": {\"outlinewidth\": 0, \"ticks\": \"\"}, \"colorscale\": [[0.0, \"#0d0887\"], [0.1111111111111111, \"#46039f\"], [0.2222222222222222, \"#7201a8\"], [0.3333333333333333, \"#9c179e\"], [0.4444444444444444, \"#bd3786\"], [0.5555555555555556, \"#d8576b\"], [0.6666666666666666, \"#ed7953\"], [0.7777777777777778, \"#fb9f3a\"], [0.8888888888888888, \"#fdca26\"], [1.0, \"#f0f921\"]], \"type\": \"contour\"}], \"contourcarpet\": [{\"colorbar\": {\"outlinewidth\": 0, \"ticks\": \"\"}, \"type\": \"contourcarpet\"}], \"heatmap\": [{\"colorbar\": {\"outlinewidth\": 0, \"ticks\": \"\"}, \"colorscale\": [[0.0, \"#0d0887\"], [0.1111111111111111, \"#46039f\"], [0.2222222222222222, \"#7201a8\"], [0.3333333333333333, \"#9c179e\"], [0.4444444444444444, \"#bd3786\"], [0.5555555555555556, \"#d8576b\"], [0.6666666666666666, \"#ed7953\"], [0.7777777777777778, \"#fb9f3a\"], [0.8888888888888888, \"#fdca26\"], [1.0, \"#f0f921\"]], \"type\": \"heatmap\"}], \"heatmapgl\": [{\"colorbar\": {\"outlinewidth\": 0, \"ticks\": \"\"}, \"colorscale\": [[0.0, \"#0d0887\"], [0.1111111111111111, \"#46039f\"], [0.2222222222222222, \"#7201a8\"], [0.3333333333333333, \"#9c179e\"], [0.4444444444444444, \"#bd3786\"], [0.5555555555555556, \"#d8576b\"], [0.6666666666666666, \"#ed7953\"], [0.7777777777777778, \"#fb9f3a\"], [0.8888888888888888, \"#fdca26\"], [1.0, \"#f0f921\"]], \"type\": \"heatmapgl\"}], \"histogram\": [{\"marker\": {\"colorbar\": {\"outlinewidth\": 0, \"ticks\": \"\"}}, \"type\": \"histogram\"}], \"histogram2d\": [{\"colorbar\": {\"outlinewidth\": 0, \"ticks\": \"\"}, \"colorscale\": [[0.0, \"#0d0887\"], [0.1111111111111111, \"#46039f\"], [0.2222222222222222, \"#7201a8\"], [0.3333333333333333, \"#9c179e\"], [0.4444444444444444, \"#bd3786\"], [0.5555555555555556, \"#d8576b\"], [0.6666666666666666, \"#ed7953\"], [0.7777777777777778, \"#fb9f3a\"], [0.8888888888888888, \"#fdca26\"], [1.0, \"#f0f921\"]], \"type\": \"histogram2d\"}], \"histogram2dcontour\": [{\"colorbar\": {\"outlinewidth\": 0, \"ticks\": \"\"}, \"colorscale\": [[0.0, \"#0d0887\"], [0.1111111111111111, \"#46039f\"], [0.2222222222222222, \"#7201a8\"], [0.3333333333333333, \"#9c179e\"], [0.4444444444444444, \"#bd3786\"], [0.5555555555555556, \"#d8576b\"], [0.6666666666666666, \"#ed7953\"], [0.7777777777777778, \"#fb9f3a\"], [0.8888888888888888, \"#fdca26\"], [1.0, \"#f0f921\"]], \"type\": \"histogram2dcontour\"}], \"mesh3d\": [{\"colorbar\": {\"outlinewidth\": 0, \"ticks\": \"\"}, \"type\": \"mesh3d\"}], \"parcoords\": [{\"line\": {\"colorbar\": {\"outlinewidth\": 0, \"ticks\": \"\"}}, \"type\": \"parcoords\"}], \"pie\": [{\"automargin\": true, \"type\": \"pie\"}], \"scatter\": [{\"marker\": {\"colorbar\": {\"outlinewidth\": 0, \"ticks\": \"\"}}, \"type\": \"scatter\"}], \"scatter3d\": [{\"line\": {\"colorbar\": {\"outlinewidth\": 0, \"ticks\": \"\"}}, \"marker\": {\"colorbar\": {\"outlinewidth\": 0, \"ticks\": \"\"}}, \"type\": \"scatter3d\"}], \"scattercarpet\": [{\"marker\": {\"colorbar\": {\"outlinewidth\": 0, \"ticks\": \"\"}}, \"type\": \"scattercarpet\"}], \"scattergeo\": [{\"marker\": {\"colorbar\": {\"outlinewidth\": 0, \"ticks\": \"\"}}, \"type\": \"scattergeo\"}], \"scattergl\": [{\"marker\": {\"colorbar\": {\"outlinewidth\": 0, \"ticks\": \"\"}}, \"type\": \"scattergl\"}], \"scattermapbox\": [{\"marker\": {\"colorbar\": {\"outlinewidth\": 0, \"ticks\": \"\"}}, \"type\": \"scattermapbox\"}], \"scatterpolar\": [{\"marker\": {\"colorbar\": {\"outlinewidth\": 0, \"ticks\": \"\"}}, \"type\": \"scatterpolar\"}], \"scatterpolargl\": [{\"marker\": {\"colorbar\": {\"outlinewidth\": 0, \"ticks\": \"\"}}, \"type\": \"scatterpolargl\"}], \"scatterternary\": [{\"marker\": {\"colorbar\": {\"outlinewidth\": 0, \"ticks\": \"\"}}, \"type\": \"scatterternary\"}], \"surface\": [{\"colorbar\": {\"outlinewidth\": 0, \"ticks\": \"\"}, \"colorscale\": [[0.0, \"#0d0887\"], [0.1111111111111111, \"#46039f\"], [0.2222222222222222, \"#7201a8\"], [0.3333333333333333, \"#9c179e\"], [0.4444444444444444, \"#bd3786\"], [0.5555555555555556, \"#d8576b\"], [0.6666666666666666, \"#ed7953\"], [0.7777777777777778, \"#fb9f3a\"], [0.8888888888888888, \"#fdca26\"], [1.0, \"#f0f921\"]], \"type\": \"surface\"}], \"table\": [{\"cells\": {\"fill\": {\"color\": \"#EBF0F8\"}, \"line\": {\"color\": \"white\"}}, \"header\": {\"fill\": {\"color\": \"#C8D4E3\"}, \"line\": {\"color\": \"white\"}}, \"type\": \"table\"}]}, \"layout\": {\"annotationdefaults\": {\"arrowcolor\": \"#2a3f5f\", \"arrowhead\": 0, \"arrowwidth\": 1}, \"coloraxis\": {\"colorbar\": {\"outlinewidth\": 0, \"ticks\": \"\"}}, \"colorscale\": {\"diverging\": [[0, \"#8e0152\"], [0.1, \"#c51b7d\"], [0.2, \"#de77ae\"], [0.3, \"#f1b6da\"], [0.4, \"#fde0ef\"], [0.5, \"#f7f7f7\"], [0.6, \"#e6f5d0\"], [0.7, \"#b8e186\"], [0.8, \"#7fbc41\"], [0.9, \"#4d9221\"], [1, \"#276419\"]], \"sequential\": [[0.0, \"#0d0887\"], [0.1111111111111111, \"#46039f\"], [0.2222222222222222, \"#7201a8\"], [0.3333333333333333, \"#9c179e\"], [0.4444444444444444, \"#bd3786\"], [0.5555555555555556, \"#d8576b\"], [0.6666666666666666, \"#ed7953\"], [0.7777777777777778, \"#fb9f3a\"], [0.8888888888888888, \"#fdca26\"], [1.0, \"#f0f921\"]], \"sequentialminus\": [[0.0, \"#0d0887\"], [0.1111111111111111, \"#46039f\"], [0.2222222222222222, \"#7201a8\"], [0.3333333333333333, \"#9c179e\"], [0.4444444444444444, \"#bd3786\"], [0.5555555555555556, \"#d8576b\"], [0.6666666666666666, \"#ed7953\"], [0.7777777777777778, \"#fb9f3a\"], [0.8888888888888888, \"#fdca26\"], [1.0, \"#f0f921\"]]}, \"colorway\": [\"#636efa\", \"#EF553B\", \"#00cc96\", \"#ab63fa\", \"#FFA15A\", \"#19d3f3\", \"#FF6692\", \"#B6E880\", \"#FF97FF\", \"#FECB52\"], \"font\": {\"color\": \"#2a3f5f\"}, \"geo\": {\"bgcolor\": \"white\", \"lakecolor\": \"white\", \"landcolor\": \"#E5ECF6\", \"showlakes\": true, \"showland\": true, \"subunitcolor\": \"white\"}, \"hoverlabel\": {\"align\": \"left\"}, \"hovermode\": \"closest\", \"mapbox\": {\"style\": \"light\"}, \"paper_bgcolor\": \"white\", \"plot_bgcolor\": \"#E5ECF6\", \"polar\": {\"angularaxis\": {\"gridcolor\": \"white\", \"linecolor\": \"white\", \"ticks\": \"\"}, \"bgcolor\": \"#E5ECF6\", \"radialaxis\": {\"gridcolor\": \"white\", \"linecolor\": \"white\", \"ticks\": \"\"}}, \"scene\": {\"xaxis\": {\"backgroundcolor\": \"#E5ECF6\", \"gridcolor\": \"white\", \"gridwidth\": 2, \"linecolor\": \"white\", \"showbackground\": true, \"ticks\": \"\", \"zerolinecolor\": \"white\"}, \"yaxis\": {\"backgroundcolor\": \"#E5ECF6\", \"gridcolor\": \"white\", \"gridwidth\": 2, \"linecolor\": \"white\", \"showbackground\": true, \"ticks\": \"\", \"zerolinecolor\": \"white\"}, \"zaxis\": {\"backgroundcolor\": \"#E5ECF6\", \"gridcolor\": \"white\", \"gridwidth\": 2, \"linecolor\": \"white\", \"showbackground\": true, \"ticks\": \"\", \"zerolinecolor\": \"white\"}}, \"shapedefaults\": {\"line\": {\"color\": \"#2a3f5f\"}}, \"ternary\": {\"aaxis\": {\"gridcolor\": \"white\", \"linecolor\": \"white\", \"ticks\": \"\"}, \"baxis\": {\"gridcolor\": \"white\", \"linecolor\": \"white\", \"ticks\": \"\"}, \"bgcolor\": \"#E5ECF6\", \"caxis\": {\"gridcolor\": \"white\", \"linecolor\": \"white\", \"ticks\": \"\"}}, \"title\": {\"x\": 0.05}, \"xaxis\": {\"automargin\": true, \"gridcolor\": \"white\", \"linecolor\": \"white\", \"ticks\": \"\", \"title\": {\"standoff\": 15}, \"zerolinecolor\": \"white\", \"zerolinewidth\": 2}, \"yaxis\": {\"automargin\": true, \"gridcolor\": \"white\", \"linecolor\": \"white\", \"ticks\": \"\", \"title\": {\"standoff\": 15}, \"zerolinecolor\": \"white\", \"zerolinewidth\": 2}}}},\n",
              "                        {\"responsive\": true}\n",
              "                    ).then(function(){\n",
              "                            \n",
              "var gd = document.getElementById('17e466bd-d7a4-4369-bd1a-e3164930ec72');\n",
              "var x = new MutationObserver(function (mutations, observer) {{\n",
              "        var display = window.getComputedStyle(gd).display;\n",
              "        if (!display || display === 'none') {{\n",
              "            console.log([gd, 'removed!']);\n",
              "            Plotly.purge(gd);\n",
              "            observer.disconnect();\n",
              "        }}\n",
              "}});\n",
              "\n",
              "// Listen for the removal of the full notebook cells\n",
              "var notebookContainer = gd.closest('#notebook-container');\n",
              "if (notebookContainer) {{\n",
              "    x.observe(notebookContainer, {childList: true});\n",
              "}}\n",
              "\n",
              "// Listen for the clearing of the current output cell\n",
              "var outputEl = gd.closest('.output');\n",
              "if (outputEl) {{\n",
              "    x.observe(outputEl, {childList: true});\n",
              "}}\n",
              "\n",
              "                        })\n",
              "                };\n",
              "                });\n",
              "            </script>\n",
              "        </div>"
            ]
          },
          "metadata": {
            "tags": []
          }
        }
      ]
    },
    {
      "cell_type": "code",
      "metadata": {
        "id": "9jmxUgt0cVSn",
        "colab_type": "code",
        "colab": {},
        "outputId": "8cf22788-8a7d-425b-a31c-807efb593c03"
      },
      "source": [
        "dem_data = all_data[~all_data['state'].isin(rep_states)]\n",
        "from collections import defaultdict\n",
        "from collections import Counter\n",
        "\n",
        "dem_state_results = defaultdict(dict)\n",
        "for year in range(1976, 2020, 2):\n",
        "    dem_state_results[year]['results'] = get_pct_results(dem_data, year)\n",
        "    dem_state_results[year]['total_dem'] = get_total_votes_by_party(dem_data, 'democrat', year)\n",
        "    dem_state_results[year]['total_rep'] = get_total_votes_by_party(dem_data, 'republican', year)\n",
        "    dem_state_results[year]['total'] = get_total_votes(dem_data, year)"
      ],
      "execution_count": null,
      "outputs": [
        {
          "output_type": "stream",
          "text": [
            "/usr/local/Cellar/jupyterlab/2.0.1/libexec/lib/python3.7/site-packages/ipykernel_launcher.py:2: UserWarning:\n",
            "\n",
            "Boolean Series key will be reindexed to match DataFrame index.\n",
            "\n"
          ],
          "name": "stderr"
        }
      ]
    },
    {
      "cell_type": "code",
      "metadata": {
        "id": "g0ZTnmgWcVSp",
        "colab_type": "code",
        "colab": {},
        "outputId": "d0e8d87a-8e58-47d5-e0ad-9ab82fbec591"
      },
      "source": [
        "by_pct = Counter()\n",
        "year = 2014\n",
        "for row in dem_state_results[year]['results'][0].iterrows():\n",
        "    national_dem_margin = 100 * (results[year]['total_dem'] - results[year]['total_rep']) / results[year]['total']\n",
        "    dem_state_dem_margin = 100 * (dem_state_results[year]['total_dem'] - dem_state_results[year]['total_rep']) / dem_state_results[year]['total']\n",
        "    by_pct[int(row[1]['rep_margin'] + (dem_state_dem_margin - national_dem_margin))] += 1\n",
        "    \n",
        "smoothed_by_pct = normalize_weights(smooth(by_pct, 10), sum(by_pct.values()))\n",
        "sorted_by_pct = OrderedDict(sorted(smoothed_by_pct.items()))\n",
        "\n",
        "trace0 = Scatter(x = list(sorted_by_pct.keys()), y = list(sorted_by_pct.values()))\n",
        "data = Data([trace0])\n",
        "iplot(data)"
      ],
      "execution_count": null,
      "outputs": [
        {
          "output_type": "stream",
          "text": [
            "10\n"
          ],
          "name": "stdout"
        },
        {
          "output_type": "display_data",
          "data": {
            "application/vnd.plotly.v1+json": {
              "config": {
                "linkText": "Export to plot.ly",
                "plotlyServerURL": "https://plot.ly",
                "showLink": false
              },
              "data": [
                {
                  "type": "scatter",
                  "x": [
                    -76,
                    -63,
                    -57,
                    -56,
                    -53,
                    -52,
                    -51,
                    -50,
                    -48,
                    -47,
                    -46,
                    -45,
                    -43,
                    -41,
                    -40,
                    -38,
                    -36,
                    -34,
                    -33,
                    -32,
                    -29,
                    -27,
                    -26,
                    -25,
                    -23,
                    -22,
                    -21,
                    -19,
                    -18,
                    -16,
                    -14,
                    -13,
                    -12,
                    -11,
                    -9,
                    -8,
                    -7,
                    -5,
                    -4,
                    -2,
                    -1,
                    0,
                    1,
                    2,
                    3,
                    4,
                    5,
                    9,
                    10,
                    11,
                    12,
                    13,
                    14,
                    15,
                    16,
                    17,
                    18,
                    19,
                    20,
                    22,
                    26,
                    27,
                    28,
                    29,
                    31,
                    32,
                    33,
                    34,
                    35,
                    38,
                    39,
                    40,
                    41,
                    43,
                    44,
                    45,
                    46,
                    47,
                    50,
                    51,
                    53,
                    54,
                    56,
                    57,
                    58,
                    60,
                    61,
                    64,
                    65,
                    67,
                    68,
                    69,
                    72,
                    73,
                    79,
                    85,
                    88,
                    102,
                    123
                  ],
                  "y": [
                    0.4105839416058394,
                    0.3284671532846715,
                    1.0675182481751826,
                    1.1496350364963503,
                    1.313868613138686,
                    1.4781021897810218,
                    1.4781021897810218,
                    1.6423357664233575,
                    1.7244525547445255,
                    1.7244525547445255,
                    1.6423357664233575,
                    1.7244525547445255,
                    1.5602189781021898,
                    1.5602189781021898,
                    1.395985401459854,
                    1.395985401459854,
                    1.2317518248175183,
                    1.313868613138686,
                    1.1496350364963503,
                    1.2317518248175183,
                    1.1496350364963503,
                    1.395985401459854,
                    1.313868613138686,
                    1.395985401459854,
                    1.313868613138686,
                    1.313868613138686,
                    1.4781021897810218,
                    1.395985401459854,
                    1.5602189781021898,
                    1.4781021897810218,
                    1.5602189781021898,
                    1.6423357664233575,
                    1.5602189781021898,
                    1.5602189781021898,
                    1.8886861313868615,
                    1.8886861313868615,
                    2.052919708029197,
                    2.4635036496350367,
                    2.627737226277372,
                    2.3813868613138687,
                    2.2992700729927007,
                    2.627737226277372,
                    2.5456204379562046,
                    2.5456204379562046,
                    2.627737226277372,
                    3.0383211678832116,
                    3.0383211678832116,
                    3.284671532846715,
                    3.284671532846715,
                    3.284671532846715,
                    3.1204379562043796,
                    3.3667883211678835,
                    2.9562043795620436,
                    2.70985401459854,
                    2.70985401459854,
                    2.874087591240876,
                    2.9562043795620436,
                    2.70985401459854,
                    2.70985401459854,
                    2.5456204379562046,
                    2.052919708029197,
                    1.970802919708029,
                    1.7244525547445255,
                    1.7244525547445255,
                    1.6423357664233575,
                    1.395985401459854,
                    1.395985401459854,
                    1.7244525547445255,
                    1.8065693430656935,
                    1.8065693430656935,
                    1.7244525547445255,
                    1.7244525547445255,
                    1.8065693430656935,
                    1.8065693430656935,
                    1.6423357664233575,
                    1.8886861313868615,
                    1.8886861313868615,
                    1.970802919708029,
                    2.052919708029197,
                    2.135036496350365,
                    1.8886861313868615,
                    1.8065693430656935,
                    2.052919708029197,
                    1.970802919708029,
                    2.052919708029197,
                    2.217153284671533,
                    2.052919708029197,
                    1.8886861313868615,
                    1.8886861313868615,
                    1.7244525547445255,
                    1.395985401459854,
                    1.395985401459854,
                    1.395985401459854,
                    1.395985401459854,
                    0.656934306569343,
                    0.4105839416058394,
                    0.4105839416058394,
                    0.08211678832116788,
                    0.24635036496350363
                  ]
                }
              ],
              "layout": {
                "template": {
                  "data": {
                    "bar": [
                      {
                        "error_x": {
                          "color": "#2a3f5f"
                        },
                        "error_y": {
                          "color": "#2a3f5f"
                        },
                        "marker": {
                          "line": {
                            "color": "#E5ECF6",
                            "width": 0.5
                          }
                        },
                        "type": "bar"
                      }
                    ],
                    "barpolar": [
                      {
                        "marker": {
                          "line": {
                            "color": "#E5ECF6",
                            "width": 0.5
                          }
                        },
                        "type": "barpolar"
                      }
                    ],
                    "carpet": [
                      {
                        "aaxis": {
                          "endlinecolor": "#2a3f5f",
                          "gridcolor": "white",
                          "linecolor": "white",
                          "minorgridcolor": "white",
                          "startlinecolor": "#2a3f5f"
                        },
                        "baxis": {
                          "endlinecolor": "#2a3f5f",
                          "gridcolor": "white",
                          "linecolor": "white",
                          "minorgridcolor": "white",
                          "startlinecolor": "#2a3f5f"
                        },
                        "type": "carpet"
                      }
                    ],
                    "choropleth": [
                      {
                        "colorbar": {
                          "outlinewidth": 0,
                          "ticks": ""
                        },
                        "type": "choropleth"
                      }
                    ],
                    "contour": [
                      {
                        "colorbar": {
                          "outlinewidth": 0,
                          "ticks": ""
                        },
                        "colorscale": [
                          [
                            0,
                            "#0d0887"
                          ],
                          [
                            0.1111111111111111,
                            "#46039f"
                          ],
                          [
                            0.2222222222222222,
                            "#7201a8"
                          ],
                          [
                            0.3333333333333333,
                            "#9c179e"
                          ],
                          [
                            0.4444444444444444,
                            "#bd3786"
                          ],
                          [
                            0.5555555555555556,
                            "#d8576b"
                          ],
                          [
                            0.6666666666666666,
                            "#ed7953"
                          ],
                          [
                            0.7777777777777778,
                            "#fb9f3a"
                          ],
                          [
                            0.8888888888888888,
                            "#fdca26"
                          ],
                          [
                            1,
                            "#f0f921"
                          ]
                        ],
                        "type": "contour"
                      }
                    ],
                    "contourcarpet": [
                      {
                        "colorbar": {
                          "outlinewidth": 0,
                          "ticks": ""
                        },
                        "type": "contourcarpet"
                      }
                    ],
                    "heatmap": [
                      {
                        "colorbar": {
                          "outlinewidth": 0,
                          "ticks": ""
                        },
                        "colorscale": [
                          [
                            0,
                            "#0d0887"
                          ],
                          [
                            0.1111111111111111,
                            "#46039f"
                          ],
                          [
                            0.2222222222222222,
                            "#7201a8"
                          ],
                          [
                            0.3333333333333333,
                            "#9c179e"
                          ],
                          [
                            0.4444444444444444,
                            "#bd3786"
                          ],
                          [
                            0.5555555555555556,
                            "#d8576b"
                          ],
                          [
                            0.6666666666666666,
                            "#ed7953"
                          ],
                          [
                            0.7777777777777778,
                            "#fb9f3a"
                          ],
                          [
                            0.8888888888888888,
                            "#fdca26"
                          ],
                          [
                            1,
                            "#f0f921"
                          ]
                        ],
                        "type": "heatmap"
                      }
                    ],
                    "heatmapgl": [
                      {
                        "colorbar": {
                          "outlinewidth": 0,
                          "ticks": ""
                        },
                        "colorscale": [
                          [
                            0,
                            "#0d0887"
                          ],
                          [
                            0.1111111111111111,
                            "#46039f"
                          ],
                          [
                            0.2222222222222222,
                            "#7201a8"
                          ],
                          [
                            0.3333333333333333,
                            "#9c179e"
                          ],
                          [
                            0.4444444444444444,
                            "#bd3786"
                          ],
                          [
                            0.5555555555555556,
                            "#d8576b"
                          ],
                          [
                            0.6666666666666666,
                            "#ed7953"
                          ],
                          [
                            0.7777777777777778,
                            "#fb9f3a"
                          ],
                          [
                            0.8888888888888888,
                            "#fdca26"
                          ],
                          [
                            1,
                            "#f0f921"
                          ]
                        ],
                        "type": "heatmapgl"
                      }
                    ],
                    "histogram": [
                      {
                        "marker": {
                          "colorbar": {
                            "outlinewidth": 0,
                            "ticks": ""
                          }
                        },
                        "type": "histogram"
                      }
                    ],
                    "histogram2d": [
                      {
                        "colorbar": {
                          "outlinewidth": 0,
                          "ticks": ""
                        },
                        "colorscale": [
                          [
                            0,
                            "#0d0887"
                          ],
                          [
                            0.1111111111111111,
                            "#46039f"
                          ],
                          [
                            0.2222222222222222,
                            "#7201a8"
                          ],
                          [
                            0.3333333333333333,
                            "#9c179e"
                          ],
                          [
                            0.4444444444444444,
                            "#bd3786"
                          ],
                          [
                            0.5555555555555556,
                            "#d8576b"
                          ],
                          [
                            0.6666666666666666,
                            "#ed7953"
                          ],
                          [
                            0.7777777777777778,
                            "#fb9f3a"
                          ],
                          [
                            0.8888888888888888,
                            "#fdca26"
                          ],
                          [
                            1,
                            "#f0f921"
                          ]
                        ],
                        "type": "histogram2d"
                      }
                    ],
                    "histogram2dcontour": [
                      {
                        "colorbar": {
                          "outlinewidth": 0,
                          "ticks": ""
                        },
                        "colorscale": [
                          [
                            0,
                            "#0d0887"
                          ],
                          [
                            0.1111111111111111,
                            "#46039f"
                          ],
                          [
                            0.2222222222222222,
                            "#7201a8"
                          ],
                          [
                            0.3333333333333333,
                            "#9c179e"
                          ],
                          [
                            0.4444444444444444,
                            "#bd3786"
                          ],
                          [
                            0.5555555555555556,
                            "#d8576b"
                          ],
                          [
                            0.6666666666666666,
                            "#ed7953"
                          ],
                          [
                            0.7777777777777778,
                            "#fb9f3a"
                          ],
                          [
                            0.8888888888888888,
                            "#fdca26"
                          ],
                          [
                            1,
                            "#f0f921"
                          ]
                        ],
                        "type": "histogram2dcontour"
                      }
                    ],
                    "mesh3d": [
                      {
                        "colorbar": {
                          "outlinewidth": 0,
                          "ticks": ""
                        },
                        "type": "mesh3d"
                      }
                    ],
                    "parcoords": [
                      {
                        "line": {
                          "colorbar": {
                            "outlinewidth": 0,
                            "ticks": ""
                          }
                        },
                        "type": "parcoords"
                      }
                    ],
                    "pie": [
                      {
                        "automargin": true,
                        "type": "pie"
                      }
                    ],
                    "scatter": [
                      {
                        "marker": {
                          "colorbar": {
                            "outlinewidth": 0,
                            "ticks": ""
                          }
                        },
                        "type": "scatter"
                      }
                    ],
                    "scatter3d": [
                      {
                        "line": {
                          "colorbar": {
                            "outlinewidth": 0,
                            "ticks": ""
                          }
                        },
                        "marker": {
                          "colorbar": {
                            "outlinewidth": 0,
                            "ticks": ""
                          }
                        },
                        "type": "scatter3d"
                      }
                    ],
                    "scattercarpet": [
                      {
                        "marker": {
                          "colorbar": {
                            "outlinewidth": 0,
                            "ticks": ""
                          }
                        },
                        "type": "scattercarpet"
                      }
                    ],
                    "scattergeo": [
                      {
                        "marker": {
                          "colorbar": {
                            "outlinewidth": 0,
                            "ticks": ""
                          }
                        },
                        "type": "scattergeo"
                      }
                    ],
                    "scattergl": [
                      {
                        "marker": {
                          "colorbar": {
                            "outlinewidth": 0,
                            "ticks": ""
                          }
                        },
                        "type": "scattergl"
                      }
                    ],
                    "scattermapbox": [
                      {
                        "marker": {
                          "colorbar": {
                            "outlinewidth": 0,
                            "ticks": ""
                          }
                        },
                        "type": "scattermapbox"
                      }
                    ],
                    "scatterpolar": [
                      {
                        "marker": {
                          "colorbar": {
                            "outlinewidth": 0,
                            "ticks": ""
                          }
                        },
                        "type": "scatterpolar"
                      }
                    ],
                    "scatterpolargl": [
                      {
                        "marker": {
                          "colorbar": {
                            "outlinewidth": 0,
                            "ticks": ""
                          }
                        },
                        "type": "scatterpolargl"
                      }
                    ],
                    "scatterternary": [
                      {
                        "marker": {
                          "colorbar": {
                            "outlinewidth": 0,
                            "ticks": ""
                          }
                        },
                        "type": "scatterternary"
                      }
                    ],
                    "surface": [
                      {
                        "colorbar": {
                          "outlinewidth": 0,
                          "ticks": ""
                        },
                        "colorscale": [
                          [
                            0,
                            "#0d0887"
                          ],
                          [
                            0.1111111111111111,
                            "#46039f"
                          ],
                          [
                            0.2222222222222222,
                            "#7201a8"
                          ],
                          [
                            0.3333333333333333,
                            "#9c179e"
                          ],
                          [
                            0.4444444444444444,
                            "#bd3786"
                          ],
                          [
                            0.5555555555555556,
                            "#d8576b"
                          ],
                          [
                            0.6666666666666666,
                            "#ed7953"
                          ],
                          [
                            0.7777777777777778,
                            "#fb9f3a"
                          ],
                          [
                            0.8888888888888888,
                            "#fdca26"
                          ],
                          [
                            1,
                            "#f0f921"
                          ]
                        ],
                        "type": "surface"
                      }
                    ],
                    "table": [
                      {
                        "cells": {
                          "fill": {
                            "color": "#EBF0F8"
                          },
                          "line": {
                            "color": "white"
                          }
                        },
                        "header": {
                          "fill": {
                            "color": "#C8D4E3"
                          },
                          "line": {
                            "color": "white"
                          }
                        },
                        "type": "table"
                      }
                    ]
                  },
                  "layout": {
                    "annotationdefaults": {
                      "arrowcolor": "#2a3f5f",
                      "arrowhead": 0,
                      "arrowwidth": 1
                    },
                    "coloraxis": {
                      "colorbar": {
                        "outlinewidth": 0,
                        "ticks": ""
                      }
                    },
                    "colorscale": {
                      "diverging": [
                        [
                          0,
                          "#8e0152"
                        ],
                        [
                          0.1,
                          "#c51b7d"
                        ],
                        [
                          0.2,
                          "#de77ae"
                        ],
                        [
                          0.3,
                          "#f1b6da"
                        ],
                        [
                          0.4,
                          "#fde0ef"
                        ],
                        [
                          0.5,
                          "#f7f7f7"
                        ],
                        [
                          0.6,
                          "#e6f5d0"
                        ],
                        [
                          0.7,
                          "#b8e186"
                        ],
                        [
                          0.8,
                          "#7fbc41"
                        ],
                        [
                          0.9,
                          "#4d9221"
                        ],
                        [
                          1,
                          "#276419"
                        ]
                      ],
                      "sequential": [
                        [
                          0,
                          "#0d0887"
                        ],
                        [
                          0.1111111111111111,
                          "#46039f"
                        ],
                        [
                          0.2222222222222222,
                          "#7201a8"
                        ],
                        [
                          0.3333333333333333,
                          "#9c179e"
                        ],
                        [
                          0.4444444444444444,
                          "#bd3786"
                        ],
                        [
                          0.5555555555555556,
                          "#d8576b"
                        ],
                        [
                          0.6666666666666666,
                          "#ed7953"
                        ],
                        [
                          0.7777777777777778,
                          "#fb9f3a"
                        ],
                        [
                          0.8888888888888888,
                          "#fdca26"
                        ],
                        [
                          1,
                          "#f0f921"
                        ]
                      ],
                      "sequentialminus": [
                        [
                          0,
                          "#0d0887"
                        ],
                        [
                          0.1111111111111111,
                          "#46039f"
                        ],
                        [
                          0.2222222222222222,
                          "#7201a8"
                        ],
                        [
                          0.3333333333333333,
                          "#9c179e"
                        ],
                        [
                          0.4444444444444444,
                          "#bd3786"
                        ],
                        [
                          0.5555555555555556,
                          "#d8576b"
                        ],
                        [
                          0.6666666666666666,
                          "#ed7953"
                        ],
                        [
                          0.7777777777777778,
                          "#fb9f3a"
                        ],
                        [
                          0.8888888888888888,
                          "#fdca26"
                        ],
                        [
                          1,
                          "#f0f921"
                        ]
                      ]
                    },
                    "colorway": [
                      "#636efa",
                      "#EF553B",
                      "#00cc96",
                      "#ab63fa",
                      "#FFA15A",
                      "#19d3f3",
                      "#FF6692",
                      "#B6E880",
                      "#FF97FF",
                      "#FECB52"
                    ],
                    "font": {
                      "color": "#2a3f5f"
                    },
                    "geo": {
                      "bgcolor": "white",
                      "lakecolor": "white",
                      "landcolor": "#E5ECF6",
                      "showlakes": true,
                      "showland": true,
                      "subunitcolor": "white"
                    },
                    "hoverlabel": {
                      "align": "left"
                    },
                    "hovermode": "closest",
                    "mapbox": {
                      "style": "light"
                    },
                    "paper_bgcolor": "white",
                    "plot_bgcolor": "#E5ECF6",
                    "polar": {
                      "angularaxis": {
                        "gridcolor": "white",
                        "linecolor": "white",
                        "ticks": ""
                      },
                      "bgcolor": "#E5ECF6",
                      "radialaxis": {
                        "gridcolor": "white",
                        "linecolor": "white",
                        "ticks": ""
                      }
                    },
                    "scene": {
                      "xaxis": {
                        "backgroundcolor": "#E5ECF6",
                        "gridcolor": "white",
                        "gridwidth": 2,
                        "linecolor": "white",
                        "showbackground": true,
                        "ticks": "",
                        "zerolinecolor": "white"
                      },
                      "yaxis": {
                        "backgroundcolor": "#E5ECF6",
                        "gridcolor": "white",
                        "gridwidth": 2,
                        "linecolor": "white",
                        "showbackground": true,
                        "ticks": "",
                        "zerolinecolor": "white"
                      },
                      "zaxis": {
                        "backgroundcolor": "#E5ECF6",
                        "gridcolor": "white",
                        "gridwidth": 2,
                        "linecolor": "white",
                        "showbackground": true,
                        "ticks": "",
                        "zerolinecolor": "white"
                      }
                    },
                    "shapedefaults": {
                      "line": {
                        "color": "#2a3f5f"
                      }
                    },
                    "ternary": {
                      "aaxis": {
                        "gridcolor": "white",
                        "linecolor": "white",
                        "ticks": ""
                      },
                      "baxis": {
                        "gridcolor": "white",
                        "linecolor": "white",
                        "ticks": ""
                      },
                      "bgcolor": "#E5ECF6",
                      "caxis": {
                        "gridcolor": "white",
                        "linecolor": "white",
                        "ticks": ""
                      }
                    },
                    "title": {
                      "x": 0.05
                    },
                    "xaxis": {
                      "automargin": true,
                      "gridcolor": "white",
                      "linecolor": "white",
                      "ticks": "",
                      "title": {
                        "standoff": 15
                      },
                      "zerolinecolor": "white",
                      "zerolinewidth": 2
                    },
                    "yaxis": {
                      "automargin": true,
                      "gridcolor": "white",
                      "linecolor": "white",
                      "ticks": "",
                      "title": {
                        "standoff": 15
                      },
                      "zerolinecolor": "white",
                      "zerolinewidth": 2
                    }
                  }
                }
              }
            },
            "text/html": [
              "<div>\n",
              "        \n",
              "        \n",
              "            <div id=\"653fdf3e-f8d4-4898-90ac-e35c4b298286\" class=\"plotly-graph-div\" style=\"height:525px; width:100%;\"></div>\n",
              "            <script type=\"text/javascript\">\n",
              "                require([\"plotly\"], function(Plotly) {\n",
              "                    window.PLOTLYENV=window.PLOTLYENV || {};\n",
              "                    \n",
              "                if (document.getElementById(\"653fdf3e-f8d4-4898-90ac-e35c4b298286\")) {\n",
              "                    Plotly.newPlot(\n",
              "                        '653fdf3e-f8d4-4898-90ac-e35c4b298286',\n",
              "                        [{\"type\": \"scatter\", \"x\": [-76, -63, -57, -56, -53, -52, -51, -50, -48, -47, -46, -45, -43, -41, -40, -38, -36, -34, -33, -32, -29, -27, -26, -25, -23, -22, -21, -19, -18, -16, -14, -13, -12, -11, -9, -8, -7, -5, -4, -2, -1, 0, 1, 2, 3, 4, 5, 9, 10, 11, 12, 13, 14, 15, 16, 17, 18, 19, 20, 22, 26, 27, 28, 29, 31, 32, 33, 34, 35, 38, 39, 40, 41, 43, 44, 45, 46, 47, 50, 51, 53, 54, 56, 57, 58, 60, 61, 64, 65, 67, 68, 69, 72, 73, 79, 85, 88, 102, 123], \"y\": [0.4105839416058394, 0.3284671532846715, 1.0675182481751826, 1.1496350364963503, 1.313868613138686, 1.4781021897810218, 1.4781021897810218, 1.6423357664233575, 1.7244525547445255, 1.7244525547445255, 1.6423357664233575, 1.7244525547445255, 1.5602189781021898, 1.5602189781021898, 1.395985401459854, 1.395985401459854, 1.2317518248175183, 1.313868613138686, 1.1496350364963503, 1.2317518248175183, 1.1496350364963503, 1.395985401459854, 1.313868613138686, 1.395985401459854, 1.313868613138686, 1.313868613138686, 1.4781021897810218, 1.395985401459854, 1.5602189781021898, 1.4781021897810218, 1.5602189781021898, 1.6423357664233575, 1.5602189781021898, 1.5602189781021898, 1.8886861313868615, 1.8886861313868615, 2.052919708029197, 2.4635036496350367, 2.627737226277372, 2.3813868613138687, 2.2992700729927007, 2.627737226277372, 2.5456204379562046, 2.5456204379562046, 2.627737226277372, 3.0383211678832116, 3.0383211678832116, 3.284671532846715, 3.284671532846715, 3.284671532846715, 3.1204379562043796, 3.3667883211678835, 2.9562043795620436, 2.70985401459854, 2.70985401459854, 2.874087591240876, 2.9562043795620436, 2.70985401459854, 2.70985401459854, 2.5456204379562046, 2.052919708029197, 1.970802919708029, 1.7244525547445255, 1.7244525547445255, 1.6423357664233575, 1.395985401459854, 1.395985401459854, 1.7244525547445255, 1.8065693430656935, 1.8065693430656935, 1.7244525547445255, 1.7244525547445255, 1.8065693430656935, 1.8065693430656935, 1.6423357664233575, 1.8886861313868615, 1.8886861313868615, 1.970802919708029, 2.052919708029197, 2.135036496350365, 1.8886861313868615, 1.8065693430656935, 2.052919708029197, 1.970802919708029, 2.052919708029197, 2.217153284671533, 2.052919708029197, 1.8886861313868615, 1.8886861313868615, 1.7244525547445255, 1.395985401459854, 1.395985401459854, 1.395985401459854, 1.395985401459854, 0.656934306569343, 0.4105839416058394, 0.4105839416058394, 0.08211678832116788, 0.24635036496350363]}],\n",
              "                        {\"template\": {\"data\": {\"bar\": [{\"error_x\": {\"color\": \"#2a3f5f\"}, \"error_y\": {\"color\": \"#2a3f5f\"}, \"marker\": {\"line\": {\"color\": \"#E5ECF6\", \"width\": 0.5}}, \"type\": \"bar\"}], \"barpolar\": [{\"marker\": {\"line\": {\"color\": \"#E5ECF6\", \"width\": 0.5}}, \"type\": \"barpolar\"}], \"carpet\": [{\"aaxis\": {\"endlinecolor\": \"#2a3f5f\", \"gridcolor\": \"white\", \"linecolor\": \"white\", \"minorgridcolor\": \"white\", \"startlinecolor\": \"#2a3f5f\"}, \"baxis\": {\"endlinecolor\": \"#2a3f5f\", \"gridcolor\": \"white\", \"linecolor\": \"white\", \"minorgridcolor\": \"white\", \"startlinecolor\": \"#2a3f5f\"}, \"type\": \"carpet\"}], \"choropleth\": [{\"colorbar\": {\"outlinewidth\": 0, \"ticks\": \"\"}, \"type\": \"choropleth\"}], \"contour\": [{\"colorbar\": {\"outlinewidth\": 0, \"ticks\": \"\"}, \"colorscale\": [[0.0, \"#0d0887\"], [0.1111111111111111, \"#46039f\"], [0.2222222222222222, \"#7201a8\"], [0.3333333333333333, \"#9c179e\"], [0.4444444444444444, \"#bd3786\"], [0.5555555555555556, \"#d8576b\"], [0.6666666666666666, \"#ed7953\"], [0.7777777777777778, \"#fb9f3a\"], [0.8888888888888888, \"#fdca26\"], [1.0, \"#f0f921\"]], \"type\": \"contour\"}], \"contourcarpet\": [{\"colorbar\": {\"outlinewidth\": 0, \"ticks\": \"\"}, \"type\": \"contourcarpet\"}], \"heatmap\": [{\"colorbar\": {\"outlinewidth\": 0, \"ticks\": \"\"}, \"colorscale\": [[0.0, \"#0d0887\"], [0.1111111111111111, \"#46039f\"], [0.2222222222222222, \"#7201a8\"], [0.3333333333333333, \"#9c179e\"], [0.4444444444444444, \"#bd3786\"], [0.5555555555555556, \"#d8576b\"], [0.6666666666666666, \"#ed7953\"], [0.7777777777777778, \"#fb9f3a\"], [0.8888888888888888, \"#fdca26\"], [1.0, \"#f0f921\"]], \"type\": \"heatmap\"}], \"heatmapgl\": [{\"colorbar\": {\"outlinewidth\": 0, \"ticks\": \"\"}, \"colorscale\": [[0.0, \"#0d0887\"], [0.1111111111111111, \"#46039f\"], [0.2222222222222222, \"#7201a8\"], [0.3333333333333333, \"#9c179e\"], [0.4444444444444444, \"#bd3786\"], [0.5555555555555556, \"#d8576b\"], [0.6666666666666666, \"#ed7953\"], [0.7777777777777778, \"#fb9f3a\"], [0.8888888888888888, \"#fdca26\"], [1.0, \"#f0f921\"]], \"type\": \"heatmapgl\"}], \"histogram\": [{\"marker\": {\"colorbar\": {\"outlinewidth\": 0, \"ticks\": \"\"}}, \"type\": \"histogram\"}], \"histogram2d\": [{\"colorbar\": {\"outlinewidth\": 0, \"ticks\": \"\"}, \"colorscale\": [[0.0, \"#0d0887\"], [0.1111111111111111, \"#46039f\"], [0.2222222222222222, \"#7201a8\"], [0.3333333333333333, \"#9c179e\"], [0.4444444444444444, \"#bd3786\"], [0.5555555555555556, \"#d8576b\"], [0.6666666666666666, \"#ed7953\"], [0.7777777777777778, \"#fb9f3a\"], [0.8888888888888888, \"#fdca26\"], [1.0, \"#f0f921\"]], \"type\": \"histogram2d\"}], \"histogram2dcontour\": [{\"colorbar\": {\"outlinewidth\": 0, \"ticks\": \"\"}, \"colorscale\": [[0.0, \"#0d0887\"], [0.1111111111111111, \"#46039f\"], [0.2222222222222222, \"#7201a8\"], [0.3333333333333333, \"#9c179e\"], [0.4444444444444444, \"#bd3786\"], [0.5555555555555556, \"#d8576b\"], [0.6666666666666666, \"#ed7953\"], [0.7777777777777778, \"#fb9f3a\"], [0.8888888888888888, \"#fdca26\"], [1.0, \"#f0f921\"]], \"type\": \"histogram2dcontour\"}], \"mesh3d\": [{\"colorbar\": {\"outlinewidth\": 0, \"ticks\": \"\"}, \"type\": \"mesh3d\"}], \"parcoords\": [{\"line\": {\"colorbar\": {\"outlinewidth\": 0, \"ticks\": \"\"}}, \"type\": \"parcoords\"}], \"pie\": [{\"automargin\": true, \"type\": \"pie\"}], \"scatter\": [{\"marker\": {\"colorbar\": {\"outlinewidth\": 0, \"ticks\": \"\"}}, \"type\": \"scatter\"}], \"scatter3d\": [{\"line\": {\"colorbar\": {\"outlinewidth\": 0, \"ticks\": \"\"}}, \"marker\": {\"colorbar\": {\"outlinewidth\": 0, \"ticks\": \"\"}}, \"type\": \"scatter3d\"}], \"scattercarpet\": [{\"marker\": {\"colorbar\": {\"outlinewidth\": 0, \"ticks\": \"\"}}, \"type\": \"scattercarpet\"}], \"scattergeo\": [{\"marker\": {\"colorbar\": {\"outlinewidth\": 0, \"ticks\": \"\"}}, \"type\": \"scattergeo\"}], \"scattergl\": [{\"marker\": {\"colorbar\": {\"outlinewidth\": 0, \"ticks\": \"\"}}, \"type\": \"scattergl\"}], \"scattermapbox\": [{\"marker\": {\"colorbar\": {\"outlinewidth\": 0, \"ticks\": \"\"}}, \"type\": \"scattermapbox\"}], \"scatterpolar\": [{\"marker\": {\"colorbar\": {\"outlinewidth\": 0, \"ticks\": \"\"}}, \"type\": \"scatterpolar\"}], \"scatterpolargl\": [{\"marker\": {\"colorbar\": {\"outlinewidth\": 0, \"ticks\": \"\"}}, \"type\": \"scatterpolargl\"}], \"scatterternary\": [{\"marker\": {\"colorbar\": {\"outlinewidth\": 0, \"ticks\": \"\"}}, \"type\": \"scatterternary\"}], \"surface\": [{\"colorbar\": {\"outlinewidth\": 0, \"ticks\": \"\"}, \"colorscale\": [[0.0, \"#0d0887\"], [0.1111111111111111, \"#46039f\"], [0.2222222222222222, \"#7201a8\"], [0.3333333333333333, \"#9c179e\"], [0.4444444444444444, \"#bd3786\"], [0.5555555555555556, \"#d8576b\"], [0.6666666666666666, \"#ed7953\"], [0.7777777777777778, \"#fb9f3a\"], [0.8888888888888888, \"#fdca26\"], [1.0, \"#f0f921\"]], \"type\": \"surface\"}], \"table\": [{\"cells\": {\"fill\": {\"color\": \"#EBF0F8\"}, \"line\": {\"color\": \"white\"}}, \"header\": {\"fill\": {\"color\": \"#C8D4E3\"}, \"line\": {\"color\": \"white\"}}, \"type\": \"table\"}]}, \"layout\": {\"annotationdefaults\": {\"arrowcolor\": \"#2a3f5f\", \"arrowhead\": 0, \"arrowwidth\": 1}, \"coloraxis\": {\"colorbar\": {\"outlinewidth\": 0, \"ticks\": \"\"}}, \"colorscale\": {\"diverging\": [[0, \"#8e0152\"], [0.1, \"#c51b7d\"], [0.2, \"#de77ae\"], [0.3, \"#f1b6da\"], [0.4, \"#fde0ef\"], [0.5, \"#f7f7f7\"], [0.6, \"#e6f5d0\"], [0.7, \"#b8e186\"], [0.8, \"#7fbc41\"], [0.9, \"#4d9221\"], [1, \"#276419\"]], \"sequential\": [[0.0, \"#0d0887\"], [0.1111111111111111, \"#46039f\"], [0.2222222222222222, \"#7201a8\"], [0.3333333333333333, \"#9c179e\"], [0.4444444444444444, \"#bd3786\"], [0.5555555555555556, \"#d8576b\"], [0.6666666666666666, \"#ed7953\"], [0.7777777777777778, \"#fb9f3a\"], [0.8888888888888888, \"#fdca26\"], [1.0, \"#f0f921\"]], \"sequentialminus\": [[0.0, \"#0d0887\"], [0.1111111111111111, \"#46039f\"], [0.2222222222222222, \"#7201a8\"], [0.3333333333333333, \"#9c179e\"], [0.4444444444444444, \"#bd3786\"], [0.5555555555555556, \"#d8576b\"], [0.6666666666666666, \"#ed7953\"], [0.7777777777777778, \"#fb9f3a\"], [0.8888888888888888, \"#fdca26\"], [1.0, \"#f0f921\"]]}, \"colorway\": [\"#636efa\", \"#EF553B\", \"#00cc96\", \"#ab63fa\", \"#FFA15A\", \"#19d3f3\", \"#FF6692\", \"#B6E880\", \"#FF97FF\", \"#FECB52\"], \"font\": {\"color\": \"#2a3f5f\"}, \"geo\": {\"bgcolor\": \"white\", \"lakecolor\": \"white\", \"landcolor\": \"#E5ECF6\", \"showlakes\": true, \"showland\": true, \"subunitcolor\": \"white\"}, \"hoverlabel\": {\"align\": \"left\"}, \"hovermode\": \"closest\", \"mapbox\": {\"style\": \"light\"}, \"paper_bgcolor\": \"white\", \"plot_bgcolor\": \"#E5ECF6\", \"polar\": {\"angularaxis\": {\"gridcolor\": \"white\", \"linecolor\": \"white\", \"ticks\": \"\"}, \"bgcolor\": \"#E5ECF6\", \"radialaxis\": {\"gridcolor\": \"white\", \"linecolor\": \"white\", \"ticks\": \"\"}}, \"scene\": {\"xaxis\": {\"backgroundcolor\": \"#E5ECF6\", \"gridcolor\": \"white\", \"gridwidth\": 2, \"linecolor\": \"white\", \"showbackground\": true, \"ticks\": \"\", \"zerolinecolor\": \"white\"}, \"yaxis\": {\"backgroundcolor\": \"#E5ECF6\", \"gridcolor\": \"white\", \"gridwidth\": 2, \"linecolor\": \"white\", \"showbackground\": true, \"ticks\": \"\", \"zerolinecolor\": \"white\"}, \"zaxis\": {\"backgroundcolor\": \"#E5ECF6\", \"gridcolor\": \"white\", \"gridwidth\": 2, \"linecolor\": \"white\", \"showbackground\": true, \"ticks\": \"\", \"zerolinecolor\": \"white\"}}, \"shapedefaults\": {\"line\": {\"color\": \"#2a3f5f\"}}, \"ternary\": {\"aaxis\": {\"gridcolor\": \"white\", \"linecolor\": \"white\", \"ticks\": \"\"}, \"baxis\": {\"gridcolor\": \"white\", \"linecolor\": \"white\", \"ticks\": \"\"}, \"bgcolor\": \"#E5ECF6\", \"caxis\": {\"gridcolor\": \"white\", \"linecolor\": \"white\", \"ticks\": \"\"}}, \"title\": {\"x\": 0.05}, \"xaxis\": {\"automargin\": true, \"gridcolor\": \"white\", \"linecolor\": \"white\", \"ticks\": \"\", \"title\": {\"standoff\": 15}, \"zerolinecolor\": \"white\", \"zerolinewidth\": 2}, \"yaxis\": {\"automargin\": true, \"gridcolor\": \"white\", \"linecolor\": \"white\", \"ticks\": \"\", \"title\": {\"standoff\": 15}, \"zerolinecolor\": \"white\", \"zerolinewidth\": 2}}}},\n",
              "                        {\"responsive\": true}\n",
              "                    ).then(function(){\n",
              "                            \n",
              "var gd = document.getElementById('653fdf3e-f8d4-4898-90ac-e35c4b298286');\n",
              "var x = new MutationObserver(function (mutations, observer) {{\n",
              "        var display = window.getComputedStyle(gd).display;\n",
              "        if (!display || display === 'none') {{\n",
              "            console.log([gd, 'removed!']);\n",
              "            Plotly.purge(gd);\n",
              "            observer.disconnect();\n",
              "        }}\n",
              "}});\n",
              "\n",
              "// Listen for the removal of the full notebook cells\n",
              "var notebookContainer = gd.closest('#notebook-container');\n",
              "if (notebookContainer) {{\n",
              "    x.observe(notebookContainer, {childList: true});\n",
              "}}\n",
              "\n",
              "// Listen for the clearing of the current output cell\n",
              "var outputEl = gd.closest('.output');\n",
              "if (outputEl) {{\n",
              "    x.observe(outputEl, {childList: true});\n",
              "}}\n",
              "\n",
              "                        })\n",
              "                };\n",
              "                });\n",
              "            </script>\n",
              "        </div>"
            ]
          },
          "metadata": {
            "tags": []
          }
        }
      ]
    },
    {
      "cell_type": "code",
      "metadata": {
        "id": "222bhe4ScVSr",
        "colab_type": "code",
        "colab": {},
        "outputId": "2f521582-98eb-4324-bc42-a9a8f1408f3a"
      },
      "source": [
        "cdf = {}\n",
        "cur_total = 0\n",
        "for key, val in sorted_by_pct.items():\n",
        "    cur_total += val\n",
        "    cdf[key] = cur_total\n",
        "    \n",
        "trace1 = Scatter(x = list(cdf.keys()), y = list(cdf.values()))\n",
        "data = Data([trace1])\n",
        "iplot(data)"
      ],
      "execution_count": null,
      "outputs": [
        {
          "output_type": "display_data",
          "data": {
            "application/vnd.plotly.v1+json": {
              "config": {
                "linkText": "Export to plot.ly",
                "plotlyServerURL": "https://plot.ly",
                "showLink": false
              },
              "data": [
                {
                  "type": "scatter",
                  "x": [
                    -76,
                    -63,
                    -57,
                    -56,
                    -53,
                    -52,
                    -51,
                    -50,
                    -48,
                    -47,
                    -46,
                    -45,
                    -43,
                    -41,
                    -40,
                    -38,
                    -36,
                    -34,
                    -33,
                    -32,
                    -29,
                    -27,
                    -26,
                    -25,
                    -23,
                    -22,
                    -21,
                    -19,
                    -18,
                    -16,
                    -14,
                    -13,
                    -12,
                    -11,
                    -9,
                    -8,
                    -7,
                    -5,
                    -4,
                    -2,
                    -1,
                    0,
                    1,
                    2,
                    3,
                    4,
                    5,
                    9,
                    10,
                    11,
                    12,
                    13,
                    14,
                    15,
                    16,
                    17,
                    18,
                    19,
                    20,
                    22,
                    26,
                    27,
                    28,
                    29,
                    31,
                    32,
                    33,
                    34,
                    35,
                    38,
                    39,
                    40,
                    41,
                    43,
                    44,
                    45,
                    46,
                    47,
                    50,
                    51,
                    53,
                    54,
                    56,
                    57,
                    58,
                    60,
                    61,
                    64,
                    65,
                    67,
                    68,
                    69,
                    72,
                    73,
                    79,
                    85,
                    88,
                    102,
                    123
                  ],
                  "y": [
                    0.4105839416058394,
                    0.7390510948905109,
                    1.8065693430656935,
                    2.9562043795620436,
                    4.2700729927007295,
                    5.748175182481751,
                    7.226277372262773,
                    8.86861313868613,
                    10.593065693430656,
                    12.317518248175181,
                    13.95985401459854,
                    15.684306569343065,
                    17.244525547445253,
                    18.80474452554744,
                    20.200729927007295,
                    21.59671532846715,
                    22.828467153284667,
                    24.142335766423354,
                    25.291970802919703,
                    26.52372262773722,
                    27.67335766423357,
                    29.069343065693424,
                    30.38321167883211,
                    31.779197080291965,
                    33.09306569343065,
                    34.40693430656934,
                    35.88503649635036,
                    37.28102189781021,
                    38.841240875912405,
                    40.319343065693424,
                    41.879562043795616,
                    43.521897810218974,
                    45.082116788321166,
                    46.64233576642336,
                    48.53102189781022,
                    50.41970802919708,
                    52.472627737226276,
                    54.93613138686131,
                    57.56386861313869,
                    59.94525547445256,
                    62.24452554744526,
                    64.87226277372262,
                    67.41788321167883,
                    69.96350364963503,
                    72.5912408759124,
                    75.62956204379562,
                    78.66788321167883,
                    81.95255474452554,
                    85.23722627737226,
                    88.52189781021897,
                    91.64233576642336,
                    95.00912408759125,
                    97.96532846715328,
                    100.67518248175182,
                    103.38503649635035,
                    106.25912408759123,
                    109.21532846715327,
                    111.9251824817518,
                    114.63503649635034,
                    117.18065693430654,
                    119.23357664233573,
                    121.20437956204377,
                    122.9288321167883,
                    124.65328467153283,
                    126.29562043795619,
                    127.69160583941604,
                    129.0875912408759,
                    130.8120437956204,
                    132.6186131386861,
                    134.4251824817518,
                    136.1496350364963,
                    137.87408759124082,
                    139.6806569343065,
                    141.4872262773722,
                    143.12956204379554,
                    145.0182481751824,
                    146.90693430656927,
                    148.8777372262773,
                    150.9306569343065,
                    153.06569343065686,
                    154.95437956204373,
                    156.76094890510942,
                    158.81386861313862,
                    160.78467153284666,
                    162.83759124087587,
                    165.0547445255474,
                    167.1076642335766,
                    168.99635036496346,
                    170.88503649635032,
                    172.60948905109484,
                    174.0054744525547,
                    175.40145985401455,
                    176.7974452554744,
                    178.19343065693425,
                    178.8503649635036,
                    179.26094890510944,
                    179.67153284671528,
                    179.75364963503645,
                    179.99999999999994
                  ]
                }
              ],
              "layout": {
                "template": {
                  "data": {
                    "bar": [
                      {
                        "error_x": {
                          "color": "#2a3f5f"
                        },
                        "error_y": {
                          "color": "#2a3f5f"
                        },
                        "marker": {
                          "line": {
                            "color": "#E5ECF6",
                            "width": 0.5
                          }
                        },
                        "type": "bar"
                      }
                    ],
                    "barpolar": [
                      {
                        "marker": {
                          "line": {
                            "color": "#E5ECF6",
                            "width": 0.5
                          }
                        },
                        "type": "barpolar"
                      }
                    ],
                    "carpet": [
                      {
                        "aaxis": {
                          "endlinecolor": "#2a3f5f",
                          "gridcolor": "white",
                          "linecolor": "white",
                          "minorgridcolor": "white",
                          "startlinecolor": "#2a3f5f"
                        },
                        "baxis": {
                          "endlinecolor": "#2a3f5f",
                          "gridcolor": "white",
                          "linecolor": "white",
                          "minorgridcolor": "white",
                          "startlinecolor": "#2a3f5f"
                        },
                        "type": "carpet"
                      }
                    ],
                    "choropleth": [
                      {
                        "colorbar": {
                          "outlinewidth": 0,
                          "ticks": ""
                        },
                        "type": "choropleth"
                      }
                    ],
                    "contour": [
                      {
                        "colorbar": {
                          "outlinewidth": 0,
                          "ticks": ""
                        },
                        "colorscale": [
                          [
                            0,
                            "#0d0887"
                          ],
                          [
                            0.1111111111111111,
                            "#46039f"
                          ],
                          [
                            0.2222222222222222,
                            "#7201a8"
                          ],
                          [
                            0.3333333333333333,
                            "#9c179e"
                          ],
                          [
                            0.4444444444444444,
                            "#bd3786"
                          ],
                          [
                            0.5555555555555556,
                            "#d8576b"
                          ],
                          [
                            0.6666666666666666,
                            "#ed7953"
                          ],
                          [
                            0.7777777777777778,
                            "#fb9f3a"
                          ],
                          [
                            0.8888888888888888,
                            "#fdca26"
                          ],
                          [
                            1,
                            "#f0f921"
                          ]
                        ],
                        "type": "contour"
                      }
                    ],
                    "contourcarpet": [
                      {
                        "colorbar": {
                          "outlinewidth": 0,
                          "ticks": ""
                        },
                        "type": "contourcarpet"
                      }
                    ],
                    "heatmap": [
                      {
                        "colorbar": {
                          "outlinewidth": 0,
                          "ticks": ""
                        },
                        "colorscale": [
                          [
                            0,
                            "#0d0887"
                          ],
                          [
                            0.1111111111111111,
                            "#46039f"
                          ],
                          [
                            0.2222222222222222,
                            "#7201a8"
                          ],
                          [
                            0.3333333333333333,
                            "#9c179e"
                          ],
                          [
                            0.4444444444444444,
                            "#bd3786"
                          ],
                          [
                            0.5555555555555556,
                            "#d8576b"
                          ],
                          [
                            0.6666666666666666,
                            "#ed7953"
                          ],
                          [
                            0.7777777777777778,
                            "#fb9f3a"
                          ],
                          [
                            0.8888888888888888,
                            "#fdca26"
                          ],
                          [
                            1,
                            "#f0f921"
                          ]
                        ],
                        "type": "heatmap"
                      }
                    ],
                    "heatmapgl": [
                      {
                        "colorbar": {
                          "outlinewidth": 0,
                          "ticks": ""
                        },
                        "colorscale": [
                          [
                            0,
                            "#0d0887"
                          ],
                          [
                            0.1111111111111111,
                            "#46039f"
                          ],
                          [
                            0.2222222222222222,
                            "#7201a8"
                          ],
                          [
                            0.3333333333333333,
                            "#9c179e"
                          ],
                          [
                            0.4444444444444444,
                            "#bd3786"
                          ],
                          [
                            0.5555555555555556,
                            "#d8576b"
                          ],
                          [
                            0.6666666666666666,
                            "#ed7953"
                          ],
                          [
                            0.7777777777777778,
                            "#fb9f3a"
                          ],
                          [
                            0.8888888888888888,
                            "#fdca26"
                          ],
                          [
                            1,
                            "#f0f921"
                          ]
                        ],
                        "type": "heatmapgl"
                      }
                    ],
                    "histogram": [
                      {
                        "marker": {
                          "colorbar": {
                            "outlinewidth": 0,
                            "ticks": ""
                          }
                        },
                        "type": "histogram"
                      }
                    ],
                    "histogram2d": [
                      {
                        "colorbar": {
                          "outlinewidth": 0,
                          "ticks": ""
                        },
                        "colorscale": [
                          [
                            0,
                            "#0d0887"
                          ],
                          [
                            0.1111111111111111,
                            "#46039f"
                          ],
                          [
                            0.2222222222222222,
                            "#7201a8"
                          ],
                          [
                            0.3333333333333333,
                            "#9c179e"
                          ],
                          [
                            0.4444444444444444,
                            "#bd3786"
                          ],
                          [
                            0.5555555555555556,
                            "#d8576b"
                          ],
                          [
                            0.6666666666666666,
                            "#ed7953"
                          ],
                          [
                            0.7777777777777778,
                            "#fb9f3a"
                          ],
                          [
                            0.8888888888888888,
                            "#fdca26"
                          ],
                          [
                            1,
                            "#f0f921"
                          ]
                        ],
                        "type": "histogram2d"
                      }
                    ],
                    "histogram2dcontour": [
                      {
                        "colorbar": {
                          "outlinewidth": 0,
                          "ticks": ""
                        },
                        "colorscale": [
                          [
                            0,
                            "#0d0887"
                          ],
                          [
                            0.1111111111111111,
                            "#46039f"
                          ],
                          [
                            0.2222222222222222,
                            "#7201a8"
                          ],
                          [
                            0.3333333333333333,
                            "#9c179e"
                          ],
                          [
                            0.4444444444444444,
                            "#bd3786"
                          ],
                          [
                            0.5555555555555556,
                            "#d8576b"
                          ],
                          [
                            0.6666666666666666,
                            "#ed7953"
                          ],
                          [
                            0.7777777777777778,
                            "#fb9f3a"
                          ],
                          [
                            0.8888888888888888,
                            "#fdca26"
                          ],
                          [
                            1,
                            "#f0f921"
                          ]
                        ],
                        "type": "histogram2dcontour"
                      }
                    ],
                    "mesh3d": [
                      {
                        "colorbar": {
                          "outlinewidth": 0,
                          "ticks": ""
                        },
                        "type": "mesh3d"
                      }
                    ],
                    "parcoords": [
                      {
                        "line": {
                          "colorbar": {
                            "outlinewidth": 0,
                            "ticks": ""
                          }
                        },
                        "type": "parcoords"
                      }
                    ],
                    "pie": [
                      {
                        "automargin": true,
                        "type": "pie"
                      }
                    ],
                    "scatter": [
                      {
                        "marker": {
                          "colorbar": {
                            "outlinewidth": 0,
                            "ticks": ""
                          }
                        },
                        "type": "scatter"
                      }
                    ],
                    "scatter3d": [
                      {
                        "line": {
                          "colorbar": {
                            "outlinewidth": 0,
                            "ticks": ""
                          }
                        },
                        "marker": {
                          "colorbar": {
                            "outlinewidth": 0,
                            "ticks": ""
                          }
                        },
                        "type": "scatter3d"
                      }
                    ],
                    "scattercarpet": [
                      {
                        "marker": {
                          "colorbar": {
                            "outlinewidth": 0,
                            "ticks": ""
                          }
                        },
                        "type": "scattercarpet"
                      }
                    ],
                    "scattergeo": [
                      {
                        "marker": {
                          "colorbar": {
                            "outlinewidth": 0,
                            "ticks": ""
                          }
                        },
                        "type": "scattergeo"
                      }
                    ],
                    "scattergl": [
                      {
                        "marker": {
                          "colorbar": {
                            "outlinewidth": 0,
                            "ticks": ""
                          }
                        },
                        "type": "scattergl"
                      }
                    ],
                    "scattermapbox": [
                      {
                        "marker": {
                          "colorbar": {
                            "outlinewidth": 0,
                            "ticks": ""
                          }
                        },
                        "type": "scattermapbox"
                      }
                    ],
                    "scatterpolar": [
                      {
                        "marker": {
                          "colorbar": {
                            "outlinewidth": 0,
                            "ticks": ""
                          }
                        },
                        "type": "scatterpolar"
                      }
                    ],
                    "scatterpolargl": [
                      {
                        "marker": {
                          "colorbar": {
                            "outlinewidth": 0,
                            "ticks": ""
                          }
                        },
                        "type": "scatterpolargl"
                      }
                    ],
                    "scatterternary": [
                      {
                        "marker": {
                          "colorbar": {
                            "outlinewidth": 0,
                            "ticks": ""
                          }
                        },
                        "type": "scatterternary"
                      }
                    ],
                    "surface": [
                      {
                        "colorbar": {
                          "outlinewidth": 0,
                          "ticks": ""
                        },
                        "colorscale": [
                          [
                            0,
                            "#0d0887"
                          ],
                          [
                            0.1111111111111111,
                            "#46039f"
                          ],
                          [
                            0.2222222222222222,
                            "#7201a8"
                          ],
                          [
                            0.3333333333333333,
                            "#9c179e"
                          ],
                          [
                            0.4444444444444444,
                            "#bd3786"
                          ],
                          [
                            0.5555555555555556,
                            "#d8576b"
                          ],
                          [
                            0.6666666666666666,
                            "#ed7953"
                          ],
                          [
                            0.7777777777777778,
                            "#fb9f3a"
                          ],
                          [
                            0.8888888888888888,
                            "#fdca26"
                          ],
                          [
                            1,
                            "#f0f921"
                          ]
                        ],
                        "type": "surface"
                      }
                    ],
                    "table": [
                      {
                        "cells": {
                          "fill": {
                            "color": "#EBF0F8"
                          },
                          "line": {
                            "color": "white"
                          }
                        },
                        "header": {
                          "fill": {
                            "color": "#C8D4E3"
                          },
                          "line": {
                            "color": "white"
                          }
                        },
                        "type": "table"
                      }
                    ]
                  },
                  "layout": {
                    "annotationdefaults": {
                      "arrowcolor": "#2a3f5f",
                      "arrowhead": 0,
                      "arrowwidth": 1
                    },
                    "coloraxis": {
                      "colorbar": {
                        "outlinewidth": 0,
                        "ticks": ""
                      }
                    },
                    "colorscale": {
                      "diverging": [
                        [
                          0,
                          "#8e0152"
                        ],
                        [
                          0.1,
                          "#c51b7d"
                        ],
                        [
                          0.2,
                          "#de77ae"
                        ],
                        [
                          0.3,
                          "#f1b6da"
                        ],
                        [
                          0.4,
                          "#fde0ef"
                        ],
                        [
                          0.5,
                          "#f7f7f7"
                        ],
                        [
                          0.6,
                          "#e6f5d0"
                        ],
                        [
                          0.7,
                          "#b8e186"
                        ],
                        [
                          0.8,
                          "#7fbc41"
                        ],
                        [
                          0.9,
                          "#4d9221"
                        ],
                        [
                          1,
                          "#276419"
                        ]
                      ],
                      "sequential": [
                        [
                          0,
                          "#0d0887"
                        ],
                        [
                          0.1111111111111111,
                          "#46039f"
                        ],
                        [
                          0.2222222222222222,
                          "#7201a8"
                        ],
                        [
                          0.3333333333333333,
                          "#9c179e"
                        ],
                        [
                          0.4444444444444444,
                          "#bd3786"
                        ],
                        [
                          0.5555555555555556,
                          "#d8576b"
                        ],
                        [
                          0.6666666666666666,
                          "#ed7953"
                        ],
                        [
                          0.7777777777777778,
                          "#fb9f3a"
                        ],
                        [
                          0.8888888888888888,
                          "#fdca26"
                        ],
                        [
                          1,
                          "#f0f921"
                        ]
                      ],
                      "sequentialminus": [
                        [
                          0,
                          "#0d0887"
                        ],
                        [
                          0.1111111111111111,
                          "#46039f"
                        ],
                        [
                          0.2222222222222222,
                          "#7201a8"
                        ],
                        [
                          0.3333333333333333,
                          "#9c179e"
                        ],
                        [
                          0.4444444444444444,
                          "#bd3786"
                        ],
                        [
                          0.5555555555555556,
                          "#d8576b"
                        ],
                        [
                          0.6666666666666666,
                          "#ed7953"
                        ],
                        [
                          0.7777777777777778,
                          "#fb9f3a"
                        ],
                        [
                          0.8888888888888888,
                          "#fdca26"
                        ],
                        [
                          1,
                          "#f0f921"
                        ]
                      ]
                    },
                    "colorway": [
                      "#636efa",
                      "#EF553B",
                      "#00cc96",
                      "#ab63fa",
                      "#FFA15A",
                      "#19d3f3",
                      "#FF6692",
                      "#B6E880",
                      "#FF97FF",
                      "#FECB52"
                    ],
                    "font": {
                      "color": "#2a3f5f"
                    },
                    "geo": {
                      "bgcolor": "white",
                      "lakecolor": "white",
                      "landcolor": "#E5ECF6",
                      "showlakes": true,
                      "showland": true,
                      "subunitcolor": "white"
                    },
                    "hoverlabel": {
                      "align": "left"
                    },
                    "hovermode": "closest",
                    "mapbox": {
                      "style": "light"
                    },
                    "paper_bgcolor": "white",
                    "plot_bgcolor": "#E5ECF6",
                    "polar": {
                      "angularaxis": {
                        "gridcolor": "white",
                        "linecolor": "white",
                        "ticks": ""
                      },
                      "bgcolor": "#E5ECF6",
                      "radialaxis": {
                        "gridcolor": "white",
                        "linecolor": "white",
                        "ticks": ""
                      }
                    },
                    "scene": {
                      "xaxis": {
                        "backgroundcolor": "#E5ECF6",
                        "gridcolor": "white",
                        "gridwidth": 2,
                        "linecolor": "white",
                        "showbackground": true,
                        "ticks": "",
                        "zerolinecolor": "white"
                      },
                      "yaxis": {
                        "backgroundcolor": "#E5ECF6",
                        "gridcolor": "white",
                        "gridwidth": 2,
                        "linecolor": "white",
                        "showbackground": true,
                        "ticks": "",
                        "zerolinecolor": "white"
                      },
                      "zaxis": {
                        "backgroundcolor": "#E5ECF6",
                        "gridcolor": "white",
                        "gridwidth": 2,
                        "linecolor": "white",
                        "showbackground": true,
                        "ticks": "",
                        "zerolinecolor": "white"
                      }
                    },
                    "shapedefaults": {
                      "line": {
                        "color": "#2a3f5f"
                      }
                    },
                    "ternary": {
                      "aaxis": {
                        "gridcolor": "white",
                        "linecolor": "white",
                        "ticks": ""
                      },
                      "baxis": {
                        "gridcolor": "white",
                        "linecolor": "white",
                        "ticks": ""
                      },
                      "bgcolor": "#E5ECF6",
                      "caxis": {
                        "gridcolor": "white",
                        "linecolor": "white",
                        "ticks": ""
                      }
                    },
                    "title": {
                      "x": 0.05
                    },
                    "xaxis": {
                      "automargin": true,
                      "gridcolor": "white",
                      "linecolor": "white",
                      "ticks": "",
                      "title": {
                        "standoff": 15
                      },
                      "zerolinecolor": "white",
                      "zerolinewidth": 2
                    },
                    "yaxis": {
                      "automargin": true,
                      "gridcolor": "white",
                      "linecolor": "white",
                      "ticks": "",
                      "title": {
                        "standoff": 15
                      },
                      "zerolinecolor": "white",
                      "zerolinewidth": 2
                    }
                  }
                }
              }
            },
            "text/html": [
              "<div>\n",
              "        \n",
              "        \n",
              "            <div id=\"8d852b3d-461b-45b6-8a12-99213c6bd68f\" class=\"plotly-graph-div\" style=\"height:525px; width:100%;\"></div>\n",
              "            <script type=\"text/javascript\">\n",
              "                require([\"plotly\"], function(Plotly) {\n",
              "                    window.PLOTLYENV=window.PLOTLYENV || {};\n",
              "                    \n",
              "                if (document.getElementById(\"8d852b3d-461b-45b6-8a12-99213c6bd68f\")) {\n",
              "                    Plotly.newPlot(\n",
              "                        '8d852b3d-461b-45b6-8a12-99213c6bd68f',\n",
              "                        [{\"type\": \"scatter\", \"x\": [-76, -63, -57, -56, -53, -52, -51, -50, -48, -47, -46, -45, -43, -41, -40, -38, -36, -34, -33, -32, -29, -27, -26, -25, -23, -22, -21, -19, -18, -16, -14, -13, -12, -11, -9, -8, -7, -5, -4, -2, -1, 0, 1, 2, 3, 4, 5, 9, 10, 11, 12, 13, 14, 15, 16, 17, 18, 19, 20, 22, 26, 27, 28, 29, 31, 32, 33, 34, 35, 38, 39, 40, 41, 43, 44, 45, 46, 47, 50, 51, 53, 54, 56, 57, 58, 60, 61, 64, 65, 67, 68, 69, 72, 73, 79, 85, 88, 102, 123], \"y\": [0.4105839416058394, 0.7390510948905109, 1.8065693430656935, 2.9562043795620436, 4.2700729927007295, 5.748175182481751, 7.226277372262773, 8.86861313868613, 10.593065693430656, 12.317518248175181, 13.95985401459854, 15.684306569343065, 17.244525547445253, 18.80474452554744, 20.200729927007295, 21.59671532846715, 22.828467153284667, 24.142335766423354, 25.291970802919703, 26.52372262773722, 27.67335766423357, 29.069343065693424, 30.38321167883211, 31.779197080291965, 33.09306569343065, 34.40693430656934, 35.88503649635036, 37.28102189781021, 38.841240875912405, 40.319343065693424, 41.879562043795616, 43.521897810218974, 45.082116788321166, 46.64233576642336, 48.53102189781022, 50.41970802919708, 52.472627737226276, 54.93613138686131, 57.56386861313869, 59.94525547445256, 62.24452554744526, 64.87226277372262, 67.41788321167883, 69.96350364963503, 72.5912408759124, 75.62956204379562, 78.66788321167883, 81.95255474452554, 85.23722627737226, 88.52189781021897, 91.64233576642336, 95.00912408759125, 97.96532846715328, 100.67518248175182, 103.38503649635035, 106.25912408759123, 109.21532846715327, 111.9251824817518, 114.63503649635034, 117.18065693430654, 119.23357664233573, 121.20437956204377, 122.9288321167883, 124.65328467153283, 126.29562043795619, 127.69160583941604, 129.0875912408759, 130.8120437956204, 132.6186131386861, 134.4251824817518, 136.1496350364963, 137.87408759124082, 139.6806569343065, 141.4872262773722, 143.12956204379554, 145.0182481751824, 146.90693430656927, 148.8777372262773, 150.9306569343065, 153.06569343065686, 154.95437956204373, 156.76094890510942, 158.81386861313862, 160.78467153284666, 162.83759124087587, 165.0547445255474, 167.1076642335766, 168.99635036496346, 170.88503649635032, 172.60948905109484, 174.0054744525547, 175.40145985401455, 176.7974452554744, 178.19343065693425, 178.8503649635036, 179.26094890510944, 179.67153284671528, 179.75364963503645, 179.99999999999994]}],\n",
              "                        {\"template\": {\"data\": {\"bar\": [{\"error_x\": {\"color\": \"#2a3f5f\"}, \"error_y\": {\"color\": \"#2a3f5f\"}, \"marker\": {\"line\": {\"color\": \"#E5ECF6\", \"width\": 0.5}}, \"type\": \"bar\"}], \"barpolar\": [{\"marker\": {\"line\": {\"color\": \"#E5ECF6\", \"width\": 0.5}}, \"type\": \"barpolar\"}], \"carpet\": [{\"aaxis\": {\"endlinecolor\": \"#2a3f5f\", \"gridcolor\": \"white\", \"linecolor\": \"white\", \"minorgridcolor\": \"white\", \"startlinecolor\": \"#2a3f5f\"}, \"baxis\": {\"endlinecolor\": \"#2a3f5f\", \"gridcolor\": \"white\", \"linecolor\": \"white\", \"minorgridcolor\": \"white\", \"startlinecolor\": \"#2a3f5f\"}, \"type\": \"carpet\"}], \"choropleth\": [{\"colorbar\": {\"outlinewidth\": 0, \"ticks\": \"\"}, \"type\": \"choropleth\"}], \"contour\": [{\"colorbar\": {\"outlinewidth\": 0, \"ticks\": \"\"}, \"colorscale\": [[0.0, \"#0d0887\"], [0.1111111111111111, \"#46039f\"], [0.2222222222222222, \"#7201a8\"], [0.3333333333333333, \"#9c179e\"], [0.4444444444444444, \"#bd3786\"], [0.5555555555555556, \"#d8576b\"], [0.6666666666666666, \"#ed7953\"], [0.7777777777777778, \"#fb9f3a\"], [0.8888888888888888, \"#fdca26\"], [1.0, \"#f0f921\"]], \"type\": \"contour\"}], \"contourcarpet\": [{\"colorbar\": {\"outlinewidth\": 0, \"ticks\": \"\"}, \"type\": \"contourcarpet\"}], \"heatmap\": [{\"colorbar\": {\"outlinewidth\": 0, \"ticks\": \"\"}, \"colorscale\": [[0.0, \"#0d0887\"], [0.1111111111111111, \"#46039f\"], [0.2222222222222222, \"#7201a8\"], [0.3333333333333333, \"#9c179e\"], [0.4444444444444444, \"#bd3786\"], [0.5555555555555556, \"#d8576b\"], [0.6666666666666666, \"#ed7953\"], [0.7777777777777778, \"#fb9f3a\"], [0.8888888888888888, \"#fdca26\"], [1.0, \"#f0f921\"]], \"type\": \"heatmap\"}], \"heatmapgl\": [{\"colorbar\": {\"outlinewidth\": 0, \"ticks\": \"\"}, \"colorscale\": [[0.0, \"#0d0887\"], [0.1111111111111111, \"#46039f\"], [0.2222222222222222, \"#7201a8\"], [0.3333333333333333, \"#9c179e\"], [0.4444444444444444, \"#bd3786\"], [0.5555555555555556, \"#d8576b\"], [0.6666666666666666, \"#ed7953\"], [0.7777777777777778, \"#fb9f3a\"], [0.8888888888888888, \"#fdca26\"], [1.0, \"#f0f921\"]], \"type\": \"heatmapgl\"}], \"histogram\": [{\"marker\": {\"colorbar\": {\"outlinewidth\": 0, \"ticks\": \"\"}}, \"type\": \"histogram\"}], \"histogram2d\": [{\"colorbar\": {\"outlinewidth\": 0, \"ticks\": \"\"}, \"colorscale\": [[0.0, \"#0d0887\"], [0.1111111111111111, \"#46039f\"], [0.2222222222222222, \"#7201a8\"], [0.3333333333333333, \"#9c179e\"], [0.4444444444444444, \"#bd3786\"], [0.5555555555555556, \"#d8576b\"], [0.6666666666666666, \"#ed7953\"], [0.7777777777777778, \"#fb9f3a\"], [0.8888888888888888, \"#fdca26\"], [1.0, \"#f0f921\"]], \"type\": \"histogram2d\"}], \"histogram2dcontour\": [{\"colorbar\": {\"outlinewidth\": 0, \"ticks\": \"\"}, \"colorscale\": [[0.0, \"#0d0887\"], [0.1111111111111111, \"#46039f\"], [0.2222222222222222, \"#7201a8\"], [0.3333333333333333, \"#9c179e\"], [0.4444444444444444, \"#bd3786\"], [0.5555555555555556, \"#d8576b\"], [0.6666666666666666, \"#ed7953\"], [0.7777777777777778, \"#fb9f3a\"], [0.8888888888888888, \"#fdca26\"], [1.0, \"#f0f921\"]], \"type\": \"histogram2dcontour\"}], \"mesh3d\": [{\"colorbar\": {\"outlinewidth\": 0, \"ticks\": \"\"}, \"type\": \"mesh3d\"}], \"parcoords\": [{\"line\": {\"colorbar\": {\"outlinewidth\": 0, \"ticks\": \"\"}}, \"type\": \"parcoords\"}], \"pie\": [{\"automargin\": true, \"type\": \"pie\"}], \"scatter\": [{\"marker\": {\"colorbar\": {\"outlinewidth\": 0, \"ticks\": \"\"}}, \"type\": \"scatter\"}], \"scatter3d\": [{\"line\": {\"colorbar\": {\"outlinewidth\": 0, \"ticks\": \"\"}}, \"marker\": {\"colorbar\": {\"outlinewidth\": 0, \"ticks\": \"\"}}, \"type\": \"scatter3d\"}], \"scattercarpet\": [{\"marker\": {\"colorbar\": {\"outlinewidth\": 0, \"ticks\": \"\"}}, \"type\": \"scattercarpet\"}], \"scattergeo\": [{\"marker\": {\"colorbar\": {\"outlinewidth\": 0, \"ticks\": \"\"}}, \"type\": \"scattergeo\"}], \"scattergl\": [{\"marker\": {\"colorbar\": {\"outlinewidth\": 0, \"ticks\": \"\"}}, \"type\": \"scattergl\"}], \"scattermapbox\": [{\"marker\": {\"colorbar\": {\"outlinewidth\": 0, \"ticks\": \"\"}}, \"type\": \"scattermapbox\"}], \"scatterpolar\": [{\"marker\": {\"colorbar\": {\"outlinewidth\": 0, \"ticks\": \"\"}}, \"type\": \"scatterpolar\"}], \"scatterpolargl\": [{\"marker\": {\"colorbar\": {\"outlinewidth\": 0, \"ticks\": \"\"}}, \"type\": \"scatterpolargl\"}], \"scatterternary\": [{\"marker\": {\"colorbar\": {\"outlinewidth\": 0, \"ticks\": \"\"}}, \"type\": \"scatterternary\"}], \"surface\": [{\"colorbar\": {\"outlinewidth\": 0, \"ticks\": \"\"}, \"colorscale\": [[0.0, \"#0d0887\"], [0.1111111111111111, \"#46039f\"], [0.2222222222222222, \"#7201a8\"], [0.3333333333333333, \"#9c179e\"], [0.4444444444444444, \"#bd3786\"], [0.5555555555555556, \"#d8576b\"], [0.6666666666666666, \"#ed7953\"], [0.7777777777777778, \"#fb9f3a\"], [0.8888888888888888, \"#fdca26\"], [1.0, \"#f0f921\"]], \"type\": \"surface\"}], \"table\": [{\"cells\": {\"fill\": {\"color\": \"#EBF0F8\"}, \"line\": {\"color\": \"white\"}}, \"header\": {\"fill\": {\"color\": \"#C8D4E3\"}, \"line\": {\"color\": \"white\"}}, \"type\": \"table\"}]}, \"layout\": {\"annotationdefaults\": {\"arrowcolor\": \"#2a3f5f\", \"arrowhead\": 0, \"arrowwidth\": 1}, \"coloraxis\": {\"colorbar\": {\"outlinewidth\": 0, \"ticks\": \"\"}}, \"colorscale\": {\"diverging\": [[0, \"#8e0152\"], [0.1, \"#c51b7d\"], [0.2, \"#de77ae\"], [0.3, \"#f1b6da\"], [0.4, \"#fde0ef\"], [0.5, \"#f7f7f7\"], [0.6, \"#e6f5d0\"], [0.7, \"#b8e186\"], [0.8, \"#7fbc41\"], [0.9, \"#4d9221\"], [1, \"#276419\"]], \"sequential\": [[0.0, \"#0d0887\"], [0.1111111111111111, \"#46039f\"], [0.2222222222222222, \"#7201a8\"], [0.3333333333333333, \"#9c179e\"], [0.4444444444444444, \"#bd3786\"], [0.5555555555555556, \"#d8576b\"], [0.6666666666666666, \"#ed7953\"], [0.7777777777777778, \"#fb9f3a\"], [0.8888888888888888, \"#fdca26\"], [1.0, \"#f0f921\"]], \"sequentialminus\": [[0.0, \"#0d0887\"], [0.1111111111111111, \"#46039f\"], [0.2222222222222222, \"#7201a8\"], [0.3333333333333333, \"#9c179e\"], [0.4444444444444444, \"#bd3786\"], [0.5555555555555556, \"#d8576b\"], [0.6666666666666666, \"#ed7953\"], [0.7777777777777778, \"#fb9f3a\"], [0.8888888888888888, \"#fdca26\"], [1.0, \"#f0f921\"]]}, \"colorway\": [\"#636efa\", \"#EF553B\", \"#00cc96\", \"#ab63fa\", \"#FFA15A\", \"#19d3f3\", \"#FF6692\", \"#B6E880\", \"#FF97FF\", \"#FECB52\"], \"font\": {\"color\": \"#2a3f5f\"}, \"geo\": {\"bgcolor\": \"white\", \"lakecolor\": \"white\", \"landcolor\": \"#E5ECF6\", \"showlakes\": true, \"showland\": true, \"subunitcolor\": \"white\"}, \"hoverlabel\": {\"align\": \"left\"}, \"hovermode\": \"closest\", \"mapbox\": {\"style\": \"light\"}, \"paper_bgcolor\": \"white\", \"plot_bgcolor\": \"#E5ECF6\", \"polar\": {\"angularaxis\": {\"gridcolor\": \"white\", \"linecolor\": \"white\", \"ticks\": \"\"}, \"bgcolor\": \"#E5ECF6\", \"radialaxis\": {\"gridcolor\": \"white\", \"linecolor\": \"white\", \"ticks\": \"\"}}, \"scene\": {\"xaxis\": {\"backgroundcolor\": \"#E5ECF6\", \"gridcolor\": \"white\", \"gridwidth\": 2, \"linecolor\": \"white\", \"showbackground\": true, \"ticks\": \"\", \"zerolinecolor\": \"white\"}, \"yaxis\": {\"backgroundcolor\": \"#E5ECF6\", \"gridcolor\": \"white\", \"gridwidth\": 2, \"linecolor\": \"white\", \"showbackground\": true, \"ticks\": \"\", \"zerolinecolor\": \"white\"}, \"zaxis\": {\"backgroundcolor\": \"#E5ECF6\", \"gridcolor\": \"white\", \"gridwidth\": 2, \"linecolor\": \"white\", \"showbackground\": true, \"ticks\": \"\", \"zerolinecolor\": \"white\"}}, \"shapedefaults\": {\"line\": {\"color\": \"#2a3f5f\"}}, \"ternary\": {\"aaxis\": {\"gridcolor\": \"white\", \"linecolor\": \"white\", \"ticks\": \"\"}, \"baxis\": {\"gridcolor\": \"white\", \"linecolor\": \"white\", \"ticks\": \"\"}, \"bgcolor\": \"#E5ECF6\", \"caxis\": {\"gridcolor\": \"white\", \"linecolor\": \"white\", \"ticks\": \"\"}}, \"title\": {\"x\": 0.05}, \"xaxis\": {\"automargin\": true, \"gridcolor\": \"white\", \"linecolor\": \"white\", \"ticks\": \"\", \"title\": {\"standoff\": 15}, \"zerolinecolor\": \"white\", \"zerolinewidth\": 2}, \"yaxis\": {\"automargin\": true, \"gridcolor\": \"white\", \"linecolor\": \"white\", \"ticks\": \"\", \"title\": {\"standoff\": 15}, \"zerolinecolor\": \"white\", \"zerolinewidth\": 2}}}},\n",
              "                        {\"responsive\": true}\n",
              "                    ).then(function(){\n",
              "                            \n",
              "var gd = document.getElementById('8d852b3d-461b-45b6-8a12-99213c6bd68f');\n",
              "var x = new MutationObserver(function (mutations, observer) {{\n",
              "        var display = window.getComputedStyle(gd).display;\n",
              "        if (!display || display === 'none') {{\n",
              "            console.log([gd, 'removed!']);\n",
              "            Plotly.purge(gd);\n",
              "            observer.disconnect();\n",
              "        }}\n",
              "}});\n",
              "\n",
              "// Listen for the removal of the full notebook cells\n",
              "var notebookContainer = gd.closest('#notebook-container');\n",
              "if (notebookContainer) {{\n",
              "    x.observe(notebookContainer, {childList: true});\n",
              "}}\n",
              "\n",
              "// Listen for the clearing of the current output cell\n",
              "var outputEl = gd.closest('.output');\n",
              "if (outputEl) {{\n",
              "    x.observe(outputEl, {childList: true});\n",
              "}}\n",
              "\n",
              "                        })\n",
              "                };\n",
              "                });\n",
              "            </script>\n",
              "        </div>"
            ]
          },
          "metadata": {
            "tags": []
          }
        }
      ]
    },
    {
      "cell_type": "code",
      "metadata": {
        "id": "ukn6WvffcVSt",
        "colab_type": "code",
        "colab": {},
        "outputId": "d79a8ac2-0540-4b20-d1d0-250d6725f38f"
      },
      "source": [
        "pd.set_option('display.max_rows', 100)\n",
        "pd.set_option(\"max_rows\", None)\n",
        "rep_state_results[2018]['results'][0].sort_values(by='rep_margin')"
      ],
      "execution_count": null,
      "outputs": [
        {
          "output_type": "execute_result",
          "data": {
            "text/html": [
              "<div>\n",
              "<style scoped>\n",
              "    .dataframe tbody tr th:only-of-type {\n",
              "        vertical-align: middle;\n",
              "    }\n",
              "\n",
              "    .dataframe tbody tr th {\n",
              "        vertical-align: top;\n",
              "    }\n",
              "\n",
              "    .dataframe thead th {\n",
              "        text-align: right;\n",
              "    }\n",
              "</style>\n",
              "<table border=\"1\" class=\"dataframe\">\n",
              "  <thead>\n",
              "    <tr style=\"text-align: right;\">\n",
              "      <th></th>\n",
              "      <th></th>\n",
              "      <th></th>\n",
              "      <th>dem_pct</th>\n",
              "      <th>rep_pct</th>\n",
              "      <th>rep_margin</th>\n",
              "    </tr>\n",
              "    <tr>\n",
              "      <th>year</th>\n",
              "      <th>state</th>\n",
              "      <th>district</th>\n",
              "      <th></th>\n",
              "      <th></th>\n",
              "      <th></th>\n",
              "    </tr>\n",
              "  </thead>\n",
              "  <tbody>\n",
              "    <tr>\n",
              "      <th rowspan=\"242\" valign=\"top\">2018</th>\n",
              "      <th rowspan=\"3\" valign=\"top\">Florida</th>\n",
              "      <th>24</th>\n",
              "      <td>100.000000</td>\n",
              "      <td>0.000000</td>\n",
              "      <td>-100.000000</td>\n",
              "    </tr>\n",
              "    <tr>\n",
              "      <th>14</th>\n",
              "      <td>100.000000</td>\n",
              "      <td>0.000000</td>\n",
              "      <td>-100.000000</td>\n",
              "    </tr>\n",
              "    <tr>\n",
              "      <th>10</th>\n",
              "      <td>100.000000</td>\n",
              "      <td>0.000000</td>\n",
              "      <td>-100.000000</td>\n",
              "    </tr>\n",
              "    <tr>\n",
              "      <th>Georgia</th>\n",
              "      <th>5</th>\n",
              "      <td>100.000000</td>\n",
              "      <td>0.000000</td>\n",
              "      <td>-100.000000</td>\n",
              "    </tr>\n",
              "    <tr>\n",
              "      <th>Florida</th>\n",
              "      <th>21</th>\n",
              "      <td>100.000000</td>\n",
              "      <td>0.000000</td>\n",
              "      <td>-100.000000</td>\n",
              "    </tr>\n",
              "    <tr>\n",
              "      <th>Pennsylvania</th>\n",
              "      <th>18</th>\n",
              "      <td>100.000000</td>\n",
              "      <td>0.000000</td>\n",
              "      <td>-100.000000</td>\n",
              "    </tr>\n",
              "    <tr>\n",
              "      <th>Florida</th>\n",
              "      <th>20</th>\n",
              "      <td>99.918649</td>\n",
              "      <td>0.000000</td>\n",
              "      <td>-99.918649</td>\n",
              "    </tr>\n",
              "    <tr>\n",
              "      <th>Alabama</th>\n",
              "      <th>7</th>\n",
              "      <td>97.804539</td>\n",
              "      <td>0.000000</td>\n",
              "      <td>-97.804539</td>\n",
              "    </tr>\n",
              "    <tr>\n",
              "      <th>Wisconsin</th>\n",
              "      <th>2</th>\n",
              "      <td>97.422273</td>\n",
              "      <td>0.000000</td>\n",
              "      <td>-97.422273</td>\n",
              "    </tr>\n",
              "    <tr>\n",
              "      <th>Virginia</th>\n",
              "      <th>3</th>\n",
              "      <td>91.224130</td>\n",
              "      <td>0.000000</td>\n",
              "      <td>-91.224130</td>\n",
              "    </tr>\n",
              "    <tr>\n",
              "      <th rowspan=\"2\" valign=\"top\">Texas</th>\n",
              "      <th>30</th>\n",
              "      <td>91.052224</td>\n",
              "      <td>0.000000</td>\n",
              "      <td>-91.052224</td>\n",
              "    </tr>\n",
              "    <tr>\n",
              "      <th>9</th>\n",
              "      <td>89.055627</td>\n",
              "      <td>0.000000</td>\n",
              "      <td>-89.055627</td>\n",
              "    </tr>\n",
              "    <tr>\n",
              "      <th>Pennsylvania</th>\n",
              "      <th>3</th>\n",
              "      <td>93.380780</td>\n",
              "      <td>6.619220</td>\n",
              "      <td>-86.761559</td>\n",
              "    </tr>\n",
              "    <tr>\n",
              "      <th>Arizona</th>\n",
              "      <th>7</th>\n",
              "      <td>85.606319</td>\n",
              "      <td>0.000000</td>\n",
              "      <td>-85.606319</td>\n",
              "    </tr>\n",
              "    <tr>\n",
              "      <th>Texas</th>\n",
              "      <th>28</th>\n",
              "      <td>84.390847</td>\n",
              "      <td>0.000000</td>\n",
              "      <td>-84.390847</td>\n",
              "    </tr>\n",
              "    <tr>\n",
              "      <th>Michigan</th>\n",
              "      <th>13</th>\n",
              "      <td>84.236293</td>\n",
              "      <td>0.000000</td>\n",
              "      <td>-84.236293</td>\n",
              "    </tr>\n",
              "    <tr>\n",
              "      <th>Texas</th>\n",
              "      <th>20</th>\n",
              "      <td>80.853439</td>\n",
              "      <td>0.000000</td>\n",
              "      <td>-80.853439</td>\n",
              "    </tr>\n",
              "    <tr>\n",
              "      <th>Louisiana</th>\n",
              "      <th>2</th>\n",
              "      <td>80.591740</td>\n",
              "      <td>0.000000</td>\n",
              "      <td>-80.591740</td>\n",
              "    </tr>\n",
              "    <tr>\n",
              "      <th>New Jersey</th>\n",
              "      <th>10</th>\n",
              "      <td>87.556892</td>\n",
              "      <td>10.087480</td>\n",
              "      <td>-77.469412</td>\n",
              "    </tr>\n",
              "    <tr>\n",
              "      <th>Mississippi</th>\n",
              "      <th>2</th>\n",
              "      <td>71.786845</td>\n",
              "      <td>0.000000</td>\n",
              "      <td>-71.786845</td>\n",
              "    </tr>\n",
              "    <tr>\n",
              "      <th>Ohio</th>\n",
              "      <th>11</th>\n",
              "      <td>82.238091</td>\n",
              "      <td>17.747546</td>\n",
              "      <td>-64.490545</td>\n",
              "    </tr>\n",
              "    <tr>\n",
              "      <th>Michigan</th>\n",
              "      <th>14</th>\n",
              "      <td>80.882586</td>\n",
              "      <td>17.320770</td>\n",
              "      <td>-63.561816</td>\n",
              "    </tr>\n",
              "    <tr>\n",
              "      <th>Tennessee</th>\n",
              "      <th>9</th>\n",
              "      <td>79.976967</td>\n",
              "      <td>19.231744</td>\n",
              "      <td>-60.745223</td>\n",
              "    </tr>\n",
              "    <tr>\n",
              "      <th>New Jersey</th>\n",
              "      <th>8</th>\n",
              "      <td>78.121273</td>\n",
              "      <td>18.718843</td>\n",
              "      <td>-59.402431</td>\n",
              "    </tr>\n",
              "    <tr>\n",
              "      <th>Pennsylvania</th>\n",
              "      <th>2</th>\n",
              "      <td>79.016942</td>\n",
              "      <td>20.983058</td>\n",
              "      <td>-58.033884</td>\n",
              "    </tr>\n",
              "    <tr>\n",
              "      <th>Georgia</th>\n",
              "      <th>4</th>\n",
              "      <td>78.846920</td>\n",
              "      <td>21.153080</td>\n",
              "      <td>-57.693839</td>\n",
              "    </tr>\n",
              "    <tr>\n",
              "      <th rowspan=\"2\" valign=\"top\">Texas</th>\n",
              "      <th>18</th>\n",
              "      <td>75.246837</td>\n",
              "      <td>20.814617</td>\n",
              "      <td>-54.432220</td>\n",
              "    </tr>\n",
              "    <tr>\n",
              "      <th>33</th>\n",
              "      <td>76.163356</td>\n",
              "      <td>21.908341</td>\n",
              "      <td>-54.255016</td>\n",
              "    </tr>\n",
              "    <tr>\n",
              "      <th>Wisconsin</th>\n",
              "      <th>4</th>\n",
              "      <td>75.612168</td>\n",
              "      <td>21.638159</td>\n",
              "      <td>-53.974008</td>\n",
              "    </tr>\n",
              "    <tr>\n",
              "      <th>Virginia</th>\n",
              "      <th>8</th>\n",
              "      <td>76.101162</td>\n",
              "      <td>23.679592</td>\n",
              "      <td>-52.421570</td>\n",
              "    </tr>\n",
              "    <tr>\n",
              "      <th>Georgia</th>\n",
              "      <th>13</th>\n",
              "      <td>76.184380</td>\n",
              "      <td>23.815620</td>\n",
              "      <td>-52.368760</td>\n",
              "    </tr>\n",
              "    <tr>\n",
              "      <th>Texas</th>\n",
              "      <th>29</th>\n",
              "      <td>75.057450</td>\n",
              "      <td>23.914413</td>\n",
              "      <td>-51.143037</td>\n",
              "    </tr>\n",
              "    <tr>\n",
              "      <th>Ohio</th>\n",
              "      <th>3</th>\n",
              "      <td>73.608403</td>\n",
              "      <td>26.366463</td>\n",
              "      <td>-47.241940</td>\n",
              "    </tr>\n",
              "    <tr>\n",
              "      <th>Texas</th>\n",
              "      <th>35</th>\n",
              "      <td>71.252712</td>\n",
              "      <td>26.049251</td>\n",
              "      <td>-45.203461</td>\n",
              "    </tr>\n",
              "    <tr>\n",
              "      <th>Virginia</th>\n",
              "      <th>11</th>\n",
              "      <td>71.108191</td>\n",
              "      <td>26.933658</td>\n",
              "      <td>-44.174534</td>\n",
              "    </tr>\n",
              "    <tr>\n",
              "      <th>South Carolina</th>\n",
              "      <th>6</th>\n",
              "      <td>70.126869</td>\n",
              "      <td>28.232889</td>\n",
              "      <td>-41.893980</td>\n",
              "    </tr>\n",
              "    <tr>\n",
              "      <th>Texas</th>\n",
              "      <th>16</th>\n",
              "      <td>68.464518</td>\n",
              "      <td>27.029391</td>\n",
              "      <td>-41.435127</td>\n",
              "    </tr>\n",
              "    <tr>\n",
              "      <th>New Jersey</th>\n",
              "      <th>9</th>\n",
              "      <td>70.269839</td>\n",
              "      <td>28.866957</td>\n",
              "      <td>-41.402882</td>\n",
              "    </tr>\n",
              "    <tr>\n",
              "      <th>Michigan</th>\n",
              "      <th>12</th>\n",
              "      <td>68.081784</td>\n",
              "      <td>28.888972</td>\n",
              "      <td>-39.192813</td>\n",
              "    </tr>\n",
              "    <tr>\n",
              "      <th>New Jersey</th>\n",
              "      <th>12</th>\n",
              "      <td>68.681129</td>\n",
              "      <td>31.318871</td>\n",
              "      <td>-37.362259</td>\n",
              "    </tr>\n",
              "    <tr>\n",
              "      <th>Tennessee</th>\n",
              "      <th>5</th>\n",
              "      <td>67.845322</td>\n",
              "      <td>32.151627</td>\n",
              "      <td>-35.693695</td>\n",
              "    </tr>\n",
              "    <tr>\n",
              "      <th>Ohio</th>\n",
              "      <th>9</th>\n",
              "      <td>67.785218</td>\n",
              "      <td>32.194087</td>\n",
              "      <td>-35.591130</td>\n",
              "    </tr>\n",
              "    <tr>\n",
              "      <th>Nevada</th>\n",
              "      <th>1</th>\n",
              "      <td>66.167108</td>\n",
              "      <td>30.865763</td>\n",
              "      <td>-35.301345</td>\n",
              "    </tr>\n",
              "    <tr>\n",
              "      <th>Florida</th>\n",
              "      <th>5</th>\n",
              "      <td>66.781220</td>\n",
              "      <td>33.218780</td>\n",
              "      <td>-33.562439</td>\n",
              "    </tr>\n",
              "    <tr>\n",
              "      <th>New Mexico</th>\n",
              "      <th>3</th>\n",
              "      <td>63.375025</td>\n",
              "      <td>31.208324</td>\n",
              "      <td>-32.166701</td>\n",
              "    </tr>\n",
              "    <tr>\n",
              "      <th>New Jersey</th>\n",
              "      <th>1</th>\n",
              "      <td>64.394992</td>\n",
              "      <td>33.261584</td>\n",
              "      <td>-31.133408</td>\n",
              "    </tr>\n",
              "    <tr>\n",
              "      <th>Pennsylvania</th>\n",
              "      <th>5</th>\n",
              "      <td>65.188669</td>\n",
              "      <td>34.811331</td>\n",
              "      <td>-30.377337</td>\n",
              "    </tr>\n",
              "    <tr>\n",
              "      <th rowspan=\"2\" valign=\"top\">Indiana</th>\n",
              "      <th>1</th>\n",
              "      <td>65.091820</td>\n",
              "      <td>34.906549</td>\n",
              "      <td>-30.185271</td>\n",
              "    </tr>\n",
              "    <tr>\n",
              "      <th>7</th>\n",
              "      <td>64.862865</td>\n",
              "      <td>35.137135</td>\n",
              "      <td>-29.725730</td>\n",
              "    </tr>\n",
              "    <tr>\n",
              "      <th>Arizona</th>\n",
              "      <th>3</th>\n",
              "      <td>63.865462</td>\n",
              "      <td>36.134538</td>\n",
              "      <td>-27.730924</td>\n",
              "    </tr>\n",
              "    <tr>\n",
              "      <th>New Jersey</th>\n",
              "      <th>6</th>\n",
              "      <td>63.632541</td>\n",
              "      <td>36.367459</td>\n",
              "      <td>-27.265083</td>\n",
              "    </tr>\n",
              "    <tr>\n",
              "      <th>Pennsylvania</th>\n",
              "      <th>4</th>\n",
              "      <td>63.522438</td>\n",
              "      <td>36.477562</td>\n",
              "      <td>-27.044875</td>\n",
              "    </tr>\n",
              "    <tr>\n",
              "      <th>Virginia</th>\n",
              "      <th>4</th>\n",
              "      <td>62.577788</td>\n",
              "      <td>35.919481</td>\n",
              "      <td>-26.658307</td>\n",
              "    </tr>\n",
              "    <tr>\n",
              "      <th>Maine</th>\n",
              "      <th>1</th>\n",
              "      <td>58.819832</td>\n",
              "      <td>32.506074</td>\n",
              "      <td>-26.313758</td>\n",
              "    </tr>\n",
              "    <tr>\n",
              "      <th>Florida</th>\n",
              "      <th>22</th>\n",
              "      <td>62.023696</td>\n",
              "      <td>37.976304</td>\n",
              "      <td>-24.047393</td>\n",
              "    </tr>\n",
              "    <tr>\n",
              "      <th rowspan=\"2\" valign=\"top\">Michigan</th>\n",
              "      <th>5</th>\n",
              "      <td>59.513120</td>\n",
              "      <td>35.911842</td>\n",
              "      <td>-23.601278</td>\n",
              "    </tr>\n",
              "    <tr>\n",
              "      <th>9</th>\n",
              "      <td>59.670413</td>\n",
              "      <td>36.814387</td>\n",
              "      <td>-22.856027</td>\n",
              "    </tr>\n",
              "    <tr>\n",
              "      <th>New Mexico</th>\n",
              "      <th>1</th>\n",
              "      <td>59.132613</td>\n",
              "      <td>36.324560</td>\n",
              "      <td>-22.808053</td>\n",
              "    </tr>\n",
              "    <tr>\n",
              "      <th>Florida</th>\n",
              "      <th>23</th>\n",
              "      <td>58.477164</td>\n",
              "      <td>35.983442</td>\n",
              "      <td>-22.493722</td>\n",
              "    </tr>\n",
              "    <tr>\n",
              "      <th>Arizona</th>\n",
              "      <th>9</th>\n",
              "      <td>61.085571</td>\n",
              "      <td>38.914429</td>\n",
              "      <td>-22.171142</td>\n",
              "    </tr>\n",
              "    <tr>\n",
              "      <th>Ohio</th>\n",
              "      <th>13</th>\n",
              "      <td>60.994948</td>\n",
              "      <td>39.005052</td>\n",
              "      <td>-21.989895</td>\n",
              "    </tr>\n",
              "    <tr>\n",
              "      <th rowspan=\"2\" valign=\"top\">Texas</th>\n",
              "      <th>15</th>\n",
              "      <td>59.667358</td>\n",
              "      <td>38.750743</td>\n",
              "      <td>-20.916615</td>\n",
              "    </tr>\n",
              "    <tr>\n",
              "      <th>34</th>\n",
              "      <td>59.988956</td>\n",
              "      <td>40.011044</td>\n",
              "      <td>-19.977913</td>\n",
              "    </tr>\n",
              "    <tr>\n",
              "      <th>Wisconsin</th>\n",
              "      <th>3</th>\n",
              "      <td>59.649067</td>\n",
              "      <td>40.312519</td>\n",
              "      <td>-19.336548</td>\n",
              "    </tr>\n",
              "    <tr>\n",
              "      <th>Georgia</th>\n",
              "      <th>2</th>\n",
              "      <td>59.649345</td>\n",
              "      <td>40.350655</td>\n",
              "      <td>-19.298690</td>\n",
              "    </tr>\n",
              "    <tr>\n",
              "      <th>Pennsylvania</th>\n",
              "      <th>6</th>\n",
              "      <td>58.875916</td>\n",
              "      <td>41.124084</td>\n",
              "      <td>-17.751832</td>\n",
              "    </tr>\n",
              "    <tr>\n",
              "      <th rowspan=\"3\" valign=\"top\">Florida</th>\n",
              "      <th>9</th>\n",
              "      <td>58.021750</td>\n",
              "      <td>41.978250</td>\n",
              "      <td>-16.043500</td>\n",
              "    </tr>\n",
              "    <tr>\n",
              "      <th>7</th>\n",
              "      <td>57.691920</td>\n",
              "      <td>42.308080</td>\n",
              "      <td>-15.383840</td>\n",
              "    </tr>\n",
              "    <tr>\n",
              "      <th>13</th>\n",
              "      <td>57.644706</td>\n",
              "      <td>42.355294</td>\n",
              "      <td>-15.289411</td>\n",
              "    </tr>\n",
              "    <tr>\n",
              "      <th rowspan=\"2\" valign=\"top\">New Jersey</th>\n",
              "      <th>11</th>\n",
              "      <td>56.767231</td>\n",
              "      <td>42.130085</td>\n",
              "      <td>-14.637146</td>\n",
              "    </tr>\n",
              "    <tr>\n",
              "      <th>5</th>\n",
              "      <td>56.173983</td>\n",
              "      <td>42.493448</td>\n",
              "      <td>-13.680535</td>\n",
              "    </tr>\n",
              "    <tr>\n",
              "      <th>Pennsylvania</th>\n",
              "      <th>17</th>\n",
              "      <td>56.257314</td>\n",
              "      <td>43.742686</td>\n",
              "      <td>-12.514628</td>\n",
              "    </tr>\n",
              "    <tr>\n",
              "      <th>Virginia</th>\n",
              "      <th>10</th>\n",
              "      <td>56.106255</td>\n",
              "      <td>43.731155</td>\n",
              "      <td>-12.375100</td>\n",
              "    </tr>\n",
              "    <tr>\n",
              "      <th>Iowa</th>\n",
              "      <th>2</th>\n",
              "      <td>54.790309</td>\n",
              "      <td>42.595546</td>\n",
              "      <td>-12.194763</td>\n",
              "    </tr>\n",
              "    <tr>\n",
              "      <th>Pennsylvania</th>\n",
              "      <th>7</th>\n",
              "      <td>53.487983</td>\n",
              "      <td>43.469029</td>\n",
              "      <td>-10.018955</td>\n",
              "    </tr>\n",
              "    <tr>\n",
              "      <th>Kansas</th>\n",
              "      <th>3</th>\n",
              "      <td>53.571305</td>\n",
              "      <td>43.908753</td>\n",
              "      <td>-9.662552</td>\n",
              "    </tr>\n",
              "    <tr>\n",
              "      <th>Arizona</th>\n",
              "      <th>2</th>\n",
              "      <td>54.733607</td>\n",
              "      <td>45.242936</td>\n",
              "      <td>-9.490671</td>\n",
              "    </tr>\n",
              "    <tr>\n",
              "      <th>Pennsylvania</th>\n",
              "      <th>8</th>\n",
              "      <td>54.642054</td>\n",
              "      <td>45.357946</td>\n",
              "      <td>-9.284108</td>\n",
              "    </tr>\n",
              "    <tr>\n",
              "      <th rowspan=\"2\" valign=\"top\">Nevada</th>\n",
              "      <th>3</th>\n",
              "      <td>51.892944</td>\n",
              "      <td>42.830086</td>\n",
              "      <td>-9.062858</td>\n",
              "    </tr>\n",
              "    <tr>\n",
              "      <th>4</th>\n",
              "      <td>51.927891</td>\n",
              "      <td>43.747126</td>\n",
              "      <td>-8.180765</td>\n",
              "    </tr>\n",
              "    <tr>\n",
              "      <th>Arizona</th>\n",
              "      <th>1</th>\n",
              "      <td>53.831613</td>\n",
              "      <td>46.143959</td>\n",
              "      <td>-7.687653</td>\n",
              "    </tr>\n",
              "    <tr>\n",
              "      <th>New Jersey</th>\n",
              "      <th>2</th>\n",
              "      <td>52.904247</td>\n",
              "      <td>45.233257</td>\n",
              "      <td>-7.670990</td>\n",
              "    </tr>\n",
              "    <tr>\n",
              "      <th>Michigan</th>\n",
              "      <th>11</th>\n",
              "      <td>51.841403</td>\n",
              "      <td>45.158891</td>\n",
              "      <td>-6.682512</td>\n",
              "    </tr>\n",
              "    <tr>\n",
              "      <th>Texas</th>\n",
              "      <th>32</th>\n",
              "      <td>52.270155</td>\n",
              "      <td>45.751760</td>\n",
              "      <td>-6.518395</td>\n",
              "    </tr>\n",
              "    <tr>\n",
              "      <th>Florida</th>\n",
              "      <th>27</th>\n",
              "      <td>51.761776</td>\n",
              "      <td>45.761840</td>\n",
              "      <td>-5.999937</td>\n",
              "    </tr>\n",
              "    <tr>\n",
              "      <th>Texas</th>\n",
              "      <th>7</th>\n",
              "      <td>52.528109</td>\n",
              "      <td>47.471891</td>\n",
              "      <td>-5.056219</td>\n",
              "    </tr>\n",
              "    <tr>\n",
              "      <th>Iowa</th>\n",
              "      <th>1</th>\n",
              "      <td>50.963521</td>\n",
              "      <td>45.907319</td>\n",
              "      <td>-5.056202</td>\n",
              "    </tr>\n",
              "    <tr>\n",
              "      <th>New Jersey</th>\n",
              "      <th>7</th>\n",
              "      <td>51.739470</td>\n",
              "      <td>46.719981</td>\n",
              "      <td>-5.019489</td>\n",
              "    </tr>\n",
              "    <tr>\n",
              "      <th>Michigan</th>\n",
              "      <th>8</th>\n",
              "      <td>50.609936</td>\n",
              "      <td>46.775549</td>\n",
              "      <td>-3.834388</td>\n",
              "    </tr>\n",
              "    <tr>\n",
              "      <th>Virginia</th>\n",
              "      <th>2</th>\n",
              "      <td>51.050110</td>\n",
              "      <td>48.814192</td>\n",
              "      <td>-2.235918</td>\n",
              "    </tr>\n",
              "    <tr>\n",
              "      <th>Iowa</th>\n",
              "      <th>3</th>\n",
              "      <td>49.304263</td>\n",
              "      <td>47.140279</td>\n",
              "      <td>-2.163984</td>\n",
              "    </tr>\n",
              "    <tr>\n",
              "      <th>Virginia</th>\n",
              "      <th>7</th>\n",
              "      <td>50.336618</td>\n",
              "      <td>48.397241</td>\n",
              "      <td>-1.939377</td>\n",
              "    </tr>\n",
              "    <tr>\n",
              "      <th>New Mexico</th>\n",
              "      <th>2</th>\n",
              "      <td>50.933974</td>\n",
              "      <td>49.066026</td>\n",
              "      <td>-1.867949</td>\n",
              "    </tr>\n",
              "    <tr>\n",
              "      <th>Florida</th>\n",
              "      <th>26</th>\n",
              "      <td>50.874615</td>\n",
              "      <td>49.125385</td>\n",
              "      <td>-1.749230</td>\n",
              "    </tr>\n",
              "    <tr>\n",
              "      <th>Oklahoma</th>\n",
              "      <th>5</th>\n",
              "      <td>50.698443</td>\n",
              "      <td>49.301557</td>\n",
              "      <td>-1.396887</td>\n",
              "    </tr>\n",
              "    <tr>\n",
              "      <th>South Carolina</th>\n",
              "      <th>1</th>\n",
              "      <td>50.604837</td>\n",
              "      <td>49.219470</td>\n",
              "      <td>-1.385366</td>\n",
              "    </tr>\n",
              "    <tr>\n",
              "      <th>New Jersey</th>\n",
              "      <th>3</th>\n",
              "      <td>50.011568</td>\n",
              "      <td>48.716904</td>\n",
              "      <td>-1.294664</td>\n",
              "    </tr>\n",
              "    <tr>\n",
              "      <th>Maine</th>\n",
              "      <th>2</th>\n",
              "      <td>49.483067</td>\n",
              "      <td>48.450622</td>\n",
              "      <td>-1.032445</td>\n",
              "    </tr>\n",
              "    <tr>\n",
              "      <th>Georgia</th>\n",
              "      <th>6</th>\n",
              "      <td>50.514804</td>\n",
              "      <td>49.485196</td>\n",
              "      <td>-1.029608</td>\n",
              "    </tr>\n",
              "    <tr>\n",
              "      <th>Utah</th>\n",
              "      <th>4</th>\n",
              "      <td>50.121996</td>\n",
              "      <td>49.864263</td>\n",
              "      <td>-0.257733</td>\n",
              "    </tr>\n",
              "    <tr>\n",
              "      <th>Georgia</th>\n",
              "      <th>7</th>\n",
              "      <td>49.925296</td>\n",
              "      <td>50.074704</td>\n",
              "      <td>0.149408</td>\n",
              "    </tr>\n",
              "    <tr>\n",
              "      <th>Texas</th>\n",
              "      <th>23</th>\n",
              "      <td>48.726371</td>\n",
              "      <td>49.167178</td>\n",
              "      <td>0.440808</td>\n",
              "    </tr>\n",
              "    <tr>\n",
              "      <th>Kansas</th>\n",
              "      <th>2</th>\n",
              "      <td>46.794339</td>\n",
              "      <td>47.640241</td>\n",
              "      <td>0.845902</td>\n",
              "    </tr>\n",
              "    <tr>\n",
              "      <th>Nebraska</th>\n",
              "      <th>2</th>\n",
              "      <td>49.004970</td>\n",
              "      <td>50.995030</td>\n",
              "      <td>1.990060</td>\n",
              "    </tr>\n",
              "    <tr>\n",
              "      <th>Pennsylvania</th>\n",
              "      <th>1</th>\n",
              "      <td>48.740441</td>\n",
              "      <td>51.259559</td>\n",
              "      <td>2.519118</td>\n",
              "    </tr>\n",
              "    <tr>\n",
              "      <th>Texas</th>\n",
              "      <th>21</th>\n",
              "      <td>47.628083</td>\n",
              "      <td>50.239100</td>\n",
              "      <td>2.611017</td>\n",
              "    </tr>\n",
              "    <tr>\n",
              "      <th>Pennsylvania</th>\n",
              "      <th>10</th>\n",
              "      <td>48.677641</td>\n",
              "      <td>51.322359</td>\n",
              "      <td>2.644717</td>\n",
              "    </tr>\n",
              "    <tr>\n",
              "      <th rowspan=\"2\" valign=\"top\">Texas</th>\n",
              "      <th>31</th>\n",
              "      <td>47.677854</td>\n",
              "      <td>50.586174</td>\n",
              "      <td>2.908320</td>\n",
              "    </tr>\n",
              "    <tr>\n",
              "      <th>24</th>\n",
              "      <td>47.540791</td>\n",
              "      <td>50.610437</td>\n",
              "      <td>3.069646</td>\n",
              "    </tr>\n",
              "    <tr>\n",
              "      <th>Iowa</th>\n",
              "      <th>4</th>\n",
              "      <td>47.005756</td>\n",
              "      <td>50.335354</td>\n",
              "      <td>3.329598</td>\n",
              "    </tr>\n",
              "    <tr>\n",
              "      <th>Ohio</th>\n",
              "      <th>12</th>\n",
              "      <td>47.198131</td>\n",
              "      <td>51.420618</td>\n",
              "      <td>4.222487</td>\n",
              "    </tr>\n",
              "    <tr>\n",
              "      <th>Texas</th>\n",
              "      <th>10</th>\n",
              "      <td>46.790567</td>\n",
              "      <td>51.056600</td>\n",
              "      <td>4.266033</td>\n",
              "    </tr>\n",
              "    <tr>\n",
              "      <th>Pennsylvania</th>\n",
              "      <th>16</th>\n",
              "      <td>47.298358</td>\n",
              "      <td>51.581579</td>\n",
              "      <td>4.283221</td>\n",
              "    </tr>\n",
              "    <tr>\n",
              "      <th>Ohio</th>\n",
              "      <th>1</th>\n",
              "      <td>46.903158</td>\n",
              "      <td>51.320666</td>\n",
              "      <td>4.417508</td>\n",
              "    </tr>\n",
              "    <tr>\n",
              "      <th>Michigan</th>\n",
              "      <th>6</th>\n",
              "      <td>45.693468</td>\n",
              "      <td>50.244345</td>\n",
              "      <td>4.550876</td>\n",
              "    </tr>\n",
              "    <tr>\n",
              "      <th>Texas</th>\n",
              "      <th>22</th>\n",
              "      <td>46.452817</td>\n",
              "      <td>51.360939</td>\n",
              "      <td>4.908122</td>\n",
              "    </tr>\n",
              "    <tr>\n",
              "      <th>Florida</th>\n",
              "      <th>15</th>\n",
              "      <td>46.976171</td>\n",
              "      <td>53.016825</td>\n",
              "      <td>6.040654</td>\n",
              "    </tr>\n",
              "    <tr>\n",
              "      <th>Virginia</th>\n",
              "      <th>5</th>\n",
              "      <td>46.647755</td>\n",
              "      <td>53.176318</td>\n",
              "      <td>6.528563</td>\n",
              "    </tr>\n",
              "    <tr>\n",
              "      <th>Alaska</th>\n",
              "      <th>0</th>\n",
              "      <td>46.497097</td>\n",
              "      <td>53.081874</td>\n",
              "      <td>6.584776</td>\n",
              "    </tr>\n",
              "    <tr>\n",
              "      <th>Texas</th>\n",
              "      <th>2</th>\n",
              "      <td>45.556433</td>\n",
              "      <td>52.844430</td>\n",
              "      <td>7.287997</td>\n",
              "    </tr>\n",
              "    <tr>\n",
              "      <th>Michigan</th>\n",
              "      <th>7</th>\n",
              "      <td>46.204162</td>\n",
              "      <td>53.795838</td>\n",
              "      <td>7.591676</td>\n",
              "    </tr>\n",
              "    <tr>\n",
              "      <th>Texas</th>\n",
              "      <th>6</th>\n",
              "      <td>45.441763</td>\n",
              "      <td>53.101054</td>\n",
              "      <td>7.659290</td>\n",
              "    </tr>\n",
              "    <tr>\n",
              "      <th>Florida</th>\n",
              "      <th>18</th>\n",
              "      <td>45.698813</td>\n",
              "      <td>54.301187</td>\n",
              "      <td>8.602374</td>\n",
              "    </tr>\n",
              "    <tr>\n",
              "      <th>Texas</th>\n",
              "      <th>25</th>\n",
              "      <td>44.782025</td>\n",
              "      <td>53.528614</td>\n",
              "      <td>8.746589</td>\n",
              "    </tr>\n",
              "    <tr>\n",
              "      <th>Florida</th>\n",
              "      <th>16</th>\n",
              "      <td>45.438546</td>\n",
              "      <td>54.561454</td>\n",
              "      <td>9.122908</td>\n",
              "    </tr>\n",
              "    <tr>\n",
              "      <th>Indiana</th>\n",
              "      <th>2</th>\n",
              "      <td>45.158570</td>\n",
              "      <td>54.829634</td>\n",
              "      <td>9.671063</td>\n",
              "    </tr>\n",
              "    <tr>\n",
              "      <th>Texas</th>\n",
              "      <th>3</th>\n",
              "      <td>44.233323</td>\n",
              "      <td>54.244491</td>\n",
              "      <td>10.011168</td>\n",
              "    </tr>\n",
              "    <tr>\n",
              "      <th>Arizona</th>\n",
              "      <th>6</th>\n",
              "      <td>44.806965</td>\n",
              "      <td>55.193035</td>\n",
              "      <td>10.386071</td>\n",
              "    </tr>\n",
              "    <tr>\n",
              "      <th>Virginia</th>\n",
              "      <th>1</th>\n",
              "      <td>44.704472</td>\n",
              "      <td>55.178997</td>\n",
              "      <td>10.474524</td>\n",
              "    </tr>\n",
              "    <tr>\n",
              "      <th>Ohio</th>\n",
              "      <th>14</th>\n",
              "      <td>44.752048</td>\n",
              "      <td>55.247952</td>\n",
              "      <td>10.495904</td>\n",
              "    </tr>\n",
              "    <tr>\n",
              "      <th>Arizona</th>\n",
              "      <th>8</th>\n",
              "      <td>44.533978</td>\n",
              "      <td>55.461751</td>\n",
              "      <td>10.927773</td>\n",
              "    </tr>\n",
              "    <tr>\n",
              "      <th>Wisconsin</th>\n",
              "      <th>6</th>\n",
              "      <td>44.463723</td>\n",
              "      <td>55.469214</td>\n",
              "      <td>11.005491</td>\n",
              "    </tr>\n",
              "    <tr>\n",
              "      <th>Michigan</th>\n",
              "      <th>3</th>\n",
              "      <td>43.182403</td>\n",
              "      <td>54.420738</td>\n",
              "      <td>11.238334</td>\n",
              "    </tr>\n",
              "    <tr>\n",
              "      <th>Wisconsin</th>\n",
              "      <th>1</th>\n",
              "      <td>42.268925</td>\n",
              "      <td>54.559706</td>\n",
              "      <td>12.290781</td>\n",
              "    </tr>\n",
              "    <tr>\n",
              "      <th>New Jersey</th>\n",
              "      <th>4</th>\n",
              "      <td>43.066710</td>\n",
              "      <td>55.398712</td>\n",
              "      <td>12.332002</td>\n",
              "    </tr>\n",
              "    <tr>\n",
              "      <th>Michigan</th>\n",
              "      <th>2</th>\n",
              "      <td>42.968870</td>\n",
              "      <td>55.316028</td>\n",
              "      <td>12.347158</td>\n",
              "    </tr>\n",
              "    <tr>\n",
              "      <th>Florida</th>\n",
              "      <th>6</th>\n",
              "      <td>43.686029</td>\n",
              "      <td>56.313971</td>\n",
              "      <td>12.627941</td>\n",
              "    </tr>\n",
              "    <tr>\n",
              "      <th>Michigan</th>\n",
              "      <th>1</th>\n",
              "      <td>43.683402</td>\n",
              "      <td>56.316598</td>\n",
              "      <td>12.633197</td>\n",
              "    </tr>\n",
              "    <tr>\n",
              "      <th>Indiana</th>\n",
              "      <th>9</th>\n",
              "      <td>43.517676</td>\n",
              "      <td>56.482324</td>\n",
              "      <td>12.964649</td>\n",
              "    </tr>\n",
              "    <tr>\n",
              "      <th>Ohio</th>\n",
              "      <th>16</th>\n",
              "      <td>43.268827</td>\n",
              "      <td>56.731173</td>\n",
              "      <td>13.462347</td>\n",
              "    </tr>\n",
              "    <tr>\n",
              "      <th>Indiana</th>\n",
              "      <th>5</th>\n",
              "      <td>43.238318</td>\n",
              "      <td>56.761682</td>\n",
              "      <td>13.523364</td>\n",
              "    </tr>\n",
              "    <tr>\n",
              "      <th>Ohio</th>\n",
              "      <th>10</th>\n",
              "      <td>42.163308</td>\n",
              "      <td>55.924551</td>\n",
              "      <td>13.761243</td>\n",
              "    </tr>\n",
              "    <tr>\n",
              "      <th>South Carolina</th>\n",
              "      <th>2</th>\n",
              "      <td>42.466915</td>\n",
              "      <td>56.250510</td>\n",
              "      <td>13.783596</td>\n",
              "    </tr>\n",
              "    <tr>\n",
              "      <th>Florida</th>\n",
              "      <th>3</th>\n",
              "      <td>42.375757</td>\n",
              "      <td>57.624243</td>\n",
              "      <td>15.248486</td>\n",
              "    </tr>\n",
              "    <tr>\n",
              "      <th>Georgia</th>\n",
              "      <th>1</th>\n",
              "      <td>42.261342</td>\n",
              "      <td>57.738658</td>\n",
              "      <td>15.477316</td>\n",
              "    </tr>\n",
              "    <tr>\n",
              "      <th>Texas</th>\n",
              "      <th>17</th>\n",
              "      <td>41.318554</td>\n",
              "      <td>56.810799</td>\n",
              "      <td>15.492246</td>\n",
              "    </tr>\n",
              "    <tr>\n",
              "      <th>South Carolina</th>\n",
              "      <th>5</th>\n",
              "      <td>41.487414</td>\n",
              "      <td>57.026941</td>\n",
              "      <td>15.539527</td>\n",
              "    </tr>\n",
              "    <tr>\n",
              "      <th>Pennsylvania</th>\n",
              "      <th>14</th>\n",
              "      <td>42.094654</td>\n",
              "      <td>57.905346</td>\n",
              "      <td>15.810692</td>\n",
              "    </tr>\n",
              "    <tr>\n",
              "      <th>Ohio</th>\n",
              "      <th>2</th>\n",
              "      <td>41.197469</td>\n",
              "      <td>57.554866</td>\n",
              "      <td>16.357397</td>\n",
              "    </tr>\n",
              "    <tr>\n",
              "      <th>Nevada</th>\n",
              "      <th>2</th>\n",
              "      <td>41.769233</td>\n",
              "      <td>58.230767</td>\n",
              "      <td>16.461534</td>\n",
              "    </tr>\n",
              "    <tr>\n",
              "      <th>Utah</th>\n",
              "      <th>2</th>\n",
              "      <td>38.901438</td>\n",
              "      <td>56.097895</td>\n",
              "      <td>17.196457</td>\n",
              "    </tr>\n",
              "    <tr>\n",
              "      <th>Ohio</th>\n",
              "      <th>7</th>\n",
              "      <td>41.256383</td>\n",
              "      <td>58.743617</td>\n",
              "      <td>17.487234</td>\n",
              "    </tr>\n",
              "    <tr>\n",
              "      <th>Pennsylvania</th>\n",
              "      <th>11</th>\n",
              "      <td>41.023978</td>\n",
              "      <td>58.976022</td>\n",
              "      <td>17.952043</td>\n",
              "    </tr>\n",
              "    <tr>\n",
              "      <th>Florida</th>\n",
              "      <th>12</th>\n",
              "      <td>39.664634</td>\n",
              "      <td>58.093026</td>\n",
              "      <td>18.428391</td>\n",
              "    </tr>\n",
              "    <tr>\n",
              "      <th>Oklahoma</th>\n",
              "      <th>1</th>\n",
              "      <td>40.700554</td>\n",
              "      <td>59.299446</td>\n",
              "      <td>18.598892</td>\n",
              "    </tr>\n",
              "    <tr>\n",
              "      <th>Ohio</th>\n",
              "      <th>15</th>\n",
              "      <td>39.704147</td>\n",
              "      <td>58.333761</td>\n",
              "      <td>18.629613</td>\n",
              "    </tr>\n",
              "    <tr>\n",
              "      <th>Arizona</th>\n",
              "      <th>5</th>\n",
              "      <td>40.575410</td>\n",
              "      <td>59.424590</td>\n",
              "      <td>18.849181</td>\n",
              "    </tr>\n",
              "    <tr>\n",
              "      <th>Kansas</th>\n",
              "      <th>4</th>\n",
              "      <td>40.563593</td>\n",
              "      <td>59.436407</td>\n",
              "      <td>18.872815</td>\n",
              "    </tr>\n",
              "    <tr>\n",
              "      <th>Georgia</th>\n",
              "      <th>12</th>\n",
              "      <td>40.521939</td>\n",
              "      <td>59.478061</td>\n",
              "      <td>18.956122</td>\n",
              "    </tr>\n",
              "    <tr>\n",
              "      <th>South Carolina</th>\n",
              "      <th>7</th>\n",
              "      <td>40.309909</td>\n",
              "      <td>59.561101</td>\n",
              "      <td>19.251192</td>\n",
              "    </tr>\n",
              "    <tr>\n",
              "      <th>Virginia</th>\n",
              "      <th>6</th>\n",
              "      <td>40.206911</td>\n",
              "      <td>59.691091</td>\n",
              "      <td>19.484180</td>\n",
              "    </tr>\n",
              "    <tr>\n",
              "      <th>Pennsylvania</th>\n",
              "      <th>9</th>\n",
              "      <td>40.254372</td>\n",
              "      <td>59.745628</td>\n",
              "      <td>19.491256</td>\n",
              "    </tr>\n",
              "    <tr>\n",
              "      <th rowspan=\"2\" valign=\"top\">Texas</th>\n",
              "      <th>14</th>\n",
              "      <td>39.318120</td>\n",
              "      <td>59.243246</td>\n",
              "      <td>19.925126</td>\n",
              "    </tr>\n",
              "    <tr>\n",
              "      <th>26</th>\n",
              "      <td>39.019536</td>\n",
              "      <td>59.375370</td>\n",
              "      <td>20.355834</td>\n",
              "    </tr>\n",
              "    <tr>\n",
              "      <th>Nebraska</th>\n",
              "      <th>1</th>\n",
              "      <td>39.640772</td>\n",
              "      <td>60.359228</td>\n",
              "      <td>20.718457</td>\n",
              "    </tr>\n",
              "    <tr>\n",
              "      <th rowspan=\"2\" valign=\"top\">Florida</th>\n",
              "      <th>25</th>\n",
              "      <td>39.546618</td>\n",
              "      <td>60.453382</td>\n",
              "      <td>20.906763</td>\n",
              "    </tr>\n",
              "    <tr>\n",
              "      <th>8</th>\n",
              "      <td>39.501896</td>\n",
              "      <td>60.498104</td>\n",
              "      <td>20.996208</td>\n",
              "    </tr>\n",
              "    <tr>\n",
              "      <th>Idaho</th>\n",
              "      <th>2</th>\n",
              "      <td>39.329782</td>\n",
              "      <td>60.670218</td>\n",
              "      <td>21.340436</td>\n",
              "    </tr>\n",
              "    <tr>\n",
              "      <th>Wisconsin</th>\n",
              "      <th>7</th>\n",
              "      <td>38.504213</td>\n",
              "      <td>60.110581</td>\n",
              "      <td>21.606368</td>\n",
              "    </tr>\n",
              "    <tr>\n",
              "      <th rowspan=\"2\" valign=\"top\">Alabama</th>\n",
              "      <th>5</th>\n",
              "      <td>38.894707</td>\n",
              "      <td>61.020129</td>\n",
              "      <td>22.125422</td>\n",
              "    </tr>\n",
              "    <tr>\n",
              "      <th>2</th>\n",
              "      <td>38.425938</td>\n",
              "      <td>61.388410</td>\n",
              "      <td>22.962472</td>\n",
              "    </tr>\n",
              "    <tr>\n",
              "      <th>South Carolina</th>\n",
              "      <th>4</th>\n",
              "      <td>36.557491</td>\n",
              "      <td>59.569994</td>\n",
              "      <td>23.012503</td>\n",
              "    </tr>\n",
              "    <tr>\n",
              "      <th>Georgia</th>\n",
              "      <th>11</th>\n",
              "      <td>38.208604</td>\n",
              "      <td>61.791396</td>\n",
              "      <td>23.582791</td>\n",
              "    </tr>\n",
              "    <tr>\n",
              "      <th>Texas</th>\n",
              "      <th>27</th>\n",
              "      <td>36.606226</td>\n",
              "      <td>60.320797</td>\n",
              "      <td>23.714571</td>\n",
              "    </tr>\n",
              "    <tr>\n",
              "      <th>Wisconsin</th>\n",
              "      <th>5</th>\n",
              "      <td>37.987801</td>\n",
              "      <td>61.934239</td>\n",
              "      <td>23.946438</td>\n",
              "    </tr>\n",
              "    <tr>\n",
              "      <th>South Dakota</th>\n",
              "      <th>0</th>\n",
              "      <td>36.013843</td>\n",
              "      <td>60.346796</td>\n",
              "      <td>24.332953</td>\n",
              "    </tr>\n",
              "    <tr>\n",
              "      <th rowspan=\"2\" valign=\"top\">Florida</th>\n",
              "      <th>17</th>\n",
              "      <td>37.741208</td>\n",
              "      <td>62.258792</td>\n",
              "      <td>24.517583</td>\n",
              "    </tr>\n",
              "    <tr>\n",
              "      <th>19</th>\n",
              "      <td>37.721837</td>\n",
              "      <td>62.267562</td>\n",
              "      <td>24.545725</td>\n",
              "    </tr>\n",
              "    <tr>\n",
              "      <th>Texas</th>\n",
              "      <th>5</th>\n",
              "      <td>37.548149</td>\n",
              "      <td>62.344934</td>\n",
              "      <td>24.796785</td>\n",
              "    </tr>\n",
              "    <tr>\n",
              "      <th rowspan=\"2\" valign=\"top\">Michigan</th>\n",
              "      <th>4</th>\n",
              "      <td>37.375899</td>\n",
              "      <td>62.624101</td>\n",
              "      <td>25.248202</td>\n",
              "    </tr>\n",
              "    <tr>\n",
              "      <th>10</th>\n",
              "      <td>34.996238</td>\n",
              "      <td>60.319932</td>\n",
              "      <td>25.323694</td>\n",
              "    </tr>\n",
              "    <tr>\n",
              "      <th>Mississippi</th>\n",
              "      <th>3</th>\n",
              "      <td>36.716536</td>\n",
              "      <td>62.301620</td>\n",
              "      <td>25.585083</td>\n",
              "    </tr>\n",
              "    <tr>\n",
              "      <th>Georgia</th>\n",
              "      <th>10</th>\n",
              "      <td>37.108032</td>\n",
              "      <td>62.891968</td>\n",
              "      <td>25.783936</td>\n",
              "    </tr>\n",
              "    <tr>\n",
              "      <th>Alabama</th>\n",
              "      <th>1</th>\n",
              "      <td>36.776483</td>\n",
              "      <td>63.156333</td>\n",
              "      <td>26.379850</td>\n",
              "    </tr>\n",
              "    <tr>\n",
              "      <th>Ohio</th>\n",
              "      <th>5</th>\n",
              "      <td>35.137174</td>\n",
              "      <td>62.256141</td>\n",
              "      <td>27.118967</td>\n",
              "    </tr>\n",
              "    <tr>\n",
              "      <th>Wisconsin</th>\n",
              "      <th>8</th>\n",
              "      <td>36.275679</td>\n",
              "      <td>63.694209</td>\n",
              "      <td>27.418531</td>\n",
              "    </tr>\n",
              "    <tr>\n",
              "      <th>Alabama</th>\n",
              "      <th>3</th>\n",
              "      <td>36.218442</td>\n",
              "      <td>63.717310</td>\n",
              "      <td>27.498868</td>\n",
              "    </tr>\n",
              "    <tr>\n",
              "      <th rowspan=\"2\" valign=\"top\">Indiana</th>\n",
              "      <th>4</th>\n",
              "      <td>35.939975</td>\n",
              "      <td>64.060025</td>\n",
              "      <td>28.120051</td>\n",
              "    </tr>\n",
              "    <tr>\n",
              "      <th>8</th>\n",
              "      <td>35.570283</td>\n",
              "      <td>64.429717</td>\n",
              "      <td>28.859434</td>\n",
              "    </tr>\n",
              "    <tr>\n",
              "      <th>Tennessee</th>\n",
              "      <th>3</th>\n",
              "      <td>34.476431</td>\n",
              "      <td>63.683600</td>\n",
              "      <td>29.207169</td>\n",
              "    </tr>\n",
              "    <tr>\n",
              "      <th>Indiana</th>\n",
              "      <th>3</th>\n",
              "      <td>35.273706</td>\n",
              "      <td>64.726294</td>\n",
              "      <td>29.452588</td>\n",
              "    </tr>\n",
              "    <tr>\n",
              "      <th>Tennessee</th>\n",
              "      <th>4</th>\n",
              "      <td>33.583422</td>\n",
              "      <td>63.378088</td>\n",
              "      <td>29.794666</td>\n",
              "    </tr>\n",
              "    <tr>\n",
              "      <th>Oklahoma</th>\n",
              "      <th>4</th>\n",
              "      <td>32.998927</td>\n",
              "      <td>63.061300</td>\n",
              "      <td>30.062374</td>\n",
              "    </tr>\n",
              "    <tr>\n",
              "      <th>Florida</th>\n",
              "      <th>11</th>\n",
              "      <td>34.843785</td>\n",
              "      <td>65.140433</td>\n",
              "      <td>30.296648</td>\n",
              "    </tr>\n",
              "    <tr>\n",
              "      <th>Texas</th>\n",
              "      <th>12</th>\n",
              "      <td>33.890894</td>\n",
              "      <td>64.269193</td>\n",
              "      <td>30.378299</td>\n",
              "    </tr>\n",
              "    <tr>\n",
              "      <th>Virginia</th>\n",
              "      <th>9</th>\n",
              "      <td>34.753016</td>\n",
              "      <td>65.160337</td>\n",
              "      <td>30.407320</td>\n",
              "    </tr>\n",
              "    <tr>\n",
              "      <th>Ohio</th>\n",
              "      <th>4</th>\n",
              "      <td>34.735922</td>\n",
              "      <td>65.264078</td>\n",
              "      <td>30.528156</td>\n",
              "    </tr>\n",
              "    <tr>\n",
              "      <th>Louisiana</th>\n",
              "      <th>4</th>\n",
              "      <td>33.629975</td>\n",
              "      <td>64.243425</td>\n",
              "      <td>30.613449</td>\n",
              "    </tr>\n",
              "    <tr>\n",
              "      <th>Indiana</th>\n",
              "      <th>6</th>\n",
              "      <td>32.859519</td>\n",
              "      <td>63.816056</td>\n",
              "      <td>30.956538</td>\n",
              "    </tr>\n",
              "    <tr>\n",
              "      <th>Georgia</th>\n",
              "      <th>3</th>\n",
              "      <td>34.473697</td>\n",
              "      <td>65.526303</td>\n",
              "      <td>31.052606</td>\n",
              "    </tr>\n",
              "    <tr>\n",
              "      <th>Idaho</th>\n",
              "      <th>1</th>\n",
              "      <td>30.762151</td>\n",
              "      <td>62.754190</td>\n",
              "      <td>31.992040</td>\n",
              "    </tr>\n",
              "    <tr>\n",
              "      <th>Pennsylvania</th>\n",
              "      <th>12</th>\n",
              "      <td>33.962489</td>\n",
              "      <td>66.037511</td>\n",
              "      <td>32.075023</td>\n",
              "    </tr>\n",
              "    <tr>\n",
              "      <th>Florida</th>\n",
              "      <th>4</th>\n",
              "      <td>32.354446</td>\n",
              "      <td>65.159515</td>\n",
              "      <td>32.805070</td>\n",
              "    </tr>\n",
              "    <tr>\n",
              "      <th>Tennessee</th>\n",
              "      <th>2</th>\n",
              "      <td>33.062479</td>\n",
              "      <td>65.941847</td>\n",
              "      <td>32.879367</td>\n",
              "    </tr>\n",
              "    <tr>\n",
              "      <th>Ohio</th>\n",
              "      <th>8</th>\n",
              "      <td>33.423964</td>\n",
              "      <td>66.576036</td>\n",
              "      <td>33.152072</td>\n",
              "    </tr>\n",
              "    <tr>\n",
              "      <th>Wyoming</th>\n",
              "      <th>0</th>\n",
              "      <td>29.766205</td>\n",
              "      <td>63.585679</td>\n",
              "      <td>33.819474</td>\n",
              "    </tr>\n",
              "    <tr>\n",
              "      <th>Florida</th>\n",
              "      <th>1</th>\n",
              "      <td>32.941363</td>\n",
              "      <td>67.058637</td>\n",
              "      <td>34.117275</td>\n",
              "    </tr>\n",
              "    <tr>\n",
              "      <th>Mississippi</th>\n",
              "      <th>1</th>\n",
              "      <td>32.386553</td>\n",
              "      <td>66.905264</td>\n",
              "      <td>34.518711</td>\n",
              "    </tr>\n",
              "    <tr>\n",
              "      <th>Tennessee</th>\n",
              "      <th>7</th>\n",
              "      <td>32.101469</td>\n",
              "      <td>66.856013</td>\n",
              "      <td>34.754544</td>\n",
              "    </tr>\n",
              "    <tr>\n",
              "      <th>Florida</th>\n",
              "      <th>2</th>\n",
              "      <td>32.558667</td>\n",
              "      <td>67.441333</td>\n",
              "      <td>34.882667</td>\n",
              "    </tr>\n",
              "    <tr>\n",
              "      <th>Oklahoma</th>\n",
              "      <th>2</th>\n",
              "      <td>30.102036</td>\n",
              "      <td>65.023009</td>\n",
              "      <td>34.920973</td>\n",
              "    </tr>\n",
              "    <tr>\n",
              "      <th>Pennsylvania</th>\n",
              "      <th>15</th>\n",
              "      <td>32.157637</td>\n",
              "      <td>67.842363</td>\n",
              "      <td>35.684726</td>\n",
              "    </tr>\n",
              "    <tr>\n",
              "      <th>Kansas</th>\n",
              "      <th>1</th>\n",
              "      <td>31.854523</td>\n",
              "      <td>68.145477</td>\n",
              "      <td>36.290954</td>\n",
              "    </tr>\n",
              "    <tr>\n",
              "      <th>Louisiana</th>\n",
              "      <th>5</th>\n",
              "      <td>29.970618</td>\n",
              "      <td>66.541934</td>\n",
              "      <td>36.571316</td>\n",
              "    </tr>\n",
              "    <tr>\n",
              "      <th>Utah</th>\n",
              "      <th>1</th>\n",
              "      <td>24.891776</td>\n",
              "      <td>61.608993</td>\n",
              "      <td>36.717217</td>\n",
              "    </tr>\n",
              "    <tr>\n",
              "      <th>South Carolina</th>\n",
              "      <th>3</th>\n",
              "      <td>30.965854</td>\n",
              "      <td>67.787484</td>\n",
              "      <td>36.821630</td>\n",
              "    </tr>\n",
              "    <tr>\n",
              "      <th>Mississippi</th>\n",
              "      <th>4</th>\n",
              "      <td>30.745267</td>\n",
              "      <td>68.221354</td>\n",
              "      <td>37.476087</td>\n",
              "    </tr>\n",
              "    <tr>\n",
              "      <th>Tennessee</th>\n",
              "      <th>8</th>\n",
              "      <td>30.101270</td>\n",
              "      <td>67.659909</td>\n",
              "      <td>37.558638</td>\n",
              "    </tr>\n",
              "    <tr>\n",
              "      <th>Arizona</th>\n",
              "      <th>4</th>\n",
              "      <td>30.509141</td>\n",
              "      <td>68.165394</td>\n",
              "      <td>37.656253</td>\n",
              "    </tr>\n",
              "    <tr>\n",
              "      <th>Louisiana</th>\n",
              "      <th>3</th>\n",
              "      <td>30.378177</td>\n",
              "      <td>68.415446</td>\n",
              "      <td>38.037269</td>\n",
              "    </tr>\n",
              "    <tr>\n",
              "      <th>Alabama</th>\n",
              "      <th>6</th>\n",
              "      <td>30.770889</td>\n",
              "      <td>69.178092</td>\n",
              "      <td>38.407203</td>\n",
              "    </tr>\n",
              "    <tr>\n",
              "      <th>Ohio</th>\n",
              "      <th>6</th>\n",
              "      <td>30.749128</td>\n",
              "      <td>69.250872</td>\n",
              "      <td>38.501744</td>\n",
              "    </tr>\n",
              "    <tr>\n",
              "      <th>Utah</th>\n",
              "      <th>3</th>\n",
              "      <td>27.306863</td>\n",
              "      <td>67.549004</td>\n",
              "      <td>40.242140</td>\n",
              "    </tr>\n",
              "    <tr>\n",
              "      <th>Louisiana</th>\n",
              "      <th>6</th>\n",
              "      <td>28.569407</td>\n",
              "      <td>69.473233</td>\n",
              "      <td>40.903826</td>\n",
              "    </tr>\n",
              "    <tr>\n",
              "      <th>Pennsylvania</th>\n",
              "      <th>13</th>\n",
              "      <td>29.507711</td>\n",
              "      <td>70.492289</td>\n",
              "      <td>40.984577</td>\n",
              "    </tr>\n",
              "    <tr>\n",
              "      <th>Tennessee</th>\n",
              "      <th>6</th>\n",
              "      <td>28.290585</td>\n",
              "      <td>69.474150</td>\n",
              "      <td>41.183565</td>\n",
              "    </tr>\n",
              "    <tr>\n",
              "      <th>Louisiana</th>\n",
              "      <th>1</th>\n",
              "      <td>26.555648</td>\n",
              "      <td>71.495405</td>\n",
              "      <td>44.939757</td>\n",
              "    </tr>\n",
              "    <tr>\n",
              "      <th rowspan=\"2\" valign=\"top\">Texas</th>\n",
              "      <th>36</th>\n",
              "      <td>27.441475</td>\n",
              "      <td>72.558525</td>\n",
              "      <td>45.117050</td>\n",
              "    </tr>\n",
              "    <tr>\n",
              "      <th>1</th>\n",
              "      <td>26.324768</td>\n",
              "      <td>72.260657</td>\n",
              "      <td>45.935889</td>\n",
              "    </tr>\n",
              "    <tr>\n",
              "      <th>Oklahoma</th>\n",
              "      <th>3</th>\n",
              "      <td>26.126076</td>\n",
              "      <td>73.873924</td>\n",
              "      <td>47.747848</td>\n",
              "    </tr>\n",
              "    <tr>\n",
              "      <th rowspan=\"3\" valign=\"top\">Texas</th>\n",
              "      <th>8</th>\n",
              "      <td>24.867299</td>\n",
              "      <td>73.441081</td>\n",
              "      <td>48.573782</td>\n",
              "    </tr>\n",
              "    <tr>\n",
              "      <th>19</th>\n",
              "      <td>24.773622</td>\n",
              "      <td>75.226378</td>\n",
              "      <td>50.452756</td>\n",
              "    </tr>\n",
              "    <tr>\n",
              "      <th>4</th>\n",
              "      <td>23.029549</td>\n",
              "      <td>75.695400</td>\n",
              "      <td>52.665851</td>\n",
              "    </tr>\n",
              "    <tr>\n",
              "      <th>Georgia</th>\n",
              "      <th>14</th>\n",
              "      <td>23.498198</td>\n",
              "      <td>76.501802</td>\n",
              "      <td>53.003604</td>\n",
              "    </tr>\n",
              "    <tr>\n",
              "      <th>Nebraska</th>\n",
              "      <th>3</th>\n",
              "      <td>23.278513</td>\n",
              "      <td>76.721487</td>\n",
              "      <td>53.442973</td>\n",
              "    </tr>\n",
              "    <tr>\n",
              "      <th>Tennessee</th>\n",
              "      <th>1</th>\n",
              "      <td>21.017291</td>\n",
              "      <td>77.061467</td>\n",
              "      <td>56.044177</td>\n",
              "    </tr>\n",
              "    <tr>\n",
              "      <th>Georgia</th>\n",
              "      <th>9</th>\n",
              "      <td>20.494527</td>\n",
              "      <td>79.505473</td>\n",
              "      <td>59.010946</td>\n",
              "    </tr>\n",
              "    <tr>\n",
              "      <th>Alabama</th>\n",
              "      <th>4</th>\n",
              "      <td>20.129108</td>\n",
              "      <td>79.774775</td>\n",
              "      <td>59.645667</td>\n",
              "    </tr>\n",
              "    <tr>\n",
              "      <th>North Dakota</th>\n",
              "      <th>0</th>\n",
              "      <td>0.000000</td>\n",
              "      <td>60.201784</td>\n",
              "      <td>60.201784</td>\n",
              "    </tr>\n",
              "    <tr>\n",
              "      <th rowspan=\"2\" valign=\"top\">Texas</th>\n",
              "      <th>11</th>\n",
              "      <td>18.437042</td>\n",
              "      <td>80.136766</td>\n",
              "      <td>61.699724</td>\n",
              "    </tr>\n",
              "    <tr>\n",
              "      <th>13</th>\n",
              "      <td>16.925007</td>\n",
              "      <td>81.543286</td>\n",
              "      <td>64.618279</td>\n",
              "    </tr>\n",
              "    <tr>\n",
              "      <th>Georgia</th>\n",
              "      <th>8</th>\n",
              "      <td>0.000000</td>\n",
              "      <td>100.000000</td>\n",
              "      <td>100.000000</td>\n",
              "    </tr>\n",
              "  </tbody>\n",
              "</table>\n",
              "</div>"
            ],
            "text/plain": [
              "                                 dem_pct     rep_pct  rep_margin\n",
              "year state          district                                    \n",
              "2018 Florida        24        100.000000    0.000000 -100.000000\n",
              "                    14        100.000000    0.000000 -100.000000\n",
              "                    10        100.000000    0.000000 -100.000000\n",
              "     Georgia        5         100.000000    0.000000 -100.000000\n",
              "     Florida        21        100.000000    0.000000 -100.000000\n",
              "     Pennsylvania   18        100.000000    0.000000 -100.000000\n",
              "     Florida        20         99.918649    0.000000  -99.918649\n",
              "     Alabama        7          97.804539    0.000000  -97.804539\n",
              "     Wisconsin      2          97.422273    0.000000  -97.422273\n",
              "     Virginia       3          91.224130    0.000000  -91.224130\n",
              "     Texas          30         91.052224    0.000000  -91.052224\n",
              "                    9          89.055627    0.000000  -89.055627\n",
              "     Pennsylvania   3          93.380780    6.619220  -86.761559\n",
              "     Arizona        7          85.606319    0.000000  -85.606319\n",
              "     Texas          28         84.390847    0.000000  -84.390847\n",
              "     Michigan       13         84.236293    0.000000  -84.236293\n",
              "     Texas          20         80.853439    0.000000  -80.853439\n",
              "     Louisiana      2          80.591740    0.000000  -80.591740\n",
              "     New Jersey     10         87.556892   10.087480  -77.469412\n",
              "     Mississippi    2          71.786845    0.000000  -71.786845\n",
              "     Ohio           11         82.238091   17.747546  -64.490545\n",
              "     Michigan       14         80.882586   17.320770  -63.561816\n",
              "     Tennessee      9          79.976967   19.231744  -60.745223\n",
              "     New Jersey     8          78.121273   18.718843  -59.402431\n",
              "     Pennsylvania   2          79.016942   20.983058  -58.033884\n",
              "     Georgia        4          78.846920   21.153080  -57.693839\n",
              "     Texas          18         75.246837   20.814617  -54.432220\n",
              "                    33         76.163356   21.908341  -54.255016\n",
              "     Wisconsin      4          75.612168   21.638159  -53.974008\n",
              "     Virginia       8          76.101162   23.679592  -52.421570\n",
              "     Georgia        13         76.184380   23.815620  -52.368760\n",
              "     Texas          29         75.057450   23.914413  -51.143037\n",
              "     Ohio           3          73.608403   26.366463  -47.241940\n",
              "     Texas          35         71.252712   26.049251  -45.203461\n",
              "     Virginia       11         71.108191   26.933658  -44.174534\n",
              "     South Carolina 6          70.126869   28.232889  -41.893980\n",
              "     Texas          16         68.464518   27.029391  -41.435127\n",
              "     New Jersey     9          70.269839   28.866957  -41.402882\n",
              "     Michigan       12         68.081784   28.888972  -39.192813\n",
              "     New Jersey     12         68.681129   31.318871  -37.362259\n",
              "     Tennessee      5          67.845322   32.151627  -35.693695\n",
              "     Ohio           9          67.785218   32.194087  -35.591130\n",
              "     Nevada         1          66.167108   30.865763  -35.301345\n",
              "     Florida        5          66.781220   33.218780  -33.562439\n",
              "     New Mexico     3          63.375025   31.208324  -32.166701\n",
              "     New Jersey     1          64.394992   33.261584  -31.133408\n",
              "     Pennsylvania   5          65.188669   34.811331  -30.377337\n",
              "     Indiana        1          65.091820   34.906549  -30.185271\n",
              "                    7          64.862865   35.137135  -29.725730\n",
              "     Arizona        3          63.865462   36.134538  -27.730924\n",
              "     New Jersey     6          63.632541   36.367459  -27.265083\n",
              "     Pennsylvania   4          63.522438   36.477562  -27.044875\n",
              "     Virginia       4          62.577788   35.919481  -26.658307\n",
              "     Maine          1          58.819832   32.506074  -26.313758\n",
              "     Florida        22         62.023696   37.976304  -24.047393\n",
              "     Michigan       5          59.513120   35.911842  -23.601278\n",
              "                    9          59.670413   36.814387  -22.856027\n",
              "     New Mexico     1          59.132613   36.324560  -22.808053\n",
              "     Florida        23         58.477164   35.983442  -22.493722\n",
              "     Arizona        9          61.085571   38.914429  -22.171142\n",
              "     Ohio           13         60.994948   39.005052  -21.989895\n",
              "     Texas          15         59.667358   38.750743  -20.916615\n",
              "                    34         59.988956   40.011044  -19.977913\n",
              "     Wisconsin      3          59.649067   40.312519  -19.336548\n",
              "     Georgia        2          59.649345   40.350655  -19.298690\n",
              "     Pennsylvania   6          58.875916   41.124084  -17.751832\n",
              "     Florida        9          58.021750   41.978250  -16.043500\n",
              "                    7          57.691920   42.308080  -15.383840\n",
              "                    13         57.644706   42.355294  -15.289411\n",
              "     New Jersey     11         56.767231   42.130085  -14.637146\n",
              "                    5          56.173983   42.493448  -13.680535\n",
              "     Pennsylvania   17         56.257314   43.742686  -12.514628\n",
              "     Virginia       10         56.106255   43.731155  -12.375100\n",
              "     Iowa           2          54.790309   42.595546  -12.194763\n",
              "     Pennsylvania   7          53.487983   43.469029  -10.018955\n",
              "     Kansas         3          53.571305   43.908753   -9.662552\n",
              "     Arizona        2          54.733607   45.242936   -9.490671\n",
              "     Pennsylvania   8          54.642054   45.357946   -9.284108\n",
              "     Nevada         3          51.892944   42.830086   -9.062858\n",
              "                    4          51.927891   43.747126   -8.180765\n",
              "     Arizona        1          53.831613   46.143959   -7.687653\n",
              "     New Jersey     2          52.904247   45.233257   -7.670990\n",
              "     Michigan       11         51.841403   45.158891   -6.682512\n",
              "     Texas          32         52.270155   45.751760   -6.518395\n",
              "     Florida        27         51.761776   45.761840   -5.999937\n",
              "     Texas          7          52.528109   47.471891   -5.056219\n",
              "     Iowa           1          50.963521   45.907319   -5.056202\n",
              "     New Jersey     7          51.739470   46.719981   -5.019489\n",
              "     Michigan       8          50.609936   46.775549   -3.834388\n",
              "     Virginia       2          51.050110   48.814192   -2.235918\n",
              "     Iowa           3          49.304263   47.140279   -2.163984\n",
              "     Virginia       7          50.336618   48.397241   -1.939377\n",
              "     New Mexico     2          50.933974   49.066026   -1.867949\n",
              "     Florida        26         50.874615   49.125385   -1.749230\n",
              "     Oklahoma       5          50.698443   49.301557   -1.396887\n",
              "     South Carolina 1          50.604837   49.219470   -1.385366\n",
              "     New Jersey     3          50.011568   48.716904   -1.294664\n",
              "     Maine          2          49.483067   48.450622   -1.032445\n",
              "     Georgia        6          50.514804   49.485196   -1.029608\n",
              "     Utah           4          50.121996   49.864263   -0.257733\n",
              "     Georgia        7          49.925296   50.074704    0.149408\n",
              "     Texas          23         48.726371   49.167178    0.440808\n",
              "     Kansas         2          46.794339   47.640241    0.845902\n",
              "     Nebraska       2          49.004970   50.995030    1.990060\n",
              "     Pennsylvania   1          48.740441   51.259559    2.519118\n",
              "     Texas          21         47.628083   50.239100    2.611017\n",
              "     Pennsylvania   10         48.677641   51.322359    2.644717\n",
              "     Texas          31         47.677854   50.586174    2.908320\n",
              "                    24         47.540791   50.610437    3.069646\n",
              "     Iowa           4          47.005756   50.335354    3.329598\n",
              "     Ohio           12         47.198131   51.420618    4.222487\n",
              "     Texas          10         46.790567   51.056600    4.266033\n",
              "     Pennsylvania   16         47.298358   51.581579    4.283221\n",
              "     Ohio           1          46.903158   51.320666    4.417508\n",
              "     Michigan       6          45.693468   50.244345    4.550876\n",
              "     Texas          22         46.452817   51.360939    4.908122\n",
              "     Florida        15         46.976171   53.016825    6.040654\n",
              "     Virginia       5          46.647755   53.176318    6.528563\n",
              "     Alaska         0          46.497097   53.081874    6.584776\n",
              "     Texas          2          45.556433   52.844430    7.287997\n",
              "     Michigan       7          46.204162   53.795838    7.591676\n",
              "     Texas          6          45.441763   53.101054    7.659290\n",
              "     Florida        18         45.698813   54.301187    8.602374\n",
              "     Texas          25         44.782025   53.528614    8.746589\n",
              "     Florida        16         45.438546   54.561454    9.122908\n",
              "     Indiana        2          45.158570   54.829634    9.671063\n",
              "     Texas          3          44.233323   54.244491   10.011168\n",
              "     Arizona        6          44.806965   55.193035   10.386071\n",
              "     Virginia       1          44.704472   55.178997   10.474524\n",
              "     Ohio           14         44.752048   55.247952   10.495904\n",
              "     Arizona        8          44.533978   55.461751   10.927773\n",
              "     Wisconsin      6          44.463723   55.469214   11.005491\n",
              "     Michigan       3          43.182403   54.420738   11.238334\n",
              "     Wisconsin      1          42.268925   54.559706   12.290781\n",
              "     New Jersey     4          43.066710   55.398712   12.332002\n",
              "     Michigan       2          42.968870   55.316028   12.347158\n",
              "     Florida        6          43.686029   56.313971   12.627941\n",
              "     Michigan       1          43.683402   56.316598   12.633197\n",
              "     Indiana        9          43.517676   56.482324   12.964649\n",
              "     Ohio           16         43.268827   56.731173   13.462347\n",
              "     Indiana        5          43.238318   56.761682   13.523364\n",
              "     Ohio           10         42.163308   55.924551   13.761243\n",
              "     South Carolina 2          42.466915   56.250510   13.783596\n",
              "     Florida        3          42.375757   57.624243   15.248486\n",
              "     Georgia        1          42.261342   57.738658   15.477316\n",
              "     Texas          17         41.318554   56.810799   15.492246\n",
              "     South Carolina 5          41.487414   57.026941   15.539527\n",
              "     Pennsylvania   14         42.094654   57.905346   15.810692\n",
              "     Ohio           2          41.197469   57.554866   16.357397\n",
              "     Nevada         2          41.769233   58.230767   16.461534\n",
              "     Utah           2          38.901438   56.097895   17.196457\n",
              "     Ohio           7          41.256383   58.743617   17.487234\n",
              "     Pennsylvania   11         41.023978   58.976022   17.952043\n",
              "     Florida        12         39.664634   58.093026   18.428391\n",
              "     Oklahoma       1          40.700554   59.299446   18.598892\n",
              "     Ohio           15         39.704147   58.333761   18.629613\n",
              "     Arizona        5          40.575410   59.424590   18.849181\n",
              "     Kansas         4          40.563593   59.436407   18.872815\n",
              "     Georgia        12         40.521939   59.478061   18.956122\n",
              "     South Carolina 7          40.309909   59.561101   19.251192\n",
              "     Virginia       6          40.206911   59.691091   19.484180\n",
              "     Pennsylvania   9          40.254372   59.745628   19.491256\n",
              "     Texas          14         39.318120   59.243246   19.925126\n",
              "                    26         39.019536   59.375370   20.355834\n",
              "     Nebraska       1          39.640772   60.359228   20.718457\n",
              "     Florida        25         39.546618   60.453382   20.906763\n",
              "                    8          39.501896   60.498104   20.996208\n",
              "     Idaho          2          39.329782   60.670218   21.340436\n",
              "     Wisconsin      7          38.504213   60.110581   21.606368\n",
              "     Alabama        5          38.894707   61.020129   22.125422\n",
              "                    2          38.425938   61.388410   22.962472\n",
              "     South Carolina 4          36.557491   59.569994   23.012503\n",
              "     Georgia        11         38.208604   61.791396   23.582791\n",
              "     Texas          27         36.606226   60.320797   23.714571\n",
              "     Wisconsin      5          37.987801   61.934239   23.946438\n",
              "     South Dakota   0          36.013843   60.346796   24.332953\n",
              "     Florida        17         37.741208   62.258792   24.517583\n",
              "                    19         37.721837   62.267562   24.545725\n",
              "     Texas          5          37.548149   62.344934   24.796785\n",
              "     Michigan       4          37.375899   62.624101   25.248202\n",
              "                    10         34.996238   60.319932   25.323694\n",
              "     Mississippi    3          36.716536   62.301620   25.585083\n",
              "     Georgia        10         37.108032   62.891968   25.783936\n",
              "     Alabama        1          36.776483   63.156333   26.379850\n",
              "     Ohio           5          35.137174   62.256141   27.118967\n",
              "     Wisconsin      8          36.275679   63.694209   27.418531\n",
              "     Alabama        3          36.218442   63.717310   27.498868\n",
              "     Indiana        4          35.939975   64.060025   28.120051\n",
              "                    8          35.570283   64.429717   28.859434\n",
              "     Tennessee      3          34.476431   63.683600   29.207169\n",
              "     Indiana        3          35.273706   64.726294   29.452588\n",
              "     Tennessee      4          33.583422   63.378088   29.794666\n",
              "     Oklahoma       4          32.998927   63.061300   30.062374\n",
              "     Florida        11         34.843785   65.140433   30.296648\n",
              "     Texas          12         33.890894   64.269193   30.378299\n",
              "     Virginia       9          34.753016   65.160337   30.407320\n",
              "     Ohio           4          34.735922   65.264078   30.528156\n",
              "     Louisiana      4          33.629975   64.243425   30.613449\n",
              "     Indiana        6          32.859519   63.816056   30.956538\n",
              "     Georgia        3          34.473697   65.526303   31.052606\n",
              "     Idaho          1          30.762151   62.754190   31.992040\n",
              "     Pennsylvania   12         33.962489   66.037511   32.075023\n",
              "     Florida        4          32.354446   65.159515   32.805070\n",
              "     Tennessee      2          33.062479   65.941847   32.879367\n",
              "     Ohio           8          33.423964   66.576036   33.152072\n",
              "     Wyoming        0          29.766205   63.585679   33.819474\n",
              "     Florida        1          32.941363   67.058637   34.117275\n",
              "     Mississippi    1          32.386553   66.905264   34.518711\n",
              "     Tennessee      7          32.101469   66.856013   34.754544\n",
              "     Florida        2          32.558667   67.441333   34.882667\n",
              "     Oklahoma       2          30.102036   65.023009   34.920973\n",
              "     Pennsylvania   15         32.157637   67.842363   35.684726\n",
              "     Kansas         1          31.854523   68.145477   36.290954\n",
              "     Louisiana      5          29.970618   66.541934   36.571316\n",
              "     Utah           1          24.891776   61.608993   36.717217\n",
              "     South Carolina 3          30.965854   67.787484   36.821630\n",
              "     Mississippi    4          30.745267   68.221354   37.476087\n",
              "     Tennessee      8          30.101270   67.659909   37.558638\n",
              "     Arizona        4          30.509141   68.165394   37.656253\n",
              "     Louisiana      3          30.378177   68.415446   38.037269\n",
              "     Alabama        6          30.770889   69.178092   38.407203\n",
              "     Ohio           6          30.749128   69.250872   38.501744\n",
              "     Utah           3          27.306863   67.549004   40.242140\n",
              "     Louisiana      6          28.569407   69.473233   40.903826\n",
              "     Pennsylvania   13         29.507711   70.492289   40.984577\n",
              "     Tennessee      6          28.290585   69.474150   41.183565\n",
              "     Louisiana      1          26.555648   71.495405   44.939757\n",
              "     Texas          36         27.441475   72.558525   45.117050\n",
              "                    1          26.324768   72.260657   45.935889\n",
              "     Oklahoma       3          26.126076   73.873924   47.747848\n",
              "     Texas          8          24.867299   73.441081   48.573782\n",
              "                    19         24.773622   75.226378   50.452756\n",
              "                    4          23.029549   75.695400   52.665851\n",
              "     Georgia        14         23.498198   76.501802   53.003604\n",
              "     Nebraska       3          23.278513   76.721487   53.442973\n",
              "     Tennessee      1          21.017291   77.061467   56.044177\n",
              "     Georgia        9          20.494527   79.505473   59.010946\n",
              "     Alabama        4          20.129108   79.774775   59.645667\n",
              "     North Dakota   0           0.000000   60.201784   60.201784\n",
              "     Texas          11         18.437042   80.136766   61.699724\n",
              "                    13         16.925007   81.543286   64.618279\n",
              "     Georgia        8           0.000000  100.000000  100.000000"
            ]
          },
          "metadata": {
            "tags": []
          },
          "execution_count": 639
        }
      ]
    },
    {
      "cell_type": "code",
      "metadata": {
        "id": "JGu5DFVNcVSv",
        "colab_type": "code",
        "colab": {},
        "outputId": "25c97e2b-42e7-43b4-aa7a-6a816a61a774"
      },
      "source": [
        "dem_state_results[2018]['results'][0].sort_values(by='rep_margin')"
      ],
      "execution_count": null,
      "outputs": [
        {
          "output_type": "execute_result",
          "data": {
            "text/html": [
              "<div>\n",
              "<style scoped>\n",
              "    .dataframe tbody tr th:only-of-type {\n",
              "        vertical-align: middle;\n",
              "    }\n",
              "\n",
              "    .dataframe tbody tr th {\n",
              "        vertical-align: top;\n",
              "    }\n",
              "\n",
              "    .dataframe thead th {\n",
              "        text-align: right;\n",
              "    }\n",
              "</style>\n",
              "<table border=\"1\" class=\"dataframe\">\n",
              "  <thead>\n",
              "    <tr style=\"text-align: right;\">\n",
              "      <th></th>\n",
              "      <th></th>\n",
              "      <th></th>\n",
              "      <th>dem_pct</th>\n",
              "      <th>rep_pct</th>\n",
              "      <th>rep_margin</th>\n",
              "    </tr>\n",
              "    <tr>\n",
              "      <th>year</th>\n",
              "      <th>state</th>\n",
              "      <th>district</th>\n",
              "      <th></th>\n",
              "      <th></th>\n",
              "      <th></th>\n",
              "    </tr>\n",
              "  </thead>\n",
              "  <tbody>\n",
              "    <tr>\n",
              "      <th rowspan=\"193\" valign=\"top\">2018</th>\n",
              "      <th>Washington</th>\n",
              "      <th>9</th>\n",
              "      <td>100.000000</td>\n",
              "      <td>0.000000</td>\n",
              "      <td>-100.000000</td>\n",
              "    </tr>\n",
              "    <tr>\n",
              "      <th rowspan=\"3\" valign=\"top\">California</th>\n",
              "      <th>44</th>\n",
              "      <td>100.000000</td>\n",
              "      <td>0.000000</td>\n",
              "      <td>-100.000000</td>\n",
              "    </tr>\n",
              "    <tr>\n",
              "      <th>6</th>\n",
              "      <td>100.000000</td>\n",
              "      <td>0.000000</td>\n",
              "      <td>-100.000000</td>\n",
              "    </tr>\n",
              "    <tr>\n",
              "      <th>27</th>\n",
              "      <td>100.000000</td>\n",
              "      <td>0.000000</td>\n",
              "      <td>-100.000000</td>\n",
              "    </tr>\n",
              "    <tr>\n",
              "      <th>New York</th>\n",
              "      <th>5</th>\n",
              "      <td>99.398654</td>\n",
              "      <td>0.000000</td>\n",
              "      <td>-99.398654</td>\n",
              "    </tr>\n",
              "    <tr>\n",
              "      <th rowspan=\"4\" valign=\"top\">Massachusetts</th>\n",
              "      <th>8</th>\n",
              "      <td>98.424653</td>\n",
              "      <td>0.000000</td>\n",
              "      <td>-98.424653</td>\n",
              "    </tr>\n",
              "    <tr>\n",
              "      <th>7</th>\n",
              "      <td>98.252356</td>\n",
              "      <td>0.000000</td>\n",
              "      <td>-98.252356</td>\n",
              "    </tr>\n",
              "    <tr>\n",
              "      <th>4</th>\n",
              "      <td>97.718472</td>\n",
              "      <td>0.000000</td>\n",
              "      <td>-97.718472</td>\n",
              "    </tr>\n",
              "    <tr>\n",
              "      <th>1</th>\n",
              "      <td>97.644076</td>\n",
              "      <td>0.000000</td>\n",
              "      <td>-97.644076</td>\n",
              "    </tr>\n",
              "    <tr>\n",
              "      <th rowspan=\"3\" valign=\"top\">New York</th>\n",
              "      <th>16</th>\n",
              "      <td>94.251074</td>\n",
              "      <td>0.000000</td>\n",
              "      <td>-94.251074</td>\n",
              "    </tr>\n",
              "    <tr>\n",
              "      <th>15</th>\n",
              "      <td>94.031645</td>\n",
              "      <td>3.519048</td>\n",
              "      <td>-90.512597</td>\n",
              "    </tr>\n",
              "    <tr>\n",
              "      <th>8</th>\n",
              "      <td>89.185507</td>\n",
              "      <td>0.000000</td>\n",
              "      <td>-89.185507</td>\n",
              "    </tr>\n",
              "    <tr>\n",
              "      <th>California</th>\n",
              "      <th>13</th>\n",
              "      <td>88.381038</td>\n",
              "      <td>0.000000</td>\n",
              "      <td>-88.381038</td>\n",
              "    </tr>\n",
              "    <tr>\n",
              "      <th rowspan=\"4\" valign=\"top\">New York</th>\n",
              "      <th>7</th>\n",
              "      <td>85.265922</td>\n",
              "      <td>0.000000</td>\n",
              "      <td>-85.265922</td>\n",
              "    </tr>\n",
              "    <tr>\n",
              "      <th>13</th>\n",
              "      <td>89.854107</td>\n",
              "      <td>5.000315</td>\n",
              "      <td>-84.853793</td>\n",
              "    </tr>\n",
              "    <tr>\n",
              "      <th>6</th>\n",
              "      <td>84.501827</td>\n",
              "      <td>0.000000</td>\n",
              "      <td>-84.501827</td>\n",
              "    </tr>\n",
              "    <tr>\n",
              "      <th>17</th>\n",
              "      <td>82.502154</td>\n",
              "      <td>0.000000</td>\n",
              "      <td>-82.502154</td>\n",
              "    </tr>\n",
              "    <tr>\n",
              "      <th rowspan=\"4\" valign=\"top\">California</th>\n",
              "      <th>20</th>\n",
              "      <td>81.373465</td>\n",
              "      <td>0.000000</td>\n",
              "      <td>-81.373465</td>\n",
              "    </tr>\n",
              "    <tr>\n",
              "      <th>5</th>\n",
              "      <td>78.868124</td>\n",
              "      <td>0.000000</td>\n",
              "      <td>-78.868124</td>\n",
              "    </tr>\n",
              "    <tr>\n",
              "      <th>37</th>\n",
              "      <td>89.075548</td>\n",
              "      <td>10.924452</td>\n",
              "      <td>-78.151097</td>\n",
              "    </tr>\n",
              "    <tr>\n",
              "      <th>40</th>\n",
              "      <td>77.347693</td>\n",
              "      <td>0.000000</td>\n",
              "      <td>-77.347693</td>\n",
              "    </tr>\n",
              "    <tr>\n",
              "      <th>Illinois</th>\n",
              "      <th>7</th>\n",
              "      <td>87.615079</td>\n",
              "      <td>12.384921</td>\n",
              "      <td>-75.230159</td>\n",
              "    </tr>\n",
              "    <tr>\n",
              "      <th>California</th>\n",
              "      <th>12</th>\n",
              "      <td>86.823182</td>\n",
              "      <td>13.176818</td>\n",
              "      <td>-73.646364</td>\n",
              "    </tr>\n",
              "    <tr>\n",
              "      <th>Illinois</th>\n",
              "      <th>4</th>\n",
              "      <td>86.585153</td>\n",
              "      <td>13.414847</td>\n",
              "      <td>-73.170306</td>\n",
              "    </tr>\n",
              "    <tr>\n",
              "      <th>New York</th>\n",
              "      <th>9</th>\n",
              "      <td>82.227182</td>\n",
              "      <td>9.193651</td>\n",
              "      <td>-73.033531</td>\n",
              "    </tr>\n",
              "    <tr>\n",
              "      <th>California</th>\n",
              "      <th>34</th>\n",
              "      <td>72.541572</td>\n",
              "      <td>0.000000</td>\n",
              "      <td>-72.541572</td>\n",
              "    </tr>\n",
              "    <tr>\n",
              "      <th>Washington</th>\n",
              "      <th>2</th>\n",
              "      <td>71.290188</td>\n",
              "      <td>0.000000</td>\n",
              "      <td>-71.290188</td>\n",
              "    </tr>\n",
              "    <tr>\n",
              "      <th>New York</th>\n",
              "      <th>12</th>\n",
              "      <td>81.729574</td>\n",
              "      <td>12.087646</td>\n",
              "      <td>-69.641928</td>\n",
              "    </tr>\n",
              "    <tr>\n",
              "      <th>Washington</th>\n",
              "      <th>7</th>\n",
              "      <td>83.561154</td>\n",
              "      <td>16.438846</td>\n",
              "      <td>-67.122309</td>\n",
              "    </tr>\n",
              "    <tr>\n",
              "      <th>New York</th>\n",
              "      <th>14</th>\n",
              "      <td>78.126682</td>\n",
              "      <td>13.598765</td>\n",
              "      <td>-64.527917</td>\n",
              "    </tr>\n",
              "    <tr>\n",
              "      <th>Missouri</th>\n",
              "      <th>1</th>\n",
              "      <td>80.102415</td>\n",
              "      <td>16.716902</td>\n",
              "      <td>-63.385513</td>\n",
              "    </tr>\n",
              "    <tr>\n",
              "      <th>Illinois</th>\n",
              "      <th>2</th>\n",
              "      <td>81.055553</td>\n",
              "      <td>18.944447</td>\n",
              "      <td>-62.111107</td>\n",
              "    </tr>\n",
              "    <tr>\n",
              "      <th>California</th>\n",
              "      <th>29</th>\n",
              "      <td>80.609857</td>\n",
              "      <td>19.390143</td>\n",
              "      <td>-61.219714</td>\n",
              "    </tr>\n",
              "    <tr>\n",
              "      <th>New York</th>\n",
              "      <th>10</th>\n",
              "      <td>76.854635</td>\n",
              "      <td>15.970952</td>\n",
              "      <td>-60.883683</td>\n",
              "    </tr>\n",
              "    <tr>\n",
              "      <th>California</th>\n",
              "      <th>14</th>\n",
              "      <td>79.222556</td>\n",
              "      <td>20.777444</td>\n",
              "      <td>-58.445112</td>\n",
              "    </tr>\n",
              "    <tr>\n",
              "      <th>Maryland</th>\n",
              "      <th>4</th>\n",
              "      <td>78.054828</td>\n",
              "      <td>19.854942</td>\n",
              "      <td>-58.199886</td>\n",
              "    </tr>\n",
              "    <tr>\n",
              "      <th rowspan=\"2\" valign=\"top\">California</th>\n",
              "      <th>28</th>\n",
              "      <td>78.372002</td>\n",
              "      <td>21.627998</td>\n",
              "      <td>-56.744004</td>\n",
              "    </tr>\n",
              "    <tr>\n",
              "      <th>43</th>\n",
              "      <td>77.669190</td>\n",
              "      <td>22.330810</td>\n",
              "      <td>-55.338380</td>\n",
              "    </tr>\n",
              "    <tr>\n",
              "      <th>Maryland</th>\n",
              "      <th>7</th>\n",
              "      <td>76.440255</td>\n",
              "      <td>21.255714</td>\n",
              "      <td>-55.184542</td>\n",
              "    </tr>\n",
              "    <tr>\n",
              "      <th>Hawaii</th>\n",
              "      <th>2</th>\n",
              "      <td>77.362319</td>\n",
              "      <td>22.637681</td>\n",
              "      <td>-54.724638</td>\n",
              "    </tr>\n",
              "    <tr>\n",
              "      <th>California</th>\n",
              "      <th>2</th>\n",
              "      <td>77.007955</td>\n",
              "      <td>22.992045</td>\n",
              "      <td>-54.015910</td>\n",
              "    </tr>\n",
              "    <tr>\n",
              "      <th rowspan=\"2\" valign=\"top\">Illinois</th>\n",
              "      <th>1</th>\n",
              "      <td>73.505632</td>\n",
              "      <td>19.760746</td>\n",
              "      <td>-53.744886</td>\n",
              "    </tr>\n",
              "    <tr>\n",
              "      <th>5</th>\n",
              "      <td>76.663645</td>\n",
              "      <td>23.334563</td>\n",
              "      <td>-53.329082</td>\n",
              "    </tr>\n",
              "    <tr>\n",
              "      <th>Oregon</th>\n",
              "      <th>3</th>\n",
              "      <td>72.599564</td>\n",
              "      <td>19.823535</td>\n",
              "      <td>-52.776029</td>\n",
              "    </tr>\n",
              "    <tr>\n",
              "      <th>Massachusetts</th>\n",
              "      <th>5</th>\n",
              "      <td>75.883324</td>\n",
              "      <td>24.044404</td>\n",
              "      <td>-51.838920</td>\n",
              "    </tr>\n",
              "    <tr>\n",
              "      <th>Colorado</th>\n",
              "      <th>1</th>\n",
              "      <td>73.814219</td>\n",
              "      <td>23.048043</td>\n",
              "      <td>-50.766176</td>\n",
              "    </tr>\n",
              "    <tr>\n",
              "      <th>California</th>\n",
              "      <th>17</th>\n",
              "      <td>75.347364</td>\n",
              "      <td>24.652636</td>\n",
              "      <td>-50.694727</td>\n",
              "    </tr>\n",
              "    <tr>\n",
              "      <th>Hawaii</th>\n",
              "      <th>1</th>\n",
              "      <td>73.095526</td>\n",
              "      <td>23.070284</td>\n",
              "      <td>-50.025243</td>\n",
              "    </tr>\n",
              "    <tr>\n",
              "      <th>California</th>\n",
              "      <th>18</th>\n",
              "      <td>74.491626</td>\n",
              "      <td>25.508374</td>\n",
              "      <td>-48.983252</td>\n",
              "    </tr>\n",
              "    <tr>\n",
              "      <th>North Carolina</th>\n",
              "      <th>4</th>\n",
              "      <td>72.368140</td>\n",
              "      <td>24.033767</td>\n",
              "      <td>-48.334373</td>\n",
              "    </tr>\n",
              "    <tr>\n",
              "      <th rowspan=\"2\" valign=\"top\">California</th>\n",
              "      <th>11</th>\n",
              "      <td>74.132421</td>\n",
              "      <td>25.867579</td>\n",
              "      <td>-48.264842</td>\n",
              "    </tr>\n",
              "    <tr>\n",
              "      <th>19</th>\n",
              "      <td>73.754874</td>\n",
              "      <td>26.245126</td>\n",
              "      <td>-47.509747</td>\n",
              "    </tr>\n",
              "    <tr>\n",
              "      <th rowspan=\"2\" valign=\"top\">Illinois</th>\n",
              "      <th>3</th>\n",
              "      <td>73.008588</td>\n",
              "      <td>25.918579</td>\n",
              "      <td>-47.090009</td>\n",
              "    </tr>\n",
              "    <tr>\n",
              "      <th>9</th>\n",
              "      <td>73.486229</td>\n",
              "      <td>26.513771</td>\n",
              "      <td>-46.972457</td>\n",
              "    </tr>\n",
              "    <tr>\n",
              "      <th>California</th>\n",
              "      <th>30</th>\n",
              "      <td>73.401585</td>\n",
              "      <td>26.598415</td>\n",
              "      <td>-46.803171</td>\n",
              "    </tr>\n",
              "    <tr>\n",
              "      <th>North Carolina</th>\n",
              "      <th>12</th>\n",
              "      <td>73.072817</td>\n",
              "      <td>26.927183</td>\n",
              "      <td>-46.145634</td>\n",
              "    </tr>\n",
              "    <tr>\n",
              "      <th>California</th>\n",
              "      <th>15</th>\n",
              "      <td>72.967544</td>\n",
              "      <td>27.032456</td>\n",
              "      <td>-45.935088</td>\n",
              "    </tr>\n",
              "    <tr>\n",
              "      <th>Vermont</th>\n",
              "      <th>0</th>\n",
              "      <td>69.204004</td>\n",
              "      <td>25.951455</td>\n",
              "      <td>-43.252548</td>\n",
              "    </tr>\n",
              "    <tr>\n",
              "      <th>Maryland</th>\n",
              "      <th>5</th>\n",
              "      <td>70.279315</td>\n",
              "      <td>27.073821</td>\n",
              "      <td>-43.205494</td>\n",
              "    </tr>\n",
              "    <tr>\n",
              "      <th>California</th>\n",
              "      <th>51</th>\n",
              "      <td>71.200952</td>\n",
              "      <td>28.799048</td>\n",
              "      <td>-42.401903</td>\n",
              "    </tr>\n",
              "    <tr>\n",
              "      <th>New York</th>\n",
              "      <th>26</th>\n",
              "      <td>68.050793</td>\n",
              "      <td>26.657071</td>\n",
              "      <td>-41.393722</td>\n",
              "    </tr>\n",
              "    <tr>\n",
              "      <th>Maryland</th>\n",
              "      <th>3</th>\n",
              "      <td>69.109191</td>\n",
              "      <td>28.262087</td>\n",
              "      <td>-40.847105</td>\n",
              "    </tr>\n",
              "    <tr>\n",
              "      <th>California</th>\n",
              "      <th>33</th>\n",
              "      <td>70.028447</td>\n",
              "      <td>29.971553</td>\n",
              "      <td>-40.056894</td>\n",
              "    </tr>\n",
              "    <tr>\n",
              "      <th>North Carolina</th>\n",
              "      <th>1</th>\n",
              "      <td>69.847621</td>\n",
              "      <td>30.152379</td>\n",
              "      <td>-39.695242</td>\n",
              "    </tr>\n",
              "    <tr>\n",
              "      <th rowspan=\"3\" valign=\"top\">California</th>\n",
              "      <th>35</th>\n",
              "      <td>69.398218</td>\n",
              "      <td>30.601782</td>\n",
              "      <td>-38.796435</td>\n",
              "    </tr>\n",
              "    <tr>\n",
              "      <th>46</th>\n",
              "      <td>69.146002</td>\n",
              "      <td>30.853998</td>\n",
              "      <td>-38.292004</td>\n",
              "    </tr>\n",
              "    <tr>\n",
              "      <th>53</th>\n",
              "      <td>69.074086</td>\n",
              "      <td>30.925914</td>\n",
              "      <td>-38.148173</td>\n",
              "    </tr>\n",
              "    <tr>\n",
              "      <th>Maryland</th>\n",
              "      <th>8</th>\n",
              "      <td>68.167413</td>\n",
              "      <td>30.227351</td>\n",
              "      <td>-37.940062</td>\n",
              "    </tr>\n",
              "    <tr>\n",
              "      <th rowspan=\"2\" valign=\"top\">California</th>\n",
              "      <th>38</th>\n",
              "      <td>68.851778</td>\n",
              "      <td>31.148222</td>\n",
              "      <td>-37.703556</td>\n",
              "    </tr>\n",
              "    <tr>\n",
              "      <th>32</th>\n",
              "      <td>68.778350</td>\n",
              "      <td>31.221650</td>\n",
              "      <td>-37.556699</td>\n",
              "    </tr>\n",
              "    <tr>\n",
              "      <th>Maryland</th>\n",
              "      <th>2</th>\n",
              "      <td>66.008559</td>\n",
              "      <td>30.707219</td>\n",
              "      <td>-35.301340</td>\n",
              "    </tr>\n",
              "    <tr>\n",
              "      <th rowspan=\"2\" valign=\"top\">Massachusetts</th>\n",
              "      <th>2</th>\n",
              "      <td>67.159249</td>\n",
              "      <td>32.781079</td>\n",
              "      <td>-34.378170</td>\n",
              "    </tr>\n",
              "    <tr>\n",
              "      <th>6</th>\n",
              "      <td>65.185418</td>\n",
              "      <td>31.378995</td>\n",
              "      <td>-33.806423</td>\n",
              "    </tr>\n",
              "    <tr>\n",
              "      <th>Rhode Island</th>\n",
              "      <th>1</th>\n",
              "      <td>66.691750</td>\n",
              "      <td>33.068709</td>\n",
              "      <td>-33.623042</td>\n",
              "    </tr>\n",
              "    <tr>\n",
              "      <th>Illinois</th>\n",
              "      <th>8</th>\n",
              "      <td>65.974727</td>\n",
              "      <td>34.025273</td>\n",
              "      <td>-31.949454</td>\n",
              "    </tr>\n",
              "    <tr>\n",
              "      <th>Oregon</th>\n",
              "      <th>1</th>\n",
              "      <td>63.647250</td>\n",
              "      <td>32.056799</td>\n",
              "      <td>-31.590452</td>\n",
              "    </tr>\n",
              "    <tr>\n",
              "      <th>Illinois</th>\n",
              "      <th>10</th>\n",
              "      <td>65.590118</td>\n",
              "      <td>34.409882</td>\n",
              "      <td>-31.180237</td>\n",
              "    </tr>\n",
              "    <tr>\n",
              "      <th rowspan=\"2\" valign=\"top\">California</th>\n",
              "      <th>41</th>\n",
              "      <td>65.099731</td>\n",
              "      <td>34.900269</td>\n",
              "      <td>-30.199461</td>\n",
              "    </tr>\n",
              "    <tr>\n",
              "      <th>47</th>\n",
              "      <td>64.855499</td>\n",
              "      <td>35.144501</td>\n",
              "      <td>-29.710997</td>\n",
              "    </tr>\n",
              "    <tr>\n",
              "      <th>Delaware</th>\n",
              "      <th>0</th>\n",
              "      <td>64.453970</td>\n",
              "      <td>35.546030</td>\n",
              "      <td>-28.907940</td>\n",
              "    </tr>\n",
              "    <tr>\n",
              "      <th>Massachusetts</th>\n",
              "      <th>3</th>\n",
              "      <td>61.997229</td>\n",
              "      <td>33.453622</td>\n",
              "      <td>-28.543607</td>\n",
              "    </tr>\n",
              "    <tr>\n",
              "      <th>Washington</th>\n",
              "      <th>6</th>\n",
              "      <td>63.886705</td>\n",
              "      <td>36.113295</td>\n",
              "      <td>-27.773410</td>\n",
              "    </tr>\n",
              "    <tr>\n",
              "      <th>California</th>\n",
              "      <th>52</th>\n",
              "      <td>63.847139</td>\n",
              "      <td>36.152861</td>\n",
              "      <td>-27.694278</td>\n",
              "    </tr>\n",
              "    <tr>\n",
              "      <th>Illinois</th>\n",
              "      <th>11</th>\n",
              "      <td>63.840801</td>\n",
              "      <td>36.159199</td>\n",
              "      <td>-27.681602</td>\n",
              "    </tr>\n",
              "    <tr>\n",
              "      <th>Rhode Island</th>\n",
              "      <th>2</th>\n",
              "      <td>63.492924</td>\n",
              "      <td>36.281169</td>\n",
              "      <td>-27.211755</td>\n",
              "    </tr>\n",
              "    <tr>\n",
              "      <th>New York</th>\n",
              "      <th>20</th>\n",
              "      <td>60.647184</td>\n",
              "      <td>33.478689</td>\n",
              "      <td>-27.168495</td>\n",
              "    </tr>\n",
              "    <tr>\n",
              "      <th>Colorado</th>\n",
              "      <th>2</th>\n",
              "      <td>60.287868</td>\n",
              "      <td>33.649858</td>\n",
              "      <td>-26.638010</td>\n",
              "    </tr>\n",
              "    <tr>\n",
              "      <th>Missouri</th>\n",
              "      <th>5</th>\n",
              "      <td>61.673098</td>\n",
              "      <td>35.614638</td>\n",
              "      <td>-26.058460</td>\n",
              "    </tr>\n",
              "    <tr>\n",
              "      <th>Connecticut</th>\n",
              "      <th>1</th>\n",
              "      <td>60.609543</td>\n",
              "      <td>35.027358</td>\n",
              "      <td>-25.582184</td>\n",
              "    </tr>\n",
              "    <tr>\n",
              "      <th>New York</th>\n",
              "      <th>4</th>\n",
              "      <td>60.232278</td>\n",
              "      <td>34.705579</td>\n",
              "      <td>-25.526698</td>\n",
              "    </tr>\n",
              "    <tr>\n",
              "      <th>Kentucky</th>\n",
              "      <th>3</th>\n",
              "      <td>62.070178</td>\n",
              "      <td>36.570752</td>\n",
              "      <td>-25.499426</td>\n",
              "    </tr>\n",
              "    <tr>\n",
              "      <th>Colorado</th>\n",
              "      <th>7</th>\n",
              "      <td>60.430880</td>\n",
              "      <td>35.423632</td>\n",
              "      <td>-25.007248</td>\n",
              "    </tr>\n",
              "    <tr>\n",
              "      <th>Connecticut</th>\n",
              "      <th>3</th>\n",
              "      <td>60.395058</td>\n",
              "      <td>35.400886</td>\n",
              "      <td>-24.994172</td>\n",
              "    </tr>\n",
              "    <tr>\n",
              "      <th>Illinois</th>\n",
              "      <th>17</th>\n",
              "      <td>62.093415</td>\n",
              "      <td>37.906585</td>\n",
              "      <td>-24.186830</td>\n",
              "    </tr>\n",
              "    <tr>\n",
              "      <th>California</th>\n",
              "      <th>26</th>\n",
              "      <td>61.942011</td>\n",
              "      <td>38.057989</td>\n",
              "      <td>-23.884021</td>\n",
              "    </tr>\n",
              "    <tr>\n",
              "      <th>Connecticut</th>\n",
              "      <th>4</th>\n",
              "      <td>61.210008</td>\n",
              "      <td>37.429576</td>\n",
              "      <td>-23.780433</td>\n",
              "    </tr>\n",
              "    <tr>\n",
              "      <th>Washington</th>\n",
              "      <th>10</th>\n",
              "      <td>61.544016</td>\n",
              "      <td>38.455984</td>\n",
              "      <td>-23.088031</td>\n",
              "    </tr>\n",
              "    <tr>\n",
              "      <th>Connecticut</th>\n",
              "      <th>2</th>\n",
              "      <td>57.990620</td>\n",
              "      <td>35.447263</td>\n",
              "      <td>-22.543357</td>\n",
              "    </tr>\n",
              "    <tr>\n",
              "      <th>Maryland</th>\n",
              "      <th>6</th>\n",
              "      <td>58.975211</td>\n",
              "      <td>37.985154</td>\n",
              "      <td>-20.990057</td>\n",
              "    </tr>\n",
              "    <tr>\n",
              "      <th rowspan=\"2\" valign=\"top\">New York</th>\n",
              "      <th>25</th>\n",
              "      <td>54.782689</td>\n",
              "      <td>33.815341</td>\n",
              "      <td>-20.967348</td>\n",
              "    </tr>\n",
              "    <tr>\n",
              "      <th>3</th>\n",
              "      <td>56.143143</td>\n",
              "      <td>36.963701</td>\n",
              "      <td>-19.179441</td>\n",
              "    </tr>\n",
              "    <tr>\n",
              "      <th>Massachusetts</th>\n",
              "      <th>9</th>\n",
              "      <td>59.379553</td>\n",
              "      <td>40.584019</td>\n",
              "      <td>-18.795535</td>\n",
              "    </tr>\n",
              "    <tr>\n",
              "      <th>Washington</th>\n",
              "      <th>1</th>\n",
              "      <td>59.267663</td>\n",
              "      <td>40.732337</td>\n",
              "      <td>-18.535326</td>\n",
              "    </tr>\n",
              "    <tr>\n",
              "      <th rowspan=\"4\" valign=\"top\">California</th>\n",
              "      <th>36</th>\n",
              "      <td>59.016560</td>\n",
              "      <td>40.983440</td>\n",
              "      <td>-18.033119</td>\n",
              "    </tr>\n",
              "    <tr>\n",
              "      <th>31</th>\n",
              "      <td>58.744500</td>\n",
              "      <td>41.255500</td>\n",
              "      <td>-17.489000</td>\n",
              "    </tr>\n",
              "    <tr>\n",
              "      <th>24</th>\n",
              "      <td>58.555502</td>\n",
              "      <td>41.444498</td>\n",
              "      <td>-17.111004</td>\n",
              "    </tr>\n",
              "    <tr>\n",
              "      <th>3</th>\n",
              "      <td>58.072947</td>\n",
              "      <td>41.927053</td>\n",
              "      <td>-16.145894</td>\n",
              "    </tr>\n",
              "    <tr>\n",
              "      <th>Oregon</th>\n",
              "      <th>4</th>\n",
              "      <td>55.970479</td>\n",
              "      <td>40.873387</td>\n",
              "      <td>-15.097092</td>\n",
              "    </tr>\n",
              "    <tr>\n",
              "      <th>California</th>\n",
              "      <th>16</th>\n",
              "      <td>57.545170</td>\n",
              "      <td>42.454830</td>\n",
              "      <td>-15.090341</td>\n",
              "    </tr>\n",
              "    <tr>\n",
              "      <th>New Hampshire</th>\n",
              "      <th>2</th>\n",
              "      <td>55.543519</td>\n",
              "      <td>42.183729</td>\n",
              "      <td>-13.359790</td>\n",
              "    </tr>\n",
              "    <tr>\n",
              "      <th>Oregon</th>\n",
              "      <th>5</th>\n",
              "      <td>55.008104</td>\n",
              "      <td>41.813100</td>\n",
              "      <td>-13.195004</td>\n",
              "    </tr>\n",
              "    <tr>\n",
              "      <th rowspan=\"2\" valign=\"top\">California</th>\n",
              "      <th>9</th>\n",
              "      <td>56.491485</td>\n",
              "      <td>43.508515</td>\n",
              "      <td>-12.982970</td>\n",
              "    </tr>\n",
              "    <tr>\n",
              "      <th>49</th>\n",
              "      <td>56.419008</td>\n",
              "      <td>43.580992</td>\n",
              "      <td>-12.838016</td>\n",
              "    </tr>\n",
              "    <tr>\n",
              "      <th>New York</th>\n",
              "      <th>18</th>\n",
              "      <td>50.207795</td>\n",
              "      <td>38.279232</td>\n",
              "      <td>-11.928563</td>\n",
              "    </tr>\n",
              "    <tr>\n",
              "      <th>Colorado</th>\n",
              "      <th>6</th>\n",
              "      <td>54.103173</td>\n",
              "      <td>42.871313</td>\n",
              "      <td>-11.231860</td>\n",
              "    </tr>\n",
              "    <tr>\n",
              "      <th>Connecticut</th>\n",
              "      <th>5</th>\n",
              "      <td>52.796456</td>\n",
              "      <td>42.542045</td>\n",
              "      <td>-10.254411</td>\n",
              "    </tr>\n",
              "    <tr>\n",
              "      <th rowspan=\"2\" valign=\"top\">California</th>\n",
              "      <th>7</th>\n",
              "      <td>55.044972</td>\n",
              "      <td>44.955028</td>\n",
              "      <td>-10.089945</td>\n",
              "    </tr>\n",
              "    <tr>\n",
              "      <th>25</th>\n",
              "      <td>54.366139</td>\n",
              "      <td>45.633861</td>\n",
              "      <td>-8.732277</td>\n",
              "    </tr>\n",
              "    <tr>\n",
              "      <th>New Hampshire</th>\n",
              "      <th>1</th>\n",
              "      <td>53.561207</td>\n",
              "      <td>45.009775</td>\n",
              "      <td>-8.551431</td>\n",
              "    </tr>\n",
              "    <tr>\n",
              "      <th rowspan=\"2\" valign=\"top\">New York</th>\n",
              "      <th>11</th>\n",
              "      <td>50.397298</td>\n",
              "      <td>41.858117</td>\n",
              "      <td>-8.539181</td>\n",
              "    </tr>\n",
              "    <tr>\n",
              "      <th>19</th>\n",
              "      <td>47.079372</td>\n",
              "      <td>38.996340</td>\n",
              "      <td>-8.083032</td>\n",
              "    </tr>\n",
              "    <tr>\n",
              "      <th>Illinois</th>\n",
              "      <th>6</th>\n",
              "      <td>53.575255</td>\n",
              "      <td>46.424745</td>\n",
              "      <td>-7.150511</td>\n",
              "    </tr>\n",
              "    <tr>\n",
              "      <th>California</th>\n",
              "      <th>48</th>\n",
              "      <td>53.551992</td>\n",
              "      <td>46.448008</td>\n",
              "      <td>-7.103985</td>\n",
              "    </tr>\n",
              "    <tr>\n",
              "      <th>Illinois</th>\n",
              "      <th>14</th>\n",
              "      <td>52.501859</td>\n",
              "      <td>47.498141</td>\n",
              "      <td>-5.003718</td>\n",
              "    </tr>\n",
              "    <tr>\n",
              "      <th>Washington</th>\n",
              "      <th>8</th>\n",
              "      <td>52.415055</td>\n",
              "      <td>47.584945</td>\n",
              "      <td>-4.830111</td>\n",
              "    </tr>\n",
              "    <tr>\n",
              "      <th>New York</th>\n",
              "      <th>27</th>\n",
              "      <td>44.923589</td>\n",
              "      <td>40.135296</td>\n",
              "      <td>-4.788293</td>\n",
              "    </tr>\n",
              "    <tr>\n",
              "      <th rowspan=\"3\" valign=\"top\">California</th>\n",
              "      <th>10</th>\n",
              "      <td>52.251014</td>\n",
              "      <td>47.748986</td>\n",
              "      <td>-4.502028</td>\n",
              "    </tr>\n",
              "    <tr>\n",
              "      <th>45</th>\n",
              "      <td>52.051007</td>\n",
              "      <td>47.948993</td>\n",
              "      <td>-4.102015</td>\n",
              "    </tr>\n",
              "    <tr>\n",
              "      <th>39</th>\n",
              "      <td>51.557123</td>\n",
              "      <td>48.442877</td>\n",
              "      <td>-3.114246</td>\n",
              "    </tr>\n",
              "    <tr>\n",
              "      <th rowspan=\"3\" valign=\"top\">New York</th>\n",
              "      <th>22</th>\n",
              "      <td>46.176536</td>\n",
              "      <td>43.837476</td>\n",
              "      <td>-2.339060</td>\n",
              "    </tr>\n",
              "    <tr>\n",
              "      <th>1</th>\n",
              "      <td>45.995786</td>\n",
              "      <td>45.014127</td>\n",
              "      <td>-0.981659</td>\n",
              "    </tr>\n",
              "    <tr>\n",
              "      <th>24</th>\n",
              "      <td>44.496059</td>\n",
              "      <td>43.588493</td>\n",
              "      <td>-0.907566</td>\n",
              "    </tr>\n",
              "    <tr>\n",
              "      <th>California</th>\n",
              "      <th>21</th>\n",
              "      <td>50.379348</td>\n",
              "      <td>49.620652</td>\n",
              "      <td>-0.758696</td>\n",
              "    </tr>\n",
              "    <tr>\n",
              "      <th>North Carolina</th>\n",
              "      <th>9</th>\n",
              "      <td>48.932678</td>\n",
              "      <td>49.252786</td>\n",
              "      <td>0.320108</td>\n",
              "    </tr>\n",
              "    <tr>\n",
              "      <th>Illinois</th>\n",
              "      <th>13</th>\n",
              "      <td>49.618977</td>\n",
              "      <td>50.378440</td>\n",
              "      <td>0.759463</td>\n",
              "    </tr>\n",
              "    <tr>\n",
              "      <th>New York</th>\n",
              "      <th>2</th>\n",
              "      <td>45.105859</td>\n",
              "      <td>46.665451</td>\n",
              "      <td>1.559592</td>\n",
              "    </tr>\n",
              "    <tr>\n",
              "      <th>Kentucky</th>\n",
              "      <th>6</th>\n",
              "      <td>47.785320</td>\n",
              "      <td>50.998389</td>\n",
              "      <td>3.213069</td>\n",
              "    </tr>\n",
              "    <tr>\n",
              "      <th>California</th>\n",
              "      <th>50</th>\n",
              "      <td>48.284516</td>\n",
              "      <td>51.715484</td>\n",
              "      <td>3.430969</td>\n",
              "    </tr>\n",
              "    <tr>\n",
              "      <th>Missouri</th>\n",
              "      <th>2</th>\n",
              "      <td>47.228678</td>\n",
              "      <td>51.181707</td>\n",
              "      <td>3.953030</td>\n",
              "    </tr>\n",
              "    <tr>\n",
              "      <th>Montana</th>\n",
              "      <th>0</th>\n",
              "      <td>46.247876</td>\n",
              "      <td>50.882299</td>\n",
              "      <td>4.634422</td>\n",
              "    </tr>\n",
              "    <tr>\n",
              "      <th>Washington</th>\n",
              "      <th>3</th>\n",
              "      <td>47.329002</td>\n",
              "      <td>52.670998</td>\n",
              "      <td>5.341996</td>\n",
              "    </tr>\n",
              "    <tr>\n",
              "      <th>California</th>\n",
              "      <th>22</th>\n",
              "      <td>47.277845</td>\n",
              "      <td>52.722155</td>\n",
              "      <td>5.444309</td>\n",
              "    </tr>\n",
              "    <tr>\n",
              "      <th>North Carolina</th>\n",
              "      <th>2</th>\n",
              "      <td>45.817054</td>\n",
              "      <td>51.272219</td>\n",
              "      <td>5.455165</td>\n",
              "    </tr>\n",
              "    <tr>\n",
              "      <th>New York</th>\n",
              "      <th>23</th>\n",
              "      <td>41.982078</td>\n",
              "      <td>47.726460</td>\n",
              "      <td>5.744382</td>\n",
              "    </tr>\n",
              "    <tr>\n",
              "      <th>North Carolina</th>\n",
              "      <th>13</th>\n",
              "      <td>45.544783</td>\n",
              "      <td>51.540955</td>\n",
              "      <td>5.996172</td>\n",
              "    </tr>\n",
              "    <tr>\n",
              "      <th>Illinois</th>\n",
              "      <th>12</th>\n",
              "      <td>45.393683</td>\n",
              "      <td>51.572399</td>\n",
              "      <td>6.178716</td>\n",
              "    </tr>\n",
              "    <tr>\n",
              "      <th>Arkansas</th>\n",
              "      <th>2</th>\n",
              "      <td>45.821119</td>\n",
              "      <td>52.129981</td>\n",
              "      <td>6.308862</td>\n",
              "    </tr>\n",
              "    <tr>\n",
              "      <th>Colorado</th>\n",
              "      <th>3</th>\n",
              "      <td>43.554667</td>\n",
              "      <td>51.520127</td>\n",
              "      <td>7.965460</td>\n",
              "    </tr>\n",
              "    <tr>\n",
              "      <th>California</th>\n",
              "      <th>4</th>\n",
              "      <td>45.868535</td>\n",
              "      <td>54.131465</td>\n",
              "      <td>8.262930</td>\n",
              "    </tr>\n",
              "    <tr>\n",
              "      <th>Washington</th>\n",
              "      <th>5</th>\n",
              "      <td>45.240005</td>\n",
              "      <td>54.759995</td>\n",
              "      <td>9.519989</td>\n",
              "    </tr>\n",
              "    <tr>\n",
              "      <th>California</th>\n",
              "      <th>1</th>\n",
              "      <td>45.113411</td>\n",
              "      <td>54.886589</td>\n",
              "      <td>9.773178</td>\n",
              "    </tr>\n",
              "    <tr>\n",
              "      <th>New York</th>\n",
              "      <th>21</th>\n",
              "      <td>39.697025</td>\n",
              "      <td>49.489729</td>\n",
              "      <td>9.792704</td>\n",
              "    </tr>\n",
              "    <tr>\n",
              "      <th>North Carolina</th>\n",
              "      <th>8</th>\n",
              "      <td>44.661300</td>\n",
              "      <td>55.338700</td>\n",
              "      <td>10.677400</td>\n",
              "    </tr>\n",
              "    <tr>\n",
              "      <th>West Virginia</th>\n",
              "      <th>2</th>\n",
              "      <td>42.975800</td>\n",
              "      <td>53.959139</td>\n",
              "      <td>10.983339</td>\n",
              "    </tr>\n",
              "    <tr>\n",
              "      <th>North Carolina</th>\n",
              "      <th>7</th>\n",
              "      <td>42.802998</td>\n",
              "      <td>55.544575</td>\n",
              "      <td>12.741577</td>\n",
              "    </tr>\n",
              "    <tr>\n",
              "      <th>West Virginia</th>\n",
              "      <th>3</th>\n",
              "      <td>43.626597</td>\n",
              "      <td>56.373403</td>\n",
              "      <td>12.746807</td>\n",
              "    </tr>\n",
              "    <tr>\n",
              "      <th>California</th>\n",
              "      <th>42</th>\n",
              "      <td>43.500681</td>\n",
              "      <td>56.499319</td>\n",
              "      <td>12.998638</td>\n",
              "    </tr>\n",
              "    <tr>\n",
              "      <th rowspan=\"2\" valign=\"top\">North Carolina</th>\n",
              "      <th>6</th>\n",
              "      <td>43.483964</td>\n",
              "      <td>56.516036</td>\n",
              "      <td>13.032072</td>\n",
              "    </tr>\n",
              "    <tr>\n",
              "      <th>5</th>\n",
              "      <td>42.965209</td>\n",
              "      <td>57.034791</td>\n",
              "      <td>14.069583</td>\n",
              "    </tr>\n",
              "    <tr>\n",
              "      <th>Oregon</th>\n",
              "      <th>2</th>\n",
              "      <td>39.407229</td>\n",
              "      <td>56.303752</td>\n",
              "      <td>16.896523</td>\n",
              "    </tr>\n",
              "    <tr>\n",
              "      <th>Colorado</th>\n",
              "      <th>5</th>\n",
              "      <td>39.315037</td>\n",
              "      <td>57.029243</td>\n",
              "      <td>17.714206</td>\n",
              "    </tr>\n",
              "    <tr>\n",
              "      <th>Illinois</th>\n",
              "      <th>16</th>\n",
              "      <td>40.875208</td>\n",
              "      <td>59.124011</td>\n",
              "      <td>18.248803</td>\n",
              "    </tr>\n",
              "    <tr>\n",
              "      <th rowspan=\"2\" valign=\"top\">North Carolina</th>\n",
              "      <th>10</th>\n",
              "      <td>40.707262</td>\n",
              "      <td>59.292738</td>\n",
              "      <td>18.585477</td>\n",
              "    </tr>\n",
              "    <tr>\n",
              "      <th>11</th>\n",
              "      <td>38.749975</td>\n",
              "      <td>59.205896</td>\n",
              "      <td>20.455921</td>\n",
              "    </tr>\n",
              "    <tr>\n",
              "      <th>Colorado</th>\n",
              "      <th>4</th>\n",
              "      <td>39.380706</td>\n",
              "      <td>60.619294</td>\n",
              "      <td>21.238588</td>\n",
              "    </tr>\n",
              "    <tr>\n",
              "      <th>Minnesota</th>\n",
              "      <th>5</th>\n",
              "      <td>0.000000</td>\n",
              "      <td>21.679996</td>\n",
              "      <td>21.679996</td>\n",
              "    </tr>\n",
              "    <tr>\n",
              "      <th>Maryland</th>\n",
              "      <th>1</th>\n",
              "      <td>38.098271</td>\n",
              "      <td>59.994382</td>\n",
              "      <td>21.896110</td>\n",
              "    </tr>\n",
              "    <tr>\n",
              "      <th>Washington</th>\n",
              "      <th>4</th>\n",
              "      <td>37.182252</td>\n",
              "      <td>62.817748</td>\n",
              "      <td>25.635495</td>\n",
              "    </tr>\n",
              "    <tr>\n",
              "      <th>California</th>\n",
              "      <th>23</th>\n",
              "      <td>36.283010</td>\n",
              "      <td>63.716990</td>\n",
              "      <td>27.433981</td>\n",
              "    </tr>\n",
              "    <tr>\n",
              "      <th>Kentucky</th>\n",
              "      <th>4</th>\n",
              "      <td>34.580539</td>\n",
              "      <td>62.237789</td>\n",
              "      <td>27.657250</td>\n",
              "    </tr>\n",
              "    <tr>\n",
              "      <th>West Virginia</th>\n",
              "      <th>1</th>\n",
              "      <td>35.424844</td>\n",
              "      <td>64.575156</td>\n",
              "      <td>29.150312</td>\n",
              "    </tr>\n",
              "    <tr>\n",
              "      <th>Minnesota</th>\n",
              "      <th>4</th>\n",
              "      <td>0.000000</td>\n",
              "      <td>29.745233</td>\n",
              "      <td>29.745233</td>\n",
              "    </tr>\n",
              "    <tr>\n",
              "      <th>Missouri</th>\n",
              "      <th>4</th>\n",
              "      <td>32.718297</td>\n",
              "      <td>64.823603</td>\n",
              "      <td>32.105306</td>\n",
              "    </tr>\n",
              "    <tr>\n",
              "      <th>Arkansas</th>\n",
              "      <th>3</th>\n",
              "      <td>32.629251</td>\n",
              "      <td>64.741759</td>\n",
              "      <td>32.112508</td>\n",
              "    </tr>\n",
              "    <tr>\n",
              "      <th rowspan=\"2\" valign=\"top\">Missouri</th>\n",
              "      <th>3</th>\n",
              "      <td>32.836221</td>\n",
              "      <td>65.076338</td>\n",
              "      <td>32.240117</td>\n",
              "    </tr>\n",
              "    <tr>\n",
              "      <th>6</th>\n",
              "      <td>31.976792</td>\n",
              "      <td>65.419159</td>\n",
              "      <td>33.442367</td>\n",
              "    </tr>\n",
              "    <tr>\n",
              "      <th>Illinois</th>\n",
              "      <th>18</th>\n",
              "      <td>32.766555</td>\n",
              "      <td>67.233445</td>\n",
              "      <td>34.466891</td>\n",
              "    </tr>\n",
              "    <tr>\n",
              "      <th>Arkansas</th>\n",
              "      <th>4</th>\n",
              "      <td>31.228159</td>\n",
              "      <td>66.737598</td>\n",
              "      <td>35.509439</td>\n",
              "    </tr>\n",
              "    <tr>\n",
              "      <th>Kentucky</th>\n",
              "      <th>2</th>\n",
              "      <td>31.072685</td>\n",
              "      <td>66.719773</td>\n",
              "      <td>35.647089</td>\n",
              "    </tr>\n",
              "    <tr>\n",
              "      <th>Missouri</th>\n",
              "      <th>7</th>\n",
              "      <td>30.085510</td>\n",
              "      <td>66.230288</td>\n",
              "      <td>36.144777</td>\n",
              "    </tr>\n",
              "    <tr>\n",
              "      <th>Kentucky</th>\n",
              "      <th>1</th>\n",
              "      <td>31.411942</td>\n",
              "      <td>68.588058</td>\n",
              "      <td>37.176116</td>\n",
              "    </tr>\n",
              "    <tr>\n",
              "      <th>Arkansas</th>\n",
              "      <th>1</th>\n",
              "      <td>28.774379</td>\n",
              "      <td>68.949291</td>\n",
              "      <td>40.174911</td>\n",
              "    </tr>\n",
              "    <tr>\n",
              "      <th>Illinois</th>\n",
              "      <th>15</th>\n",
              "      <td>29.071469</td>\n",
              "      <td>70.926575</td>\n",
              "      <td>41.855106</td>\n",
              "    </tr>\n",
              "    <tr>\n",
              "      <th rowspan=\"3\" valign=\"top\">Minnesota</th>\n",
              "      <th>3</th>\n",
              "      <td>0.000000</td>\n",
              "      <td>44.192730</td>\n",
              "      <td>44.192730</td>\n",
              "    </tr>\n",
              "    <tr>\n",
              "      <th>2</th>\n",
              "      <td>0.000000</td>\n",
              "      <td>47.147659</td>\n",
              "      <td>47.147659</td>\n",
              "    </tr>\n",
              "    <tr>\n",
              "      <th>7</th>\n",
              "      <td>0.000000</td>\n",
              "      <td>47.837902</td>\n",
              "      <td>47.837902</td>\n",
              "    </tr>\n",
              "    <tr>\n",
              "      <th>Missouri</th>\n",
              "      <th>8</th>\n",
              "      <td>25.019384</td>\n",
              "      <td>73.389839</td>\n",
              "      <td>48.370455</td>\n",
              "    </tr>\n",
              "    <tr>\n",
              "      <th rowspan=\"2\" valign=\"top\">Minnesota</th>\n",
              "      <th>1</th>\n",
              "      <td>0.000000</td>\n",
              "      <td>50.126688</td>\n",
              "      <td>50.126688</td>\n",
              "    </tr>\n",
              "    <tr>\n",
              "      <th>8</th>\n",
              "      <td>0.000000</td>\n",
              "      <td>50.718785</td>\n",
              "      <td>50.718785</td>\n",
              "    </tr>\n",
              "    <tr>\n",
              "      <th>Kentucky</th>\n",
              "      <th>5</th>\n",
              "      <td>21.048817</td>\n",
              "      <td>78.935588</td>\n",
              "      <td>57.886770</td>\n",
              "    </tr>\n",
              "    <tr>\n",
              "      <th>Minnesota</th>\n",
              "      <th>6</th>\n",
              "      <td>0.000000</td>\n",
              "      <td>61.107099</td>\n",
              "      <td>61.107099</td>\n",
              "    </tr>\n",
              "    <tr>\n",
              "      <th>California</th>\n",
              "      <th>8</th>\n",
              "      <td>0.000000</td>\n",
              "      <td>100.000000</td>\n",
              "      <td>100.000000</td>\n",
              "    </tr>\n",
              "    <tr>\n",
              "      <th>North Carolina</th>\n",
              "      <th>3</th>\n",
              "      <td>0.000000</td>\n",
              "      <td>100.000000</td>\n",
              "      <td>100.000000</td>\n",
              "    </tr>\n",
              "  </tbody>\n",
              "</table>\n",
              "</div>"
            ],
            "text/plain": [
              "                                 dem_pct     rep_pct  rep_margin\n",
              "year state          district                                    \n",
              "2018 Washington     9         100.000000    0.000000 -100.000000\n",
              "     California     44        100.000000    0.000000 -100.000000\n",
              "                    6         100.000000    0.000000 -100.000000\n",
              "                    27        100.000000    0.000000 -100.000000\n",
              "     New York       5          99.398654    0.000000  -99.398654\n",
              "     Massachusetts  8          98.424653    0.000000  -98.424653\n",
              "                    7          98.252356    0.000000  -98.252356\n",
              "                    4          97.718472    0.000000  -97.718472\n",
              "                    1          97.644076    0.000000  -97.644076\n",
              "     New York       16         94.251074    0.000000  -94.251074\n",
              "                    15         94.031645    3.519048  -90.512597\n",
              "                    8          89.185507    0.000000  -89.185507\n",
              "     California     13         88.381038    0.000000  -88.381038\n",
              "     New York       7          85.265922    0.000000  -85.265922\n",
              "                    13         89.854107    5.000315  -84.853793\n",
              "                    6          84.501827    0.000000  -84.501827\n",
              "                    17         82.502154    0.000000  -82.502154\n",
              "     California     20         81.373465    0.000000  -81.373465\n",
              "                    5          78.868124    0.000000  -78.868124\n",
              "                    37         89.075548   10.924452  -78.151097\n",
              "                    40         77.347693    0.000000  -77.347693\n",
              "     Illinois       7          87.615079   12.384921  -75.230159\n",
              "     California     12         86.823182   13.176818  -73.646364\n",
              "     Illinois       4          86.585153   13.414847  -73.170306\n",
              "     New York       9          82.227182    9.193651  -73.033531\n",
              "     California     34         72.541572    0.000000  -72.541572\n",
              "     Washington     2          71.290188    0.000000  -71.290188\n",
              "     New York       12         81.729574   12.087646  -69.641928\n",
              "     Washington     7          83.561154   16.438846  -67.122309\n",
              "     New York       14         78.126682   13.598765  -64.527917\n",
              "     Missouri       1          80.102415   16.716902  -63.385513\n",
              "     Illinois       2          81.055553   18.944447  -62.111107\n",
              "     California     29         80.609857   19.390143  -61.219714\n",
              "     New York       10         76.854635   15.970952  -60.883683\n",
              "     California     14         79.222556   20.777444  -58.445112\n",
              "     Maryland       4          78.054828   19.854942  -58.199886\n",
              "     California     28         78.372002   21.627998  -56.744004\n",
              "                    43         77.669190   22.330810  -55.338380\n",
              "     Maryland       7          76.440255   21.255714  -55.184542\n",
              "     Hawaii         2          77.362319   22.637681  -54.724638\n",
              "     California     2          77.007955   22.992045  -54.015910\n",
              "     Illinois       1          73.505632   19.760746  -53.744886\n",
              "                    5          76.663645   23.334563  -53.329082\n",
              "     Oregon         3          72.599564   19.823535  -52.776029\n",
              "     Massachusetts  5          75.883324   24.044404  -51.838920\n",
              "     Colorado       1          73.814219   23.048043  -50.766176\n",
              "     California     17         75.347364   24.652636  -50.694727\n",
              "     Hawaii         1          73.095526   23.070284  -50.025243\n",
              "     California     18         74.491626   25.508374  -48.983252\n",
              "     North Carolina 4          72.368140   24.033767  -48.334373\n",
              "     California     11         74.132421   25.867579  -48.264842\n",
              "                    19         73.754874   26.245126  -47.509747\n",
              "     Illinois       3          73.008588   25.918579  -47.090009\n",
              "                    9          73.486229   26.513771  -46.972457\n",
              "     California     30         73.401585   26.598415  -46.803171\n",
              "     North Carolina 12         73.072817   26.927183  -46.145634\n",
              "     California     15         72.967544   27.032456  -45.935088\n",
              "     Vermont        0          69.204004   25.951455  -43.252548\n",
              "     Maryland       5          70.279315   27.073821  -43.205494\n",
              "     California     51         71.200952   28.799048  -42.401903\n",
              "     New York       26         68.050793   26.657071  -41.393722\n",
              "     Maryland       3          69.109191   28.262087  -40.847105\n",
              "     California     33         70.028447   29.971553  -40.056894\n",
              "     North Carolina 1          69.847621   30.152379  -39.695242\n",
              "     California     35         69.398218   30.601782  -38.796435\n",
              "                    46         69.146002   30.853998  -38.292004\n",
              "                    53         69.074086   30.925914  -38.148173\n",
              "     Maryland       8          68.167413   30.227351  -37.940062\n",
              "     California     38         68.851778   31.148222  -37.703556\n",
              "                    32         68.778350   31.221650  -37.556699\n",
              "     Maryland       2          66.008559   30.707219  -35.301340\n",
              "     Massachusetts  2          67.159249   32.781079  -34.378170\n",
              "                    6          65.185418   31.378995  -33.806423\n",
              "     Rhode Island   1          66.691750   33.068709  -33.623042\n",
              "     Illinois       8          65.974727   34.025273  -31.949454\n",
              "     Oregon         1          63.647250   32.056799  -31.590452\n",
              "     Illinois       10         65.590118   34.409882  -31.180237\n",
              "     California     41         65.099731   34.900269  -30.199461\n",
              "                    47         64.855499   35.144501  -29.710997\n",
              "     Delaware       0          64.453970   35.546030  -28.907940\n",
              "     Massachusetts  3          61.997229   33.453622  -28.543607\n",
              "     Washington     6          63.886705   36.113295  -27.773410\n",
              "     California     52         63.847139   36.152861  -27.694278\n",
              "     Illinois       11         63.840801   36.159199  -27.681602\n",
              "     Rhode Island   2          63.492924   36.281169  -27.211755\n",
              "     New York       20         60.647184   33.478689  -27.168495\n",
              "     Colorado       2          60.287868   33.649858  -26.638010\n",
              "     Missouri       5          61.673098   35.614638  -26.058460\n",
              "     Connecticut    1          60.609543   35.027358  -25.582184\n",
              "     New York       4          60.232278   34.705579  -25.526698\n",
              "     Kentucky       3          62.070178   36.570752  -25.499426\n",
              "     Colorado       7          60.430880   35.423632  -25.007248\n",
              "     Connecticut    3          60.395058   35.400886  -24.994172\n",
              "     Illinois       17         62.093415   37.906585  -24.186830\n",
              "     California     26         61.942011   38.057989  -23.884021\n",
              "     Connecticut    4          61.210008   37.429576  -23.780433\n",
              "     Washington     10         61.544016   38.455984  -23.088031\n",
              "     Connecticut    2          57.990620   35.447263  -22.543357\n",
              "     Maryland       6          58.975211   37.985154  -20.990057\n",
              "     New York       25         54.782689   33.815341  -20.967348\n",
              "                    3          56.143143   36.963701  -19.179441\n",
              "     Massachusetts  9          59.379553   40.584019  -18.795535\n",
              "     Washington     1          59.267663   40.732337  -18.535326\n",
              "     California     36         59.016560   40.983440  -18.033119\n",
              "                    31         58.744500   41.255500  -17.489000\n",
              "                    24         58.555502   41.444498  -17.111004\n",
              "                    3          58.072947   41.927053  -16.145894\n",
              "     Oregon         4          55.970479   40.873387  -15.097092\n",
              "     California     16         57.545170   42.454830  -15.090341\n",
              "     New Hampshire  2          55.543519   42.183729  -13.359790\n",
              "     Oregon         5          55.008104   41.813100  -13.195004\n",
              "     California     9          56.491485   43.508515  -12.982970\n",
              "                    49         56.419008   43.580992  -12.838016\n",
              "     New York       18         50.207795   38.279232  -11.928563\n",
              "     Colorado       6          54.103173   42.871313  -11.231860\n",
              "     Connecticut    5          52.796456   42.542045  -10.254411\n",
              "     California     7          55.044972   44.955028  -10.089945\n",
              "                    25         54.366139   45.633861   -8.732277\n",
              "     New Hampshire  1          53.561207   45.009775   -8.551431\n",
              "     New York       11         50.397298   41.858117   -8.539181\n",
              "                    19         47.079372   38.996340   -8.083032\n",
              "     Illinois       6          53.575255   46.424745   -7.150511\n",
              "     California     48         53.551992   46.448008   -7.103985\n",
              "     Illinois       14         52.501859   47.498141   -5.003718\n",
              "     Washington     8          52.415055   47.584945   -4.830111\n",
              "     New York       27         44.923589   40.135296   -4.788293\n",
              "     California     10         52.251014   47.748986   -4.502028\n",
              "                    45         52.051007   47.948993   -4.102015\n",
              "                    39         51.557123   48.442877   -3.114246\n",
              "     New York       22         46.176536   43.837476   -2.339060\n",
              "                    1          45.995786   45.014127   -0.981659\n",
              "                    24         44.496059   43.588493   -0.907566\n",
              "     California     21         50.379348   49.620652   -0.758696\n",
              "     North Carolina 9          48.932678   49.252786    0.320108\n",
              "     Illinois       13         49.618977   50.378440    0.759463\n",
              "     New York       2          45.105859   46.665451    1.559592\n",
              "     Kentucky       6          47.785320   50.998389    3.213069\n",
              "     California     50         48.284516   51.715484    3.430969\n",
              "     Missouri       2          47.228678   51.181707    3.953030\n",
              "     Montana        0          46.247876   50.882299    4.634422\n",
              "     Washington     3          47.329002   52.670998    5.341996\n",
              "     California     22         47.277845   52.722155    5.444309\n",
              "     North Carolina 2          45.817054   51.272219    5.455165\n",
              "     New York       23         41.982078   47.726460    5.744382\n",
              "     North Carolina 13         45.544783   51.540955    5.996172\n",
              "     Illinois       12         45.393683   51.572399    6.178716\n",
              "     Arkansas       2          45.821119   52.129981    6.308862\n",
              "     Colorado       3          43.554667   51.520127    7.965460\n",
              "     California     4          45.868535   54.131465    8.262930\n",
              "     Washington     5          45.240005   54.759995    9.519989\n",
              "     California     1          45.113411   54.886589    9.773178\n",
              "     New York       21         39.697025   49.489729    9.792704\n",
              "     North Carolina 8          44.661300   55.338700   10.677400\n",
              "     West Virginia  2          42.975800   53.959139   10.983339\n",
              "     North Carolina 7          42.802998   55.544575   12.741577\n",
              "     West Virginia  3          43.626597   56.373403   12.746807\n",
              "     California     42         43.500681   56.499319   12.998638\n",
              "     North Carolina 6          43.483964   56.516036   13.032072\n",
              "                    5          42.965209   57.034791   14.069583\n",
              "     Oregon         2          39.407229   56.303752   16.896523\n",
              "     Colorado       5          39.315037   57.029243   17.714206\n",
              "     Illinois       16         40.875208   59.124011   18.248803\n",
              "     North Carolina 10         40.707262   59.292738   18.585477\n",
              "                    11         38.749975   59.205896   20.455921\n",
              "     Colorado       4          39.380706   60.619294   21.238588\n",
              "     Minnesota      5           0.000000   21.679996   21.679996\n",
              "     Maryland       1          38.098271   59.994382   21.896110\n",
              "     Washington     4          37.182252   62.817748   25.635495\n",
              "     California     23         36.283010   63.716990   27.433981\n",
              "     Kentucky       4          34.580539   62.237789   27.657250\n",
              "     West Virginia  1          35.424844   64.575156   29.150312\n",
              "     Minnesota      4           0.000000   29.745233   29.745233\n",
              "     Missouri       4          32.718297   64.823603   32.105306\n",
              "     Arkansas       3          32.629251   64.741759   32.112508\n",
              "     Missouri       3          32.836221   65.076338   32.240117\n",
              "                    6          31.976792   65.419159   33.442367\n",
              "     Illinois       18         32.766555   67.233445   34.466891\n",
              "     Arkansas       4          31.228159   66.737598   35.509439\n",
              "     Kentucky       2          31.072685   66.719773   35.647089\n",
              "     Missouri       7          30.085510   66.230288   36.144777\n",
              "     Kentucky       1          31.411942   68.588058   37.176116\n",
              "     Arkansas       1          28.774379   68.949291   40.174911\n",
              "     Illinois       15         29.071469   70.926575   41.855106\n",
              "     Minnesota      3           0.000000   44.192730   44.192730\n",
              "                    2           0.000000   47.147659   47.147659\n",
              "                    7           0.000000   47.837902   47.837902\n",
              "     Missouri       8          25.019384   73.389839   48.370455\n",
              "     Minnesota      1           0.000000   50.126688   50.126688\n",
              "                    8           0.000000   50.718785   50.718785\n",
              "     Kentucky       5          21.048817   78.935588   57.886770\n",
              "     Minnesota      6           0.000000   61.107099   61.107099\n",
              "     California     8           0.000000  100.000000  100.000000\n",
              "     North Carolina 3           0.000000  100.000000  100.000000"
            ]
          },
          "metadata": {
            "tags": []
          },
          "execution_count": 312
        }
      ]
    },
    {
      "cell_type": "code",
      "metadata": {
        "id": "VFYx9WA_cVSx",
        "colab_type": "code",
        "colab": {}
      },
      "source": [
        ""
      ],
      "execution_count": null,
      "outputs": []
    }
  ]
}